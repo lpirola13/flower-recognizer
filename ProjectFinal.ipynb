{
  "nbformat": 4,
  "nbformat_minor": 0,
  "metadata": {
    "colab": {
      "name": "ProjectFinal.ipynb",
      "provenance": [],
      "collapsed_sections": [
        "bWpNaV-IPClV",
        "IqqEhr3QQL3R",
        "iaD48DuNReQO",
        "Bx4lTO6GRedX",
        "0suVJSKrcvuP",
        "zrp2utHKRtD-",
        "USUVW0bgYB4K",
        "wly8YhpqQywg",
        "p3j1am0xYek7",
        "1fU0hq73QT1G",
        "CoSbXaJZcICz",
        "OkQOiQY6QT_k",
        "G2Zt4XZuQ6xP",
        "-yq0WcQaQ9Iu",
        "GR1j2BDbQ9YY",
        "itrpXBpeRMIJ"
      ],
      "toc_visible": true
    },
    "kernelspec": {
      "name": "python3",
      "display_name": "Python 3"
    },
    "widgets": {
      "application/vnd.jupyter.widget-state+json": {
        "163302feab2548d5b107cb610ca98cb3": {
          "model_module": "@jupyter-widgets/controls",
          "model_name": "HBoxModel",
          "state": {
            "_view_name": "HBoxView",
            "_dom_classes": [],
            "_model_name": "HBoxModel",
            "_view_module": "@jupyter-widgets/controls",
            "_model_module_version": "1.5.0",
            "_view_count": null,
            "_view_module_version": "1.5.0",
            "box_style": "",
            "layout": "IPY_MODEL_03d5a7fd8b9b44ed874454e18d6c117f",
            "_model_module": "@jupyter-widgets/controls",
            "children": [
              "IPY_MODEL_2c79539032124f0d8f4573fb6f59a4b2",
              "IPY_MODEL_081b9e061981433788c1daba55961ca5"
            ]
          }
        },
        "03d5a7fd8b9b44ed874454e18d6c117f": {
          "model_module": "@jupyter-widgets/base",
          "model_name": "LayoutModel",
          "state": {
            "_view_name": "LayoutView",
            "grid_template_rows": null,
            "right": null,
            "justify_content": null,
            "_view_module": "@jupyter-widgets/base",
            "overflow": null,
            "_model_module_version": "1.2.0",
            "_view_count": null,
            "flex_flow": null,
            "width": null,
            "min_width": null,
            "border": null,
            "align_items": null,
            "bottom": null,
            "_model_module": "@jupyter-widgets/base",
            "top": null,
            "grid_column": null,
            "overflow_y": null,
            "overflow_x": null,
            "grid_auto_flow": null,
            "grid_area": null,
            "grid_template_columns": null,
            "flex": null,
            "_model_name": "LayoutModel",
            "justify_items": null,
            "grid_row": null,
            "max_height": null,
            "align_content": null,
            "visibility": null,
            "align_self": null,
            "height": null,
            "min_height": null,
            "padding": null,
            "grid_auto_rows": null,
            "grid_gap": null,
            "max_width": null,
            "order": null,
            "_view_module_version": "1.2.0",
            "grid_template_areas": null,
            "object_position": null,
            "object_fit": null,
            "grid_auto_columns": null,
            "margin": null,
            "display": null,
            "left": null
          }
        },
        "2c79539032124f0d8f4573fb6f59a4b2": {
          "model_module": "@jupyter-widgets/controls",
          "model_name": "FloatProgressModel",
          "state": {
            "_view_name": "ProgressView",
            "style": "IPY_MODEL_7196a09b340845cf9f9cb85670333fed",
            "_dom_classes": [],
            "description": "100%",
            "_model_name": "FloatProgressModel",
            "bar_style": "success",
            "max": 1638,
            "_view_module": "@jupyter-widgets/controls",
            "_model_module_version": "1.5.0",
            "value": 1638,
            "_view_count": null,
            "_view_module_version": "1.5.0",
            "orientation": "horizontal",
            "min": 0,
            "description_tooltip": null,
            "_model_module": "@jupyter-widgets/controls",
            "layout": "IPY_MODEL_07b5ed5db532443f99f0de231f6cd831"
          }
        },
        "081b9e061981433788c1daba55961ca5": {
          "model_module": "@jupyter-widgets/controls",
          "model_name": "HTMLModel",
          "state": {
            "_view_name": "HTMLView",
            "style": "IPY_MODEL_49104d07f06a439ca15586f65ae7efb0",
            "_dom_classes": [],
            "description": "",
            "_model_name": "HTMLModel",
            "placeholder": "​",
            "_view_module": "@jupyter-widgets/controls",
            "_model_module_version": "1.5.0",
            "value": " 1638/1638 [00:53&lt;00:00, 30.37it/s]",
            "_view_count": null,
            "_view_module_version": "1.5.0",
            "description_tooltip": null,
            "_model_module": "@jupyter-widgets/controls",
            "layout": "IPY_MODEL_5160940e19194d409600b029a8f76509"
          }
        },
        "7196a09b340845cf9f9cb85670333fed": {
          "model_module": "@jupyter-widgets/controls",
          "model_name": "ProgressStyleModel",
          "state": {
            "_view_name": "StyleView",
            "_model_name": "ProgressStyleModel",
            "description_width": "initial",
            "_view_module": "@jupyter-widgets/base",
            "_model_module_version": "1.5.0",
            "_view_count": null,
            "_view_module_version": "1.2.0",
            "bar_color": null,
            "_model_module": "@jupyter-widgets/controls"
          }
        },
        "07b5ed5db532443f99f0de231f6cd831": {
          "model_module": "@jupyter-widgets/base",
          "model_name": "LayoutModel",
          "state": {
            "_view_name": "LayoutView",
            "grid_template_rows": null,
            "right": null,
            "justify_content": null,
            "_view_module": "@jupyter-widgets/base",
            "overflow": null,
            "_model_module_version": "1.2.0",
            "_view_count": null,
            "flex_flow": null,
            "width": null,
            "min_width": null,
            "border": null,
            "align_items": null,
            "bottom": null,
            "_model_module": "@jupyter-widgets/base",
            "top": null,
            "grid_column": null,
            "overflow_y": null,
            "overflow_x": null,
            "grid_auto_flow": null,
            "grid_area": null,
            "grid_template_columns": null,
            "flex": null,
            "_model_name": "LayoutModel",
            "justify_items": null,
            "grid_row": null,
            "max_height": null,
            "align_content": null,
            "visibility": null,
            "align_self": null,
            "height": null,
            "min_height": null,
            "padding": null,
            "grid_auto_rows": null,
            "grid_gap": null,
            "max_width": null,
            "order": null,
            "_view_module_version": "1.2.0",
            "grid_template_areas": null,
            "object_position": null,
            "object_fit": null,
            "grid_auto_columns": null,
            "margin": null,
            "display": null,
            "left": null
          }
        },
        "49104d07f06a439ca15586f65ae7efb0": {
          "model_module": "@jupyter-widgets/controls",
          "model_name": "DescriptionStyleModel",
          "state": {
            "_view_name": "StyleView",
            "_model_name": "DescriptionStyleModel",
            "description_width": "",
            "_view_module": "@jupyter-widgets/base",
            "_model_module_version": "1.5.0",
            "_view_count": null,
            "_view_module_version": "1.2.0",
            "_model_module": "@jupyter-widgets/controls"
          }
        },
        "5160940e19194d409600b029a8f76509": {
          "model_module": "@jupyter-widgets/base",
          "model_name": "LayoutModel",
          "state": {
            "_view_name": "LayoutView",
            "grid_template_rows": null,
            "right": null,
            "justify_content": null,
            "_view_module": "@jupyter-widgets/base",
            "overflow": null,
            "_model_module_version": "1.2.0",
            "_view_count": null,
            "flex_flow": null,
            "width": null,
            "min_width": null,
            "border": null,
            "align_items": null,
            "bottom": null,
            "_model_module": "@jupyter-widgets/base",
            "top": null,
            "grid_column": null,
            "overflow_y": null,
            "overflow_x": null,
            "grid_auto_flow": null,
            "grid_area": null,
            "grid_template_columns": null,
            "flex": null,
            "_model_name": "LayoutModel",
            "justify_items": null,
            "grid_row": null,
            "max_height": null,
            "align_content": null,
            "visibility": null,
            "align_self": null,
            "height": null,
            "min_height": null,
            "padding": null,
            "grid_auto_rows": null,
            "grid_gap": null,
            "max_width": null,
            "order": null,
            "_view_module_version": "1.2.0",
            "grid_template_areas": null,
            "object_position": null,
            "object_fit": null,
            "grid_auto_columns": null,
            "margin": null,
            "display": null,
            "left": null
          }
        },
        "3045395a873045ed9c21ccf722ad90f9": {
          "model_module": "@jupyter-widgets/controls",
          "model_name": "HBoxModel",
          "state": {
            "_view_name": "HBoxView",
            "_dom_classes": [],
            "_model_name": "HBoxModel",
            "_view_module": "@jupyter-widgets/controls",
            "_model_module_version": "1.5.0",
            "_view_count": null,
            "_view_module_version": "1.5.0",
            "box_style": "",
            "layout": "IPY_MODEL_c6a1ccf1bca949259e4e8cbd06f885c8",
            "_model_module": "@jupyter-widgets/controls",
            "children": [
              "IPY_MODEL_62495f2063534d21b1f2529eb6952c42",
              "IPY_MODEL_611ecd4f2e2d4156adc39a85c98b8f02"
            ]
          }
        },
        "c6a1ccf1bca949259e4e8cbd06f885c8": {
          "model_module": "@jupyter-widgets/base",
          "model_name": "LayoutModel",
          "state": {
            "_view_name": "LayoutView",
            "grid_template_rows": null,
            "right": null,
            "justify_content": null,
            "_view_module": "@jupyter-widgets/base",
            "overflow": null,
            "_model_module_version": "1.2.0",
            "_view_count": null,
            "flex_flow": null,
            "width": null,
            "min_width": null,
            "border": null,
            "align_items": null,
            "bottom": null,
            "_model_module": "@jupyter-widgets/base",
            "top": null,
            "grid_column": null,
            "overflow_y": null,
            "overflow_x": null,
            "grid_auto_flow": null,
            "grid_area": null,
            "grid_template_columns": null,
            "flex": null,
            "_model_name": "LayoutModel",
            "justify_items": null,
            "grid_row": null,
            "max_height": null,
            "align_content": null,
            "visibility": null,
            "align_self": null,
            "height": null,
            "min_height": null,
            "padding": null,
            "grid_auto_rows": null,
            "grid_gap": null,
            "max_width": null,
            "order": null,
            "_view_module_version": "1.2.0",
            "grid_template_areas": null,
            "object_position": null,
            "object_fit": null,
            "grid_auto_columns": null,
            "margin": null,
            "display": null,
            "left": null
          }
        },
        "62495f2063534d21b1f2529eb6952c42": {
          "model_module": "@jupyter-widgets/controls",
          "model_name": "FloatProgressModel",
          "state": {
            "_view_name": "ProgressView",
            "style": "IPY_MODEL_fa1965b7971f4a92b24bcbef487ee7e9",
            "_dom_classes": [],
            "description": "100%",
            "_model_name": "FloatProgressModel",
            "bar_style": "success",
            "max": 1638,
            "_view_module": "@jupyter-widgets/controls",
            "_model_module_version": "1.5.0",
            "value": 1638,
            "_view_count": null,
            "_view_module_version": "1.5.0",
            "orientation": "horizontal",
            "min": 0,
            "description_tooltip": null,
            "_model_module": "@jupyter-widgets/controls",
            "layout": "IPY_MODEL_62c5c3a1329f4eadbb514cbe0863c3d2"
          }
        },
        "611ecd4f2e2d4156adc39a85c98b8f02": {
          "model_module": "@jupyter-widgets/controls",
          "model_name": "HTMLModel",
          "state": {
            "_view_name": "HTMLView",
            "style": "IPY_MODEL_45f1e4af8ddc4f59902d837792d0ef5c",
            "_dom_classes": [],
            "description": "",
            "_model_name": "HTMLModel",
            "placeholder": "​",
            "_view_module": "@jupyter-widgets/controls",
            "_model_module_version": "1.5.0",
            "value": " 1638/1638 [00:54&lt;00:00, 30.19it/s]",
            "_view_count": null,
            "_view_module_version": "1.5.0",
            "description_tooltip": null,
            "_model_module": "@jupyter-widgets/controls",
            "layout": "IPY_MODEL_164c4048b96c4e4aa00150cf6400860d"
          }
        },
        "fa1965b7971f4a92b24bcbef487ee7e9": {
          "model_module": "@jupyter-widgets/controls",
          "model_name": "ProgressStyleModel",
          "state": {
            "_view_name": "StyleView",
            "_model_name": "ProgressStyleModel",
            "description_width": "initial",
            "_view_module": "@jupyter-widgets/base",
            "_model_module_version": "1.5.0",
            "_view_count": null,
            "_view_module_version": "1.2.0",
            "bar_color": null,
            "_model_module": "@jupyter-widgets/controls"
          }
        },
        "62c5c3a1329f4eadbb514cbe0863c3d2": {
          "model_module": "@jupyter-widgets/base",
          "model_name": "LayoutModel",
          "state": {
            "_view_name": "LayoutView",
            "grid_template_rows": null,
            "right": null,
            "justify_content": null,
            "_view_module": "@jupyter-widgets/base",
            "overflow": null,
            "_model_module_version": "1.2.0",
            "_view_count": null,
            "flex_flow": null,
            "width": null,
            "min_width": null,
            "border": null,
            "align_items": null,
            "bottom": null,
            "_model_module": "@jupyter-widgets/base",
            "top": null,
            "grid_column": null,
            "overflow_y": null,
            "overflow_x": null,
            "grid_auto_flow": null,
            "grid_area": null,
            "grid_template_columns": null,
            "flex": null,
            "_model_name": "LayoutModel",
            "justify_items": null,
            "grid_row": null,
            "max_height": null,
            "align_content": null,
            "visibility": null,
            "align_self": null,
            "height": null,
            "min_height": null,
            "padding": null,
            "grid_auto_rows": null,
            "grid_gap": null,
            "max_width": null,
            "order": null,
            "_view_module_version": "1.2.0",
            "grid_template_areas": null,
            "object_position": null,
            "object_fit": null,
            "grid_auto_columns": null,
            "margin": null,
            "display": null,
            "left": null
          }
        },
        "45f1e4af8ddc4f59902d837792d0ef5c": {
          "model_module": "@jupyter-widgets/controls",
          "model_name": "DescriptionStyleModel",
          "state": {
            "_view_name": "StyleView",
            "_model_name": "DescriptionStyleModel",
            "description_width": "",
            "_view_module": "@jupyter-widgets/base",
            "_model_module_version": "1.5.0",
            "_view_count": null,
            "_view_module_version": "1.2.0",
            "_model_module": "@jupyter-widgets/controls"
          }
        },
        "164c4048b96c4e4aa00150cf6400860d": {
          "model_module": "@jupyter-widgets/base",
          "model_name": "LayoutModel",
          "state": {
            "_view_name": "LayoutView",
            "grid_template_rows": null,
            "right": null,
            "justify_content": null,
            "_view_module": "@jupyter-widgets/base",
            "overflow": null,
            "_model_module_version": "1.2.0",
            "_view_count": null,
            "flex_flow": null,
            "width": null,
            "min_width": null,
            "border": null,
            "align_items": null,
            "bottom": null,
            "_model_module": "@jupyter-widgets/base",
            "top": null,
            "grid_column": null,
            "overflow_y": null,
            "overflow_x": null,
            "grid_auto_flow": null,
            "grid_area": null,
            "grid_template_columns": null,
            "flex": null,
            "_model_name": "LayoutModel",
            "justify_items": null,
            "grid_row": null,
            "max_height": null,
            "align_content": null,
            "visibility": null,
            "align_self": null,
            "height": null,
            "min_height": null,
            "padding": null,
            "grid_auto_rows": null,
            "grid_gap": null,
            "max_width": null,
            "order": null,
            "_view_module_version": "1.2.0",
            "grid_template_areas": null,
            "object_position": null,
            "object_fit": null,
            "grid_auto_columns": null,
            "margin": null,
            "display": null,
            "left": null
          }
        },
        "4b5561d60a7842359479c4f3ec8dbdc7": {
          "model_module": "@jupyter-widgets/controls",
          "model_name": "HBoxModel",
          "state": {
            "_view_name": "HBoxView",
            "_dom_classes": [],
            "_model_name": "HBoxModel",
            "_view_module": "@jupyter-widgets/controls",
            "_model_module_version": "1.5.0",
            "_view_count": null,
            "_view_module_version": "1.5.0",
            "box_style": "",
            "layout": "IPY_MODEL_a459c3bc1fd640afa9fa342d849992f9",
            "_model_module": "@jupyter-widgets/controls",
            "children": [
              "IPY_MODEL_4f4d34ece578491a8e8506ab4706b7e9",
              "IPY_MODEL_85e7d65c846e4c97afb71b9dd63ee12a"
            ]
          }
        },
        "a459c3bc1fd640afa9fa342d849992f9": {
          "model_module": "@jupyter-widgets/base",
          "model_name": "LayoutModel",
          "state": {
            "_view_name": "LayoutView",
            "grid_template_rows": null,
            "right": null,
            "justify_content": null,
            "_view_module": "@jupyter-widgets/base",
            "overflow": null,
            "_model_module_version": "1.2.0",
            "_view_count": null,
            "flex_flow": null,
            "width": null,
            "min_width": null,
            "border": null,
            "align_items": null,
            "bottom": null,
            "_model_module": "@jupyter-widgets/base",
            "top": null,
            "grid_column": null,
            "overflow_y": null,
            "overflow_x": null,
            "grid_auto_flow": null,
            "grid_area": null,
            "grid_template_columns": null,
            "flex": null,
            "_model_name": "LayoutModel",
            "justify_items": null,
            "grid_row": null,
            "max_height": null,
            "align_content": null,
            "visibility": null,
            "align_self": null,
            "height": null,
            "min_height": null,
            "padding": null,
            "grid_auto_rows": null,
            "grid_gap": null,
            "max_width": null,
            "order": null,
            "_view_module_version": "1.2.0",
            "grid_template_areas": null,
            "object_position": null,
            "object_fit": null,
            "grid_auto_columns": null,
            "margin": null,
            "display": null,
            "left": null
          }
        },
        "4f4d34ece578491a8e8506ab4706b7e9": {
          "model_module": "@jupyter-widgets/controls",
          "model_name": "FloatProgressModel",
          "state": {
            "_view_name": "ProgressView",
            "style": "IPY_MODEL_0bcaaefcc5ee4db589f78eef69545213",
            "_dom_classes": [],
            "description": "100%",
            "_model_name": "FloatProgressModel",
            "bar_style": "success",
            "max": 1638,
            "_view_module": "@jupyter-widgets/controls",
            "_model_module_version": "1.5.0",
            "value": 1638,
            "_view_count": null,
            "_view_module_version": "1.5.0",
            "orientation": "horizontal",
            "min": 0,
            "description_tooltip": null,
            "_model_module": "@jupyter-widgets/controls",
            "layout": "IPY_MODEL_93bca46b5add4693b9dcad27f111ec4d"
          }
        },
        "85e7d65c846e4c97afb71b9dd63ee12a": {
          "model_module": "@jupyter-widgets/controls",
          "model_name": "HTMLModel",
          "state": {
            "_view_name": "HTMLView",
            "style": "IPY_MODEL_32be4aa575684b198bf8eb67cef8937d",
            "_dom_classes": [],
            "description": "",
            "_model_name": "HTMLModel",
            "placeholder": "​",
            "_view_module": "@jupyter-widgets/controls",
            "_model_module_version": "1.5.0",
            "value": " 1638/1638 [07:23&lt;00:00,  3.69it/s]",
            "_view_count": null,
            "_view_module_version": "1.5.0",
            "description_tooltip": null,
            "_model_module": "@jupyter-widgets/controls",
            "layout": "IPY_MODEL_24910768a92241129db213bb2e974d2d"
          }
        },
        "0bcaaefcc5ee4db589f78eef69545213": {
          "model_module": "@jupyter-widgets/controls",
          "model_name": "ProgressStyleModel",
          "state": {
            "_view_name": "StyleView",
            "_model_name": "ProgressStyleModel",
            "description_width": "initial",
            "_view_module": "@jupyter-widgets/base",
            "_model_module_version": "1.5.0",
            "_view_count": null,
            "_view_module_version": "1.2.0",
            "bar_color": null,
            "_model_module": "@jupyter-widgets/controls"
          }
        },
        "93bca46b5add4693b9dcad27f111ec4d": {
          "model_module": "@jupyter-widgets/base",
          "model_name": "LayoutModel",
          "state": {
            "_view_name": "LayoutView",
            "grid_template_rows": null,
            "right": null,
            "justify_content": null,
            "_view_module": "@jupyter-widgets/base",
            "overflow": null,
            "_model_module_version": "1.2.0",
            "_view_count": null,
            "flex_flow": null,
            "width": null,
            "min_width": null,
            "border": null,
            "align_items": null,
            "bottom": null,
            "_model_module": "@jupyter-widgets/base",
            "top": null,
            "grid_column": null,
            "overflow_y": null,
            "overflow_x": null,
            "grid_auto_flow": null,
            "grid_area": null,
            "grid_template_columns": null,
            "flex": null,
            "_model_name": "LayoutModel",
            "justify_items": null,
            "grid_row": null,
            "max_height": null,
            "align_content": null,
            "visibility": null,
            "align_self": null,
            "height": null,
            "min_height": null,
            "padding": null,
            "grid_auto_rows": null,
            "grid_gap": null,
            "max_width": null,
            "order": null,
            "_view_module_version": "1.2.0",
            "grid_template_areas": null,
            "object_position": null,
            "object_fit": null,
            "grid_auto_columns": null,
            "margin": null,
            "display": null,
            "left": null
          }
        },
        "32be4aa575684b198bf8eb67cef8937d": {
          "model_module": "@jupyter-widgets/controls",
          "model_name": "DescriptionStyleModel",
          "state": {
            "_view_name": "StyleView",
            "_model_name": "DescriptionStyleModel",
            "description_width": "",
            "_view_module": "@jupyter-widgets/base",
            "_model_module_version": "1.5.0",
            "_view_count": null,
            "_view_module_version": "1.2.0",
            "_model_module": "@jupyter-widgets/controls"
          }
        },
        "24910768a92241129db213bb2e974d2d": {
          "model_module": "@jupyter-widgets/base",
          "model_name": "LayoutModel",
          "state": {
            "_view_name": "LayoutView",
            "grid_template_rows": null,
            "right": null,
            "justify_content": null,
            "_view_module": "@jupyter-widgets/base",
            "overflow": null,
            "_model_module_version": "1.2.0",
            "_view_count": null,
            "flex_flow": null,
            "width": null,
            "min_width": null,
            "border": null,
            "align_items": null,
            "bottom": null,
            "_model_module": "@jupyter-widgets/base",
            "top": null,
            "grid_column": null,
            "overflow_y": null,
            "overflow_x": null,
            "grid_auto_flow": null,
            "grid_area": null,
            "grid_template_columns": null,
            "flex": null,
            "_model_name": "LayoutModel",
            "justify_items": null,
            "grid_row": null,
            "max_height": null,
            "align_content": null,
            "visibility": null,
            "align_self": null,
            "height": null,
            "min_height": null,
            "padding": null,
            "grid_auto_rows": null,
            "grid_gap": null,
            "max_width": null,
            "order": null,
            "_view_module_version": "1.2.0",
            "grid_template_areas": null,
            "object_position": null,
            "object_fit": null,
            "grid_auto_columns": null,
            "margin": null,
            "display": null,
            "left": null
          }
        },
        "792beda885e24ee1b32e489e96b6e30a": {
          "model_module": "@jupyter-widgets/controls",
          "model_name": "HBoxModel",
          "state": {
            "_view_name": "HBoxView",
            "_dom_classes": [],
            "_model_name": "HBoxModel",
            "_view_module": "@jupyter-widgets/controls",
            "_model_module_version": "1.5.0",
            "_view_count": null,
            "_view_module_version": "1.5.0",
            "box_style": "",
            "layout": "IPY_MODEL_bed70e3fd78e42deb17bf70e6911b64f",
            "_model_module": "@jupyter-widgets/controls",
            "children": [
              "IPY_MODEL_d63c4b009cc243778bb0d429150dfe2d",
              "IPY_MODEL_a611a882ec664eec9a5b02df1afc4455"
            ]
          }
        },
        "bed70e3fd78e42deb17bf70e6911b64f": {
          "model_module": "@jupyter-widgets/base",
          "model_name": "LayoutModel",
          "state": {
            "_view_name": "LayoutView",
            "grid_template_rows": null,
            "right": null,
            "justify_content": null,
            "_view_module": "@jupyter-widgets/base",
            "overflow": null,
            "_model_module_version": "1.2.0",
            "_view_count": null,
            "flex_flow": null,
            "width": null,
            "min_width": null,
            "border": null,
            "align_items": null,
            "bottom": null,
            "_model_module": "@jupyter-widgets/base",
            "top": null,
            "grid_column": null,
            "overflow_y": null,
            "overflow_x": null,
            "grid_auto_flow": null,
            "grid_area": null,
            "grid_template_columns": null,
            "flex": null,
            "_model_name": "LayoutModel",
            "justify_items": null,
            "grid_row": null,
            "max_height": null,
            "align_content": null,
            "visibility": null,
            "align_self": null,
            "height": null,
            "min_height": null,
            "padding": null,
            "grid_auto_rows": null,
            "grid_gap": null,
            "max_width": null,
            "order": null,
            "_view_module_version": "1.2.0",
            "grid_template_areas": null,
            "object_position": null,
            "object_fit": null,
            "grid_auto_columns": null,
            "margin": null,
            "display": null,
            "left": null
          }
        },
        "d63c4b009cc243778bb0d429150dfe2d": {
          "model_module": "@jupyter-widgets/controls",
          "model_name": "FloatProgressModel",
          "state": {
            "_view_name": "ProgressView",
            "style": "IPY_MODEL_5ba6f33cb6804b6da6c8e13c063214f8",
            "_dom_classes": [],
            "description": "100%",
            "_model_name": "FloatProgressModel",
            "bar_style": "success",
            "max": 1638,
            "_view_module": "@jupyter-widgets/controls",
            "_model_module_version": "1.5.0",
            "value": 1638,
            "_view_count": null,
            "_view_module_version": "1.5.0",
            "orientation": "horizontal",
            "min": 0,
            "description_tooltip": null,
            "_model_module": "@jupyter-widgets/controls",
            "layout": "IPY_MODEL_f06a47a9c5d74453b70f276cfce60306"
          }
        },
        "a611a882ec664eec9a5b02df1afc4455": {
          "model_module": "@jupyter-widgets/controls",
          "model_name": "HTMLModel",
          "state": {
            "_view_name": "HTMLView",
            "style": "IPY_MODEL_0f53ef1e0ffd40ee9d8dde9f651778b0",
            "_dom_classes": [],
            "description": "",
            "_model_name": "HTMLModel",
            "placeholder": "​",
            "_view_module": "@jupyter-widgets/controls",
            "_model_module_version": "1.5.0",
            "value": " 1638/1638 [07:16&lt;00:00,  3.75it/s]",
            "_view_count": null,
            "_view_module_version": "1.5.0",
            "description_tooltip": null,
            "_model_module": "@jupyter-widgets/controls",
            "layout": "IPY_MODEL_50d9a11f9ec146f78415cb4b76fbde20"
          }
        },
        "5ba6f33cb6804b6da6c8e13c063214f8": {
          "model_module": "@jupyter-widgets/controls",
          "model_name": "ProgressStyleModel",
          "state": {
            "_view_name": "StyleView",
            "_model_name": "ProgressStyleModel",
            "description_width": "initial",
            "_view_module": "@jupyter-widgets/base",
            "_model_module_version": "1.5.0",
            "_view_count": null,
            "_view_module_version": "1.2.0",
            "bar_color": null,
            "_model_module": "@jupyter-widgets/controls"
          }
        },
        "f06a47a9c5d74453b70f276cfce60306": {
          "model_module": "@jupyter-widgets/base",
          "model_name": "LayoutModel",
          "state": {
            "_view_name": "LayoutView",
            "grid_template_rows": null,
            "right": null,
            "justify_content": null,
            "_view_module": "@jupyter-widgets/base",
            "overflow": null,
            "_model_module_version": "1.2.0",
            "_view_count": null,
            "flex_flow": null,
            "width": null,
            "min_width": null,
            "border": null,
            "align_items": null,
            "bottom": null,
            "_model_module": "@jupyter-widgets/base",
            "top": null,
            "grid_column": null,
            "overflow_y": null,
            "overflow_x": null,
            "grid_auto_flow": null,
            "grid_area": null,
            "grid_template_columns": null,
            "flex": null,
            "_model_name": "LayoutModel",
            "justify_items": null,
            "grid_row": null,
            "max_height": null,
            "align_content": null,
            "visibility": null,
            "align_self": null,
            "height": null,
            "min_height": null,
            "padding": null,
            "grid_auto_rows": null,
            "grid_gap": null,
            "max_width": null,
            "order": null,
            "_view_module_version": "1.2.0",
            "grid_template_areas": null,
            "object_position": null,
            "object_fit": null,
            "grid_auto_columns": null,
            "margin": null,
            "display": null,
            "left": null
          }
        },
        "0f53ef1e0ffd40ee9d8dde9f651778b0": {
          "model_module": "@jupyter-widgets/controls",
          "model_name": "DescriptionStyleModel",
          "state": {
            "_view_name": "StyleView",
            "_model_name": "DescriptionStyleModel",
            "description_width": "",
            "_view_module": "@jupyter-widgets/base",
            "_model_module_version": "1.5.0",
            "_view_count": null,
            "_view_module_version": "1.2.0",
            "_model_module": "@jupyter-widgets/controls"
          }
        },
        "50d9a11f9ec146f78415cb4b76fbde20": {
          "model_module": "@jupyter-widgets/base",
          "model_name": "LayoutModel",
          "state": {
            "_view_name": "LayoutView",
            "grid_template_rows": null,
            "right": null,
            "justify_content": null,
            "_view_module": "@jupyter-widgets/base",
            "overflow": null,
            "_model_module_version": "1.2.0",
            "_view_count": null,
            "flex_flow": null,
            "width": null,
            "min_width": null,
            "border": null,
            "align_items": null,
            "bottom": null,
            "_model_module": "@jupyter-widgets/base",
            "top": null,
            "grid_column": null,
            "overflow_y": null,
            "overflow_x": null,
            "grid_auto_flow": null,
            "grid_area": null,
            "grid_template_columns": null,
            "flex": null,
            "_model_name": "LayoutModel",
            "justify_items": null,
            "grid_row": null,
            "max_height": null,
            "align_content": null,
            "visibility": null,
            "align_self": null,
            "height": null,
            "min_height": null,
            "padding": null,
            "grid_auto_rows": null,
            "grid_gap": null,
            "max_width": null,
            "order": null,
            "_view_module_version": "1.2.0",
            "grid_template_areas": null,
            "object_position": null,
            "object_fit": null,
            "grid_auto_columns": null,
            "margin": null,
            "display": null,
            "left": null
          }
        },
        "3637eb4d20da4afeaba8643bcd23bc5f": {
          "model_module": "@jupyter-widgets/controls",
          "model_name": "HBoxModel",
          "state": {
            "_view_name": "HBoxView",
            "_dom_classes": [],
            "_model_name": "HBoxModel",
            "_view_module": "@jupyter-widgets/controls",
            "_model_module_version": "1.5.0",
            "_view_count": null,
            "_view_module_version": "1.5.0",
            "box_style": "",
            "layout": "IPY_MODEL_8cab76597580465baba1c746d1d70e3d",
            "_model_module": "@jupyter-widgets/controls",
            "children": [
              "IPY_MODEL_ee620285d13c49968dc209f09a7e3dc9",
              "IPY_MODEL_0647ccab35894c3b92852df1895c93a3"
            ]
          }
        },
        "8cab76597580465baba1c746d1d70e3d": {
          "model_module": "@jupyter-widgets/base",
          "model_name": "LayoutModel",
          "state": {
            "_view_name": "LayoutView",
            "grid_template_rows": null,
            "right": null,
            "justify_content": null,
            "_view_module": "@jupyter-widgets/base",
            "overflow": null,
            "_model_module_version": "1.2.0",
            "_view_count": null,
            "flex_flow": null,
            "width": null,
            "min_width": null,
            "border": null,
            "align_items": null,
            "bottom": null,
            "_model_module": "@jupyter-widgets/base",
            "top": null,
            "grid_column": null,
            "overflow_y": null,
            "overflow_x": null,
            "grid_auto_flow": null,
            "grid_area": null,
            "grid_template_columns": null,
            "flex": null,
            "_model_name": "LayoutModel",
            "justify_items": null,
            "grid_row": null,
            "max_height": null,
            "align_content": null,
            "visibility": null,
            "align_self": null,
            "height": null,
            "min_height": null,
            "padding": null,
            "grid_auto_rows": null,
            "grid_gap": null,
            "max_width": null,
            "order": null,
            "_view_module_version": "1.2.0",
            "grid_template_areas": null,
            "object_position": null,
            "object_fit": null,
            "grid_auto_columns": null,
            "margin": null,
            "display": null,
            "left": null
          }
        },
        "ee620285d13c49968dc209f09a7e3dc9": {
          "model_module": "@jupyter-widgets/controls",
          "model_name": "FloatProgressModel",
          "state": {
            "_view_name": "ProgressView",
            "style": "IPY_MODEL_c298ff79dc284644aec2ee3eecaa02b8",
            "_dom_classes": [],
            "description": "100%",
            "_model_name": "FloatProgressModel",
            "bar_style": "success",
            "max": 1638,
            "_view_module": "@jupyter-widgets/controls",
            "_model_module_version": "1.5.0",
            "value": 1638,
            "_view_count": null,
            "_view_module_version": "1.5.0",
            "orientation": "horizontal",
            "min": 0,
            "description_tooltip": null,
            "_model_module": "@jupyter-widgets/controls",
            "layout": "IPY_MODEL_3c5c22d240064fc69798cbe2043873cf"
          }
        },
        "0647ccab35894c3b92852df1895c93a3": {
          "model_module": "@jupyter-widgets/controls",
          "model_name": "HTMLModel",
          "state": {
            "_view_name": "HTMLView",
            "style": "IPY_MODEL_5c5cd55c34154d28959d856195722ca6",
            "_dom_classes": [],
            "description": "",
            "_model_name": "HTMLModel",
            "placeholder": "​",
            "_view_module": "@jupyter-widgets/controls",
            "_model_module_version": "1.5.0",
            "value": " 1638/1638 [03:32&lt;00:00,  7.70it/s]",
            "_view_count": null,
            "_view_module_version": "1.5.0",
            "description_tooltip": null,
            "_model_module": "@jupyter-widgets/controls",
            "layout": "IPY_MODEL_e9517a9116a047f4abd1365cc3b722d5"
          }
        },
        "c298ff79dc284644aec2ee3eecaa02b8": {
          "model_module": "@jupyter-widgets/controls",
          "model_name": "ProgressStyleModel",
          "state": {
            "_view_name": "StyleView",
            "_model_name": "ProgressStyleModel",
            "description_width": "initial",
            "_view_module": "@jupyter-widgets/base",
            "_model_module_version": "1.5.0",
            "_view_count": null,
            "_view_module_version": "1.2.0",
            "bar_color": null,
            "_model_module": "@jupyter-widgets/controls"
          }
        },
        "3c5c22d240064fc69798cbe2043873cf": {
          "model_module": "@jupyter-widgets/base",
          "model_name": "LayoutModel",
          "state": {
            "_view_name": "LayoutView",
            "grid_template_rows": null,
            "right": null,
            "justify_content": null,
            "_view_module": "@jupyter-widgets/base",
            "overflow": null,
            "_model_module_version": "1.2.0",
            "_view_count": null,
            "flex_flow": null,
            "width": null,
            "min_width": null,
            "border": null,
            "align_items": null,
            "bottom": null,
            "_model_module": "@jupyter-widgets/base",
            "top": null,
            "grid_column": null,
            "overflow_y": null,
            "overflow_x": null,
            "grid_auto_flow": null,
            "grid_area": null,
            "grid_template_columns": null,
            "flex": null,
            "_model_name": "LayoutModel",
            "justify_items": null,
            "grid_row": null,
            "max_height": null,
            "align_content": null,
            "visibility": null,
            "align_self": null,
            "height": null,
            "min_height": null,
            "padding": null,
            "grid_auto_rows": null,
            "grid_gap": null,
            "max_width": null,
            "order": null,
            "_view_module_version": "1.2.0",
            "grid_template_areas": null,
            "object_position": null,
            "object_fit": null,
            "grid_auto_columns": null,
            "margin": null,
            "display": null,
            "left": null
          }
        },
        "5c5cd55c34154d28959d856195722ca6": {
          "model_module": "@jupyter-widgets/controls",
          "model_name": "DescriptionStyleModel",
          "state": {
            "_view_name": "StyleView",
            "_model_name": "DescriptionStyleModel",
            "description_width": "",
            "_view_module": "@jupyter-widgets/base",
            "_model_module_version": "1.5.0",
            "_view_count": null,
            "_view_module_version": "1.2.0",
            "_model_module": "@jupyter-widgets/controls"
          }
        },
        "e9517a9116a047f4abd1365cc3b722d5": {
          "model_module": "@jupyter-widgets/base",
          "model_name": "LayoutModel",
          "state": {
            "_view_name": "LayoutView",
            "grid_template_rows": null,
            "right": null,
            "justify_content": null,
            "_view_module": "@jupyter-widgets/base",
            "overflow": null,
            "_model_module_version": "1.2.0",
            "_view_count": null,
            "flex_flow": null,
            "width": null,
            "min_width": null,
            "border": null,
            "align_items": null,
            "bottom": null,
            "_model_module": "@jupyter-widgets/base",
            "top": null,
            "grid_column": null,
            "overflow_y": null,
            "overflow_x": null,
            "grid_auto_flow": null,
            "grid_area": null,
            "grid_template_columns": null,
            "flex": null,
            "_model_name": "LayoutModel",
            "justify_items": null,
            "grid_row": null,
            "max_height": null,
            "align_content": null,
            "visibility": null,
            "align_self": null,
            "height": null,
            "min_height": null,
            "padding": null,
            "grid_auto_rows": null,
            "grid_gap": null,
            "max_width": null,
            "order": null,
            "_view_module_version": "1.2.0",
            "grid_template_areas": null,
            "object_position": null,
            "object_fit": null,
            "grid_auto_columns": null,
            "margin": null,
            "display": null,
            "left": null
          }
        },
        "1874dbfea11a45e1b204d98fae107d51": {
          "model_module": "@jupyter-widgets/controls",
          "model_name": "HBoxModel",
          "state": {
            "_view_name": "HBoxView",
            "_dom_classes": [],
            "_model_name": "HBoxModel",
            "_view_module": "@jupyter-widgets/controls",
            "_model_module_version": "1.5.0",
            "_view_count": null,
            "_view_module_version": "1.5.0",
            "box_style": "",
            "layout": "IPY_MODEL_afe563cbf8534cdaa1b334687ec54aea",
            "_model_module": "@jupyter-widgets/controls",
            "children": [
              "IPY_MODEL_a4f1893423e3413aaed89caa853915e6",
              "IPY_MODEL_8455ca5af8034e78895e4240a86b100e"
            ]
          }
        },
        "afe563cbf8534cdaa1b334687ec54aea": {
          "model_module": "@jupyter-widgets/base",
          "model_name": "LayoutModel",
          "state": {
            "_view_name": "LayoutView",
            "grid_template_rows": null,
            "right": null,
            "justify_content": null,
            "_view_module": "@jupyter-widgets/base",
            "overflow": null,
            "_model_module_version": "1.2.0",
            "_view_count": null,
            "flex_flow": null,
            "width": null,
            "min_width": null,
            "border": null,
            "align_items": null,
            "bottom": null,
            "_model_module": "@jupyter-widgets/base",
            "top": null,
            "grid_column": null,
            "overflow_y": null,
            "overflow_x": null,
            "grid_auto_flow": null,
            "grid_area": null,
            "grid_template_columns": null,
            "flex": null,
            "_model_name": "LayoutModel",
            "justify_items": null,
            "grid_row": null,
            "max_height": null,
            "align_content": null,
            "visibility": null,
            "align_self": null,
            "height": null,
            "min_height": null,
            "padding": null,
            "grid_auto_rows": null,
            "grid_gap": null,
            "max_width": null,
            "order": null,
            "_view_module_version": "1.2.0",
            "grid_template_areas": null,
            "object_position": null,
            "object_fit": null,
            "grid_auto_columns": null,
            "margin": null,
            "display": null,
            "left": null
          }
        },
        "a4f1893423e3413aaed89caa853915e6": {
          "model_module": "@jupyter-widgets/controls",
          "model_name": "FloatProgressModel",
          "state": {
            "_view_name": "ProgressView",
            "style": "IPY_MODEL_25b2a6bec83944b59a0ccf91b524a2b5",
            "_dom_classes": [],
            "description": "  1%",
            "_model_name": "FloatProgressModel",
            "bar_style": "danger",
            "max": 1638,
            "_view_module": "@jupyter-widgets/controls",
            "_model_module_version": "1.5.0",
            "value": 17,
            "_view_count": null,
            "_view_module_version": "1.5.0",
            "orientation": "horizontal",
            "min": 0,
            "description_tooltip": null,
            "_model_module": "@jupyter-widgets/controls",
            "layout": "IPY_MODEL_e7140631ba064c9b935be714b021e0e8"
          }
        },
        "8455ca5af8034e78895e4240a86b100e": {
          "model_module": "@jupyter-widgets/controls",
          "model_name": "HTMLModel",
          "state": {
            "_view_name": "HTMLView",
            "style": "IPY_MODEL_e56f9ff3b4ae4c1c88afcba30f193e5c",
            "_dom_classes": [],
            "description": "",
            "_model_name": "HTMLModel",
            "placeholder": "​",
            "_view_module": "@jupyter-widgets/controls",
            "_model_module_version": "1.5.0",
            "value": " 17/1638 [02:17&lt;3:19:22,  7.38s/it]",
            "_view_count": null,
            "_view_module_version": "1.5.0",
            "description_tooltip": null,
            "_model_module": "@jupyter-widgets/controls",
            "layout": "IPY_MODEL_8fd77772d1644d49949d20be30d903a0"
          }
        },
        "25b2a6bec83944b59a0ccf91b524a2b5": {
          "model_module": "@jupyter-widgets/controls",
          "model_name": "ProgressStyleModel",
          "state": {
            "_view_name": "StyleView",
            "_model_name": "ProgressStyleModel",
            "description_width": "initial",
            "_view_module": "@jupyter-widgets/base",
            "_model_module_version": "1.5.0",
            "_view_count": null,
            "_view_module_version": "1.2.0",
            "bar_color": null,
            "_model_module": "@jupyter-widgets/controls"
          }
        },
        "e7140631ba064c9b935be714b021e0e8": {
          "model_module": "@jupyter-widgets/base",
          "model_name": "LayoutModel",
          "state": {
            "_view_name": "LayoutView",
            "grid_template_rows": null,
            "right": null,
            "justify_content": null,
            "_view_module": "@jupyter-widgets/base",
            "overflow": null,
            "_model_module_version": "1.2.0",
            "_view_count": null,
            "flex_flow": null,
            "width": null,
            "min_width": null,
            "border": null,
            "align_items": null,
            "bottom": null,
            "_model_module": "@jupyter-widgets/base",
            "top": null,
            "grid_column": null,
            "overflow_y": null,
            "overflow_x": null,
            "grid_auto_flow": null,
            "grid_area": null,
            "grid_template_columns": null,
            "flex": null,
            "_model_name": "LayoutModel",
            "justify_items": null,
            "grid_row": null,
            "max_height": null,
            "align_content": null,
            "visibility": null,
            "align_self": null,
            "height": null,
            "min_height": null,
            "padding": null,
            "grid_auto_rows": null,
            "grid_gap": null,
            "max_width": null,
            "order": null,
            "_view_module_version": "1.2.0",
            "grid_template_areas": null,
            "object_position": null,
            "object_fit": null,
            "grid_auto_columns": null,
            "margin": null,
            "display": null,
            "left": null
          }
        },
        "e56f9ff3b4ae4c1c88afcba30f193e5c": {
          "model_module": "@jupyter-widgets/controls",
          "model_name": "DescriptionStyleModel",
          "state": {
            "_view_name": "StyleView",
            "_model_name": "DescriptionStyleModel",
            "description_width": "",
            "_view_module": "@jupyter-widgets/base",
            "_model_module_version": "1.5.0",
            "_view_count": null,
            "_view_module_version": "1.2.0",
            "_model_module": "@jupyter-widgets/controls"
          }
        },
        "8fd77772d1644d49949d20be30d903a0": {
          "model_module": "@jupyter-widgets/base",
          "model_name": "LayoutModel",
          "state": {
            "_view_name": "LayoutView",
            "grid_template_rows": null,
            "right": null,
            "justify_content": null,
            "_view_module": "@jupyter-widgets/base",
            "overflow": null,
            "_model_module_version": "1.2.0",
            "_view_count": null,
            "flex_flow": null,
            "width": null,
            "min_width": null,
            "border": null,
            "align_items": null,
            "bottom": null,
            "_model_module": "@jupyter-widgets/base",
            "top": null,
            "grid_column": null,
            "overflow_y": null,
            "overflow_x": null,
            "grid_auto_flow": null,
            "grid_area": null,
            "grid_template_columns": null,
            "flex": null,
            "_model_name": "LayoutModel",
            "justify_items": null,
            "grid_row": null,
            "max_height": null,
            "align_content": null,
            "visibility": null,
            "align_self": null,
            "height": null,
            "min_height": null,
            "padding": null,
            "grid_auto_rows": null,
            "grid_gap": null,
            "max_width": null,
            "order": null,
            "_view_module_version": "1.2.0",
            "grid_template_areas": null,
            "object_position": null,
            "object_fit": null,
            "grid_auto_columns": null,
            "margin": null,
            "display": null,
            "left": null
          }
        },
        "2568596615ed421b8fe34a841b2cd81d": {
          "model_module": "@jupyter-widgets/controls",
          "model_name": "HBoxModel",
          "state": {
            "_view_name": "HBoxView",
            "_dom_classes": [],
            "_model_name": "HBoxModel",
            "_view_module": "@jupyter-widgets/controls",
            "_model_module_version": "1.5.0",
            "_view_count": null,
            "_view_module_version": "1.5.0",
            "box_style": "",
            "layout": "IPY_MODEL_b672f1e2f07d4525906ae09b86008396",
            "_model_module": "@jupyter-widgets/controls",
            "children": [
              "IPY_MODEL_2332cf7f9dee4accb4f4dc1a7990f97e",
              "IPY_MODEL_4626a7f5263a47f3b87dcf15bfafae59"
            ]
          }
        },
        "b672f1e2f07d4525906ae09b86008396": {
          "model_module": "@jupyter-widgets/base",
          "model_name": "LayoutModel",
          "state": {
            "_view_name": "LayoutView",
            "grid_template_rows": null,
            "right": null,
            "justify_content": null,
            "_view_module": "@jupyter-widgets/base",
            "overflow": null,
            "_model_module_version": "1.2.0",
            "_view_count": null,
            "flex_flow": null,
            "width": null,
            "min_width": null,
            "border": null,
            "align_items": null,
            "bottom": null,
            "_model_module": "@jupyter-widgets/base",
            "top": null,
            "grid_column": null,
            "overflow_y": null,
            "overflow_x": null,
            "grid_auto_flow": null,
            "grid_area": null,
            "grid_template_columns": null,
            "flex": null,
            "_model_name": "LayoutModel",
            "justify_items": null,
            "grid_row": null,
            "max_height": null,
            "align_content": null,
            "visibility": null,
            "align_self": null,
            "height": null,
            "min_height": null,
            "padding": null,
            "grid_auto_rows": null,
            "grid_gap": null,
            "max_width": null,
            "order": null,
            "_view_module_version": "1.2.0",
            "grid_template_areas": null,
            "object_position": null,
            "object_fit": null,
            "grid_auto_columns": null,
            "margin": null,
            "display": null,
            "left": null
          }
        },
        "2332cf7f9dee4accb4f4dc1a7990f97e": {
          "model_module": "@jupyter-widgets/controls",
          "model_name": "FloatProgressModel",
          "state": {
            "_view_name": "ProgressView",
            "style": "IPY_MODEL_298538cc469941aa8069b60f69c8bac8",
            "_dom_classes": [],
            "description": "100%",
            "_model_name": "FloatProgressModel",
            "bar_style": "success",
            "max": 1638,
            "_view_module": "@jupyter-widgets/controls",
            "_model_module_version": "1.5.0",
            "value": 1638,
            "_view_count": null,
            "_view_module_version": "1.5.0",
            "orientation": "horizontal",
            "min": 0,
            "description_tooltip": null,
            "_model_module": "@jupyter-widgets/controls",
            "layout": "IPY_MODEL_569b785adfbf4c2ba92f1d3ffec07233"
          }
        },
        "4626a7f5263a47f3b87dcf15bfafae59": {
          "model_module": "@jupyter-widgets/controls",
          "model_name": "HTMLModel",
          "state": {
            "_view_name": "HTMLView",
            "style": "IPY_MODEL_7acc89dacbe2416082ddf8802e1babf5",
            "_dom_classes": [],
            "description": "",
            "_model_name": "HTMLModel",
            "placeholder": "​",
            "_view_module": "@jupyter-widgets/controls",
            "_model_module_version": "1.5.0",
            "value": " 1638/1638 [02:30&lt;00:00, 10.86it/s]",
            "_view_count": null,
            "_view_module_version": "1.5.0",
            "description_tooltip": null,
            "_model_module": "@jupyter-widgets/controls",
            "layout": "IPY_MODEL_ffdf533eaacc40ada5154ec52fa40e32"
          }
        },
        "298538cc469941aa8069b60f69c8bac8": {
          "model_module": "@jupyter-widgets/controls",
          "model_name": "ProgressStyleModel",
          "state": {
            "_view_name": "StyleView",
            "_model_name": "ProgressStyleModel",
            "description_width": "initial",
            "_view_module": "@jupyter-widgets/base",
            "_model_module_version": "1.5.0",
            "_view_count": null,
            "_view_module_version": "1.2.0",
            "bar_color": null,
            "_model_module": "@jupyter-widgets/controls"
          }
        },
        "569b785adfbf4c2ba92f1d3ffec07233": {
          "model_module": "@jupyter-widgets/base",
          "model_name": "LayoutModel",
          "state": {
            "_view_name": "LayoutView",
            "grid_template_rows": null,
            "right": null,
            "justify_content": null,
            "_view_module": "@jupyter-widgets/base",
            "overflow": null,
            "_model_module_version": "1.2.0",
            "_view_count": null,
            "flex_flow": null,
            "width": null,
            "min_width": null,
            "border": null,
            "align_items": null,
            "bottom": null,
            "_model_module": "@jupyter-widgets/base",
            "top": null,
            "grid_column": null,
            "overflow_y": null,
            "overflow_x": null,
            "grid_auto_flow": null,
            "grid_area": null,
            "grid_template_columns": null,
            "flex": null,
            "_model_name": "LayoutModel",
            "justify_items": null,
            "grid_row": null,
            "max_height": null,
            "align_content": null,
            "visibility": null,
            "align_self": null,
            "height": null,
            "min_height": null,
            "padding": null,
            "grid_auto_rows": null,
            "grid_gap": null,
            "max_width": null,
            "order": null,
            "_view_module_version": "1.2.0",
            "grid_template_areas": null,
            "object_position": null,
            "object_fit": null,
            "grid_auto_columns": null,
            "margin": null,
            "display": null,
            "left": null
          }
        },
        "7acc89dacbe2416082ddf8802e1babf5": {
          "model_module": "@jupyter-widgets/controls",
          "model_name": "DescriptionStyleModel",
          "state": {
            "_view_name": "StyleView",
            "_model_name": "DescriptionStyleModel",
            "description_width": "",
            "_view_module": "@jupyter-widgets/base",
            "_model_module_version": "1.5.0",
            "_view_count": null,
            "_view_module_version": "1.2.0",
            "_model_module": "@jupyter-widgets/controls"
          }
        },
        "ffdf533eaacc40ada5154ec52fa40e32": {
          "model_module": "@jupyter-widgets/base",
          "model_name": "LayoutModel",
          "state": {
            "_view_name": "LayoutView",
            "grid_template_rows": null,
            "right": null,
            "justify_content": null,
            "_view_module": "@jupyter-widgets/base",
            "overflow": null,
            "_model_module_version": "1.2.0",
            "_view_count": null,
            "flex_flow": null,
            "width": null,
            "min_width": null,
            "border": null,
            "align_items": null,
            "bottom": null,
            "_model_module": "@jupyter-widgets/base",
            "top": null,
            "grid_column": null,
            "overflow_y": null,
            "overflow_x": null,
            "grid_auto_flow": null,
            "grid_area": null,
            "grid_template_columns": null,
            "flex": null,
            "_model_name": "LayoutModel",
            "justify_items": null,
            "grid_row": null,
            "max_height": null,
            "align_content": null,
            "visibility": null,
            "align_self": null,
            "height": null,
            "min_height": null,
            "padding": null,
            "grid_auto_rows": null,
            "grid_gap": null,
            "max_width": null,
            "order": null,
            "_view_module_version": "1.2.0",
            "grid_template_areas": null,
            "object_position": null,
            "object_fit": null,
            "grid_auto_columns": null,
            "margin": null,
            "display": null,
            "left": null
          }
        },
        "bf23340dac2344559dfc8e745e92d6bc": {
          "model_module": "@jupyter-widgets/controls",
          "model_name": "HBoxModel",
          "state": {
            "_view_name": "HBoxView",
            "_dom_classes": [],
            "_model_name": "HBoxModel",
            "_view_module": "@jupyter-widgets/controls",
            "_model_module_version": "1.5.0",
            "_view_count": null,
            "_view_module_version": "1.5.0",
            "box_style": "",
            "layout": "IPY_MODEL_e9e1a4ecd5b148e7a7529aeca03bd8e9",
            "_model_module": "@jupyter-widgets/controls",
            "children": [
              "IPY_MODEL_56806b942020448eb169c63901b73d50",
              "IPY_MODEL_629edf9a844f4b85b1f1638ed77ec46e"
            ]
          }
        },
        "e9e1a4ecd5b148e7a7529aeca03bd8e9": {
          "model_module": "@jupyter-widgets/base",
          "model_name": "LayoutModel",
          "state": {
            "_view_name": "LayoutView",
            "grid_template_rows": null,
            "right": null,
            "justify_content": null,
            "_view_module": "@jupyter-widgets/base",
            "overflow": null,
            "_model_module_version": "1.2.0",
            "_view_count": null,
            "flex_flow": null,
            "width": null,
            "min_width": null,
            "border": null,
            "align_items": null,
            "bottom": null,
            "_model_module": "@jupyter-widgets/base",
            "top": null,
            "grid_column": null,
            "overflow_y": null,
            "overflow_x": null,
            "grid_auto_flow": null,
            "grid_area": null,
            "grid_template_columns": null,
            "flex": null,
            "_model_name": "LayoutModel",
            "justify_items": null,
            "grid_row": null,
            "max_height": null,
            "align_content": null,
            "visibility": null,
            "align_self": null,
            "height": null,
            "min_height": null,
            "padding": null,
            "grid_auto_rows": null,
            "grid_gap": null,
            "max_width": null,
            "order": null,
            "_view_module_version": "1.2.0",
            "grid_template_areas": null,
            "object_position": null,
            "object_fit": null,
            "grid_auto_columns": null,
            "margin": null,
            "display": null,
            "left": null
          }
        },
        "56806b942020448eb169c63901b73d50": {
          "model_module": "@jupyter-widgets/controls",
          "model_name": "FloatProgressModel",
          "state": {
            "_view_name": "ProgressView",
            "style": "IPY_MODEL_a955779698154c42b12b221b35234227",
            "_dom_classes": [],
            "description": "100%",
            "_model_name": "FloatProgressModel",
            "bar_style": "success",
            "max": 1638,
            "_view_module": "@jupyter-widgets/controls",
            "_model_module_version": "1.5.0",
            "value": 1638,
            "_view_count": null,
            "_view_module_version": "1.5.0",
            "orientation": "horizontal",
            "min": 0,
            "description_tooltip": null,
            "_model_module": "@jupyter-widgets/controls",
            "layout": "IPY_MODEL_c28f16c7a6eb4959a9eea210e72e8b42"
          }
        },
        "629edf9a844f4b85b1f1638ed77ec46e": {
          "model_module": "@jupyter-widgets/controls",
          "model_name": "HTMLModel",
          "state": {
            "_view_name": "HTMLView",
            "style": "IPY_MODEL_817657c5436b4d9e83237d99afab2e07",
            "_dom_classes": [],
            "description": "",
            "_model_name": "HTMLModel",
            "placeholder": "​",
            "_view_module": "@jupyter-widgets/controls",
            "_model_module_version": "1.5.0",
            "value": " 1638/1638 [02:29&lt;00:00, 10.95it/s]",
            "_view_count": null,
            "_view_module_version": "1.5.0",
            "description_tooltip": null,
            "_model_module": "@jupyter-widgets/controls",
            "layout": "IPY_MODEL_a7ab14f7f8f74c0d835d3dee10d7f4a3"
          }
        },
        "a955779698154c42b12b221b35234227": {
          "model_module": "@jupyter-widgets/controls",
          "model_name": "ProgressStyleModel",
          "state": {
            "_view_name": "StyleView",
            "_model_name": "ProgressStyleModel",
            "description_width": "initial",
            "_view_module": "@jupyter-widgets/base",
            "_model_module_version": "1.5.0",
            "_view_count": null,
            "_view_module_version": "1.2.0",
            "bar_color": null,
            "_model_module": "@jupyter-widgets/controls"
          }
        },
        "c28f16c7a6eb4959a9eea210e72e8b42": {
          "model_module": "@jupyter-widgets/base",
          "model_name": "LayoutModel",
          "state": {
            "_view_name": "LayoutView",
            "grid_template_rows": null,
            "right": null,
            "justify_content": null,
            "_view_module": "@jupyter-widgets/base",
            "overflow": null,
            "_model_module_version": "1.2.0",
            "_view_count": null,
            "flex_flow": null,
            "width": null,
            "min_width": null,
            "border": null,
            "align_items": null,
            "bottom": null,
            "_model_module": "@jupyter-widgets/base",
            "top": null,
            "grid_column": null,
            "overflow_y": null,
            "overflow_x": null,
            "grid_auto_flow": null,
            "grid_area": null,
            "grid_template_columns": null,
            "flex": null,
            "_model_name": "LayoutModel",
            "justify_items": null,
            "grid_row": null,
            "max_height": null,
            "align_content": null,
            "visibility": null,
            "align_self": null,
            "height": null,
            "min_height": null,
            "padding": null,
            "grid_auto_rows": null,
            "grid_gap": null,
            "max_width": null,
            "order": null,
            "_view_module_version": "1.2.0",
            "grid_template_areas": null,
            "object_position": null,
            "object_fit": null,
            "grid_auto_columns": null,
            "margin": null,
            "display": null,
            "left": null
          }
        },
        "817657c5436b4d9e83237d99afab2e07": {
          "model_module": "@jupyter-widgets/controls",
          "model_name": "DescriptionStyleModel",
          "state": {
            "_view_name": "StyleView",
            "_model_name": "DescriptionStyleModel",
            "description_width": "",
            "_view_module": "@jupyter-widgets/base",
            "_model_module_version": "1.5.0",
            "_view_count": null,
            "_view_module_version": "1.2.0",
            "_model_module": "@jupyter-widgets/controls"
          }
        },
        "a7ab14f7f8f74c0d835d3dee10d7f4a3": {
          "model_module": "@jupyter-widgets/base",
          "model_name": "LayoutModel",
          "state": {
            "_view_name": "LayoutView",
            "grid_template_rows": null,
            "right": null,
            "justify_content": null,
            "_view_module": "@jupyter-widgets/base",
            "overflow": null,
            "_model_module_version": "1.2.0",
            "_view_count": null,
            "flex_flow": null,
            "width": null,
            "min_width": null,
            "border": null,
            "align_items": null,
            "bottom": null,
            "_model_module": "@jupyter-widgets/base",
            "top": null,
            "grid_column": null,
            "overflow_y": null,
            "overflow_x": null,
            "grid_auto_flow": null,
            "grid_area": null,
            "grid_template_columns": null,
            "flex": null,
            "_model_name": "LayoutModel",
            "justify_items": null,
            "grid_row": null,
            "max_height": null,
            "align_content": null,
            "visibility": null,
            "align_self": null,
            "height": null,
            "min_height": null,
            "padding": null,
            "grid_auto_rows": null,
            "grid_gap": null,
            "max_width": null,
            "order": null,
            "_view_module_version": "1.2.0",
            "grid_template_areas": null,
            "object_position": null,
            "object_fit": null,
            "grid_auto_columns": null,
            "margin": null,
            "display": null,
            "left": null
          }
        },
        "1c8b66d7979447e9892f60dcc50e6e78": {
          "model_module": "@jupyter-widgets/controls",
          "model_name": "HBoxModel",
          "state": {
            "_view_name": "HBoxView",
            "_dom_classes": [],
            "_model_name": "HBoxModel",
            "_view_module": "@jupyter-widgets/controls",
            "_model_module_version": "1.5.0",
            "_view_count": null,
            "_view_module_version": "1.5.0",
            "box_style": "",
            "layout": "IPY_MODEL_0a113e64a5204030afb5307a3015d407",
            "_model_module": "@jupyter-widgets/controls",
            "children": [
              "IPY_MODEL_94252401ab9740e2965bb0b22f56fe60",
              "IPY_MODEL_a456b53cd27e4a499a195264cb2a5322"
            ]
          }
        },
        "0a113e64a5204030afb5307a3015d407": {
          "model_module": "@jupyter-widgets/base",
          "model_name": "LayoutModel",
          "state": {
            "_view_name": "LayoutView",
            "grid_template_rows": null,
            "right": null,
            "justify_content": null,
            "_view_module": "@jupyter-widgets/base",
            "overflow": null,
            "_model_module_version": "1.2.0",
            "_view_count": null,
            "flex_flow": null,
            "width": null,
            "min_width": null,
            "border": null,
            "align_items": null,
            "bottom": null,
            "_model_module": "@jupyter-widgets/base",
            "top": null,
            "grid_column": null,
            "overflow_y": null,
            "overflow_x": null,
            "grid_auto_flow": null,
            "grid_area": null,
            "grid_template_columns": null,
            "flex": null,
            "_model_name": "LayoutModel",
            "justify_items": null,
            "grid_row": null,
            "max_height": null,
            "align_content": null,
            "visibility": null,
            "align_self": null,
            "height": null,
            "min_height": null,
            "padding": null,
            "grid_auto_rows": null,
            "grid_gap": null,
            "max_width": null,
            "order": null,
            "_view_module_version": "1.2.0",
            "grid_template_areas": null,
            "object_position": null,
            "object_fit": null,
            "grid_auto_columns": null,
            "margin": null,
            "display": null,
            "left": null
          }
        },
        "94252401ab9740e2965bb0b22f56fe60": {
          "model_module": "@jupyter-widgets/controls",
          "model_name": "FloatProgressModel",
          "state": {
            "_view_name": "ProgressView",
            "style": "IPY_MODEL_169fe322810e458a8f6562d1121ddd5d",
            "_dom_classes": [],
            "description": "100%",
            "_model_name": "FloatProgressModel",
            "bar_style": "success",
            "max": 1638,
            "_view_module": "@jupyter-widgets/controls",
            "_model_module_version": "1.5.0",
            "value": 1638,
            "_view_count": null,
            "_view_module_version": "1.5.0",
            "orientation": "horizontal",
            "min": 0,
            "description_tooltip": null,
            "_model_module": "@jupyter-widgets/controls",
            "layout": "IPY_MODEL_d08f5419459b4b3ea2ab0a9985adb22c"
          }
        },
        "a456b53cd27e4a499a195264cb2a5322": {
          "model_module": "@jupyter-widgets/controls",
          "model_name": "HTMLModel",
          "state": {
            "_view_name": "HTMLView",
            "style": "IPY_MODEL_a7ed51759313412e895744f0c8e3d6b6",
            "_dom_classes": [],
            "description": "",
            "_model_name": "HTMLModel",
            "placeholder": "​",
            "_view_module": "@jupyter-widgets/controls",
            "_model_module_version": "1.5.0",
            "value": " 1638/1638 [34:37&lt;00:00,  1.27s/it]",
            "_view_count": null,
            "_view_module_version": "1.5.0",
            "description_tooltip": null,
            "_model_module": "@jupyter-widgets/controls",
            "layout": "IPY_MODEL_912bb19d952f4f5a91494bede30cc70b"
          }
        },
        "169fe322810e458a8f6562d1121ddd5d": {
          "model_module": "@jupyter-widgets/controls",
          "model_name": "ProgressStyleModel",
          "state": {
            "_view_name": "StyleView",
            "_model_name": "ProgressStyleModel",
            "description_width": "initial",
            "_view_module": "@jupyter-widgets/base",
            "_model_module_version": "1.5.0",
            "_view_count": null,
            "_view_module_version": "1.2.0",
            "bar_color": null,
            "_model_module": "@jupyter-widgets/controls"
          }
        },
        "d08f5419459b4b3ea2ab0a9985adb22c": {
          "model_module": "@jupyter-widgets/base",
          "model_name": "LayoutModel",
          "state": {
            "_view_name": "LayoutView",
            "grid_template_rows": null,
            "right": null,
            "justify_content": null,
            "_view_module": "@jupyter-widgets/base",
            "overflow": null,
            "_model_module_version": "1.2.0",
            "_view_count": null,
            "flex_flow": null,
            "width": null,
            "min_width": null,
            "border": null,
            "align_items": null,
            "bottom": null,
            "_model_module": "@jupyter-widgets/base",
            "top": null,
            "grid_column": null,
            "overflow_y": null,
            "overflow_x": null,
            "grid_auto_flow": null,
            "grid_area": null,
            "grid_template_columns": null,
            "flex": null,
            "_model_name": "LayoutModel",
            "justify_items": null,
            "grid_row": null,
            "max_height": null,
            "align_content": null,
            "visibility": null,
            "align_self": null,
            "height": null,
            "min_height": null,
            "padding": null,
            "grid_auto_rows": null,
            "grid_gap": null,
            "max_width": null,
            "order": null,
            "_view_module_version": "1.2.0",
            "grid_template_areas": null,
            "object_position": null,
            "object_fit": null,
            "grid_auto_columns": null,
            "margin": null,
            "display": null,
            "left": null
          }
        },
        "a7ed51759313412e895744f0c8e3d6b6": {
          "model_module": "@jupyter-widgets/controls",
          "model_name": "DescriptionStyleModel",
          "state": {
            "_view_name": "StyleView",
            "_model_name": "DescriptionStyleModel",
            "description_width": "",
            "_view_module": "@jupyter-widgets/base",
            "_model_module_version": "1.5.0",
            "_view_count": null,
            "_view_module_version": "1.2.0",
            "_model_module": "@jupyter-widgets/controls"
          }
        },
        "912bb19d952f4f5a91494bede30cc70b": {
          "model_module": "@jupyter-widgets/base",
          "model_name": "LayoutModel",
          "state": {
            "_view_name": "LayoutView",
            "grid_template_rows": null,
            "right": null,
            "justify_content": null,
            "_view_module": "@jupyter-widgets/base",
            "overflow": null,
            "_model_module_version": "1.2.0",
            "_view_count": null,
            "flex_flow": null,
            "width": null,
            "min_width": null,
            "border": null,
            "align_items": null,
            "bottom": null,
            "_model_module": "@jupyter-widgets/base",
            "top": null,
            "grid_column": null,
            "overflow_y": null,
            "overflow_x": null,
            "grid_auto_flow": null,
            "grid_area": null,
            "grid_template_columns": null,
            "flex": null,
            "_model_name": "LayoutModel",
            "justify_items": null,
            "grid_row": null,
            "max_height": null,
            "align_content": null,
            "visibility": null,
            "align_self": null,
            "height": null,
            "min_height": null,
            "padding": null,
            "grid_auto_rows": null,
            "grid_gap": null,
            "max_width": null,
            "order": null,
            "_view_module_version": "1.2.0",
            "grid_template_areas": null,
            "object_position": null,
            "object_fit": null,
            "grid_auto_columns": null,
            "margin": null,
            "display": null,
            "left": null
          }
        }
      }
    },
    "accelerator": "GPU"
  },
  "cells": [
    {
      "cell_type": "markdown",
      "metadata": {
        "id": "bWpNaV-IPClV"
      },
      "source": [
        "# Imports"
      ]
    },
    {
      "cell_type": "code",
      "metadata": {
        "id": "zKV-NF6cLvx0"
      },
      "source": [
        "!pip install tensorflow_model_optimization"
      ],
      "execution_count": null,
      "outputs": []
    },
    {
      "cell_type": "code",
      "metadata": {
        "id": "xRYqwe_mPQDJ",
        "colab": {
          "base_uri": "https://localhost:8080/"
        },
        "outputId": "c939fa95-a82d-4e50-9278-faa8a089d168"
      },
      "source": [
        "import glob\n",
        "import matplotlib.pyplot as plt\n",
        "import numpy as np\n",
        "import ntpath\n",
        "import os\n",
        "import pandas as pd\n",
        "import tensorflow as tf\n",
        "import tensorflow_model_optimization as tfmot\n",
        "import time\n",
        "import warnings\n",
        "from PIL import Image\n",
        "from random import randint\n",
        "from scipy.io import loadmat  \n",
        "from sklearn.model_selection import train_test_split\n",
        "from sklearn.utils import class_weight\n",
        "from tqdm.notebook import tqdm, trange\n",
        "from tensorflow.keras import Model\n",
        "from tensorflow.keras.applications.densenet import DenseNet121\n",
        "from tensorflow.keras.applications.efficientnet import EfficientNetB0\n",
        "from tensorflow.keras.applications.efficientnet import EfficientNetB2\n",
        "from tensorflow.keras.applications.imagenet_utils import preprocess_input\n",
        "from tensorflow.keras.applications.mobilenet_v2 import MobileNetV2\n",
        "from tensorflow.keras.callbacks import EarlyStopping\n",
        "from tensorflow.keras.layers import Dense, Dropout, Conv2D\n",
        "from tensorflow.keras.metrics import CategoricalAccuracy, TopKCategoricalAccuracy\n",
        "from tensorflow.keras.models import clone_model, load_model\n",
        "from tensorflow.keras.optimizers import Adam\n",
        "from tensorflow.keras.preprocessing.image import load_img, img_to_array, ImageDataGenerator\n",
        "from tensorflow_model_optimization.sparsity.keras import ConstantSparsity, prune_low_magnitude, UpdatePruningStep, strip_pruning\n",
        "\n",
        "plt.style.use('ggplot')\n",
        "warnings.filterwarnings(\"ignore\")"
      ],
      "execution_count": null,
      "outputs": [
        {
          "output_type": "stream",
          "text": [
            "Collecting tensorflow_model_optimization\n",
            "\u001b[?25l  Downloading https://files.pythonhosted.org/packages/55/38/4fd48ea1bfcb0b6e36d949025200426fe9c3a8bfae029f0973d85518fa5a/tensorflow_model_optimization-0.5.0-py2.py3-none-any.whl (172kB)\n",
            "\u001b[K     |████████████████████████████████| 174kB 4.1MB/s \n",
            "\u001b[?25hRequirement already satisfied: six~=1.10 in /usr/local/lib/python3.6/dist-packages (from tensorflow_model_optimization) (1.15.0)\n",
            "Requirement already satisfied: numpy~=1.14 in /usr/local/lib/python3.6/dist-packages (from tensorflow_model_optimization) (1.19.5)\n",
            "Requirement already satisfied: dm-tree~=0.1.1 in /usr/local/lib/python3.6/dist-packages (from tensorflow_model_optimization) (0.1.5)\n",
            "Installing collected packages: tensorflow-model-optimization\n",
            "Successfully installed tensorflow-model-optimization-0.5.0\n"
          ],
          "name": "stdout"
        }
      ]
    },
    {
      "cell_type": "markdown",
      "metadata": {
        "id": "5WO9wvHlQEDJ"
      },
      "source": [
        "# Functions"
      ]
    },
    {
      "cell_type": "markdown",
      "metadata": {
        "id": "TeadxbZsTfVM"
      },
      "source": [
        "## print_zeros"
      ]
    },
    {
      "cell_type": "code",
      "metadata": {
        "id": "JuCcoh-3OviO"
      },
      "source": [
        "def print_zeros(model):\n",
        "  \"\"\" \n",
        "    Print the percentage of zeros in layers of model\n",
        "\n",
        "    Parameters: \n",
        "    model : the model to analyze\n",
        "  \n",
        "  \"\"\"\n",
        "  for layer in model.layers:\n",
        "    if isinstance(layer, Conv2D):\n",
        "      if not 'depthwise' in layer.name:\n",
        "        w = layer.get_weights()[0]\n",
        "        print(\"{} - Zeros: {:.2f}%\".format(layer.name, np.sum(w == 0) / w.size * 100))\n",
        "    if isinstance(layer, Dense):\n",
        "      print(\"{} - Zeros: {:.2f}%\".format(layer.name, np.sum(w == 0) / w.size * 100))"
      ],
      "execution_count": null,
      "outputs": []
    },
    {
      "cell_type": "markdown",
      "metadata": {
        "id": "zjuxeFySTnzB"
      },
      "source": [
        "## plot_training_epochs"
      ]
    },
    {
      "cell_type": "code",
      "metadata": {
        "id": "b1yYYVUFzvOf"
      },
      "source": [
        "def plot_training_epochs(name, net, hist, es):\n",
        "  \"\"\" \n",
        "    Plot the training and the validation loss and accuracy (top-1, top-3, top-5)\n",
        "    through training epochs.\n",
        "  \n",
        "    Parameters: \n",
        "    name : name for the output file\n",
        "    net : name for plot title\n",
        "    hist : training history\n",
        "    es : EarlyStopping callback\n",
        "  \n",
        "  \"\"\"\n",
        "\n",
        "  # loss plot\n",
        "  plt.title(net + \" loss\")\n",
        "  plt.plot(hist.history['val_loss'], color = 'orange')\n",
        "  plt.plot(hist.history['loss'], color = 'blue')\n",
        "  plt.xlabel('epoch')\n",
        "  plt.ylabel('categorical cross entropy')\n",
        "  if es.stopped_epoch != 0:\n",
        "    plt.axvline(x=es.stopped_epoch, color='gray', lw=1.5, ls='--', label='stopped epoch')\n",
        "  plt.xticks(np.arange(0,10,1), np.arange(1,11,1))\n",
        "  plt.xlim(0,9)\n",
        "  plt.legend(['Validation','Training', 'Stopped epoch'],loc=\"upper right\")\n",
        "  plt.savefig(name + '-loss.eps', format='eps', dpi=600)\n",
        "  \n",
        "  # top-1, top-3, top-5 accuracy plots\n",
        "  fig , axes = plt.subplots(1, 3, figsize=(14,4))\n",
        "\n",
        "  fig.suptitle(net + ' accuracy', fontsize=20)\n",
        "\n",
        "  axes[0].title.set_text(\"Top 1\")\n",
        "  axes[0].plot(hist.history['val_categorical_accuracy'], color='red')\n",
        "  axes[0].plot(hist.history['categorical_accuracy'], color='green')\n",
        "  axes[0].set_ylim([0,1])\n",
        "  axes[0].set_xlabel('epoch')\n",
        "  axes[0].set_ylabel('accuracy')\n",
        "  if es.stopped_epoch != 0:\n",
        "    axes[0].axvline(x=es.stopped_epoch, color='gray', lw=1.5, ls='--', label='stopped epoch')\n",
        "  axes[0].set_yticks(np.arange(0,1.1,0.1))\n",
        "  axes[0].set_xticks(np.arange(0,10,1))\n",
        "  axes[0].set_xticklabels(np.arange(1,11,1))\n",
        "  axes[0].set_xlim(0,9)\n",
        "  axes[0].legend(['Validation','Training', 'Stopped epoch'],loc=\"lower right\")\n",
        "\n",
        "  axes[1].title.set_text(\"Top 3\")\n",
        "  axes[1].plot(hist.history['val_top_3_categorical_accuracy'], color='red')\n",
        "  axes[1].plot(hist.history['top_3_categorical_accuracy'], color='green')\n",
        "  axes[1].set_ylim([0,1])\n",
        "  axes[1].set_xlabel('epoch')\n",
        "  axes[1].set_ylabel('accuracy')\n",
        "  if es.stopped_epoch != 0:\n",
        "    axes[1].axvline(x=es.stopped_epoch, color='gray', lw=1.5, ls='--', label='stopped epoch')\n",
        "  axes[1].set_yticks(np.arange(0,1.1,0.1))\n",
        "  axes[1].set_xticks(np.arange(0,10,1))\n",
        "  axes[1].set_xticklabels(np.arange(1,11,1))\n",
        "  axes[1].set_xlim(0,9)\n",
        "  axes[1].legend(['Validation','Training', 'Stopped epoch'],loc=\"lower right\")\n",
        "  \n",
        "\n",
        "  axes[2].title.set_text(\"Top 5\")\n",
        "  axes[2].plot(hist.history['val_top_5_categorical_accuracy'], color='red')\n",
        "  axes[2].plot(hist.history['top_5_categorical_accuracy'], color='green')\n",
        "  axes[2].set_ylim([0,1])\n",
        "  axes[2].set_xlabel('epoch')\n",
        "  axes[2].set_ylabel('accuracy')\n",
        "  if es.stopped_epoch != 0:\n",
        "    axes[2].axvline(x=es.stopped_epoch, color='gray', lw=1.5, ls='--', label='stopped epoch')\n",
        "  axes[2].set_yticks(np.arange(0,1.1,0.1))\n",
        "  axes[2].set_xticks(np.arange(0,10,1))\n",
        "  axes[2].set_xticklabels(np.arange(1,11,1))\n",
        "  axes[2].set_xlim(0,9)\n",
        "  axes[2].legend(['Validation','Training', 'Stopped epoch'],loc=\"lower right\")\n",
        "\n",
        "  fig.tight_layout(rect=[0, 0.03, 1, 0.92])\n",
        "\n",
        "  fig.savefig(name + '-accuracy.eps', format='eps', dpi=600)"
      ],
      "execution_count": null,
      "outputs": []
    },
    {
      "cell_type": "markdown",
      "metadata": {
        "id": "KnYQR20MTsoN"
      },
      "source": [
        "## params_per_layer"
      ]
    },
    {
      "cell_type": "code",
      "metadata": {
        "id": "_aPU4dbxhl0y"
      },
      "source": [
        "def params_per_layer(model):\n",
        "  \"\"\" \n",
        "    Print the number and the percentage of parameters for each layer of the \n",
        "    model.\n",
        "  \n",
        "    Parameters: \n",
        "    model : the model to analyze\n",
        "  \n",
        "  \"\"\"\n",
        "  types=[]\n",
        "  for layer in model.layers:\n",
        "    if layer.__class__.__name__ not in types:\n",
        "      types.append(layer.__class__.__name__)\n",
        "  sum_layers=[]\n",
        "  for i, layer_type in enumerate(types):\n",
        "    sum=0 \n",
        "    for layer in model.layers:\n",
        "      if (layer.__class__.__name__==layer_type):\n",
        "        sum=sum + layer.count_params()\n",
        "    sum_layers.append(sum)\n",
        "  perc=np.around(np.array(sum_layers)/model.count_params()*100,2)\n",
        "  print(pd.DataFrame(list(zip(sum_layers, perc)), index=types, columns=['Total', 'Total%']))"
      ],
      "execution_count": null,
      "outputs": []
    },
    {
      "cell_type": "markdown",
      "metadata": {
        "id": "8cspMPHLTvOS"
      },
      "source": [
        "## prune_net"
      ]
    },
    {
      "cell_type": "code",
      "metadata": {
        "id": "xa-9lvnid9IA"
      },
      "source": [
        "def prune_net(model_to_prune, max_sparsity):\n",
        "  \"\"\" \n",
        "    Applies iterative pruning to model (magnitude based). \n",
        "  \n",
        "    Parameters: \n",
        "    model_to_prune : the model to prune\n",
        "    max_sparsity : max sparsity to reach (6=60%)\n",
        "  \n",
        "  \"\"\"\n",
        "  scores = []\n",
        "  # Evaluating base model\n",
        "  print('evaluating base')\n",
        "  score_init = model_to_prune.evaluate(test_generator,\n",
        "                                       verbose=1, \n",
        "                                       batch_size=64, \n",
        "                                       steps=1638/64)\n",
        "  scores.append(score_init)\n",
        "  model_for_pruning = None\n",
        "  # Print percentage of zeros per layer\n",
        "  print_zeros(model_to_prune)\n",
        "  print('\\n')\n",
        "  # For each sparsity 0.1, 0.2, ..., max_sparsity evaluate the model obtained\n",
        "  for i in [round(x*0.1,2) for x in range(1,max_sparsity+1)]:\n",
        "    print(\"pruning parameters {}%\".format(i*100))\n",
        "    # Used to prune only convolutional layers (no depthwise) or dense layers\n",
        "    def apply_pruning(layer):\n",
        "      pruning_params = {\n",
        "          'pruning_schedule': ConstantSparsity(i,0)\n",
        "      }\n",
        "      if (isinstance(layer, Conv2D) and not 'depthwise' in layer.name) or isinstance(layer, Dense):\n",
        "        return prune_low_magnitude(layer, **pruning_params)\n",
        "      else:\n",
        "        return layer\n",
        "    # If it is the first iteration clone the model given as argument\n",
        "    if i==0.1:\n",
        "      model_for_pruning = clone_model(\n",
        "        model_to_prune,\n",
        "        clone_function=apply_pruning,\n",
        "      ) \n",
        "    # Otherwise clone the model obtained in the iteration before\n",
        "    else:\n",
        "      model_for_pruning = clone_model(\n",
        "        final_model,\n",
        "        clone_function=apply_pruning,\n",
        "      )\n",
        "      del final_model\n",
        "    # Compile pruned model\n",
        "    model_for_pruning.compile(\n",
        "        optimizer=Adam(learning_rate=0.002),\n",
        "        loss='categorical_crossentropy',\n",
        "        metrics=[CategoricalAccuracy(name=\"categorical_accuracy\"),\n",
        "                 TopKCategoricalAccuracy(k=3, name='top_3_categorical_accuracy'),\n",
        "                 TopKCategoricalAccuracy(k=5, name='top_5_categorical_accuracy')\n",
        "        ]\n",
        "      )\n",
        "    es = EarlyStopping(monitor='val_categorical_accuracy', mode='max', min_delta=.02, patience=2, restore_best_weights=True)\n",
        "    print('training')\n",
        "    # Train pruned model\n",
        "    hist = model_for_pruning.fit(train_generator,\n",
        "                    validation_data=val_generator,\n",
        "                    batch_size=64,\n",
        "                    validation_batch_size=64,\n",
        "                    steps_per_epoch=5284/64,\n",
        "                    validation_steps=1267/64,\n",
        "                    epochs=10,\n",
        "                    callbacks=[es,\n",
        "                               UpdatePruningStep()],\n",
        "                    class_weight=class_weights)\n",
        "    # Evaluate pruned and trained model\n",
        "    final_model = strip_pruning(model_for_pruning)\n",
        "    final_model.compile(\n",
        "        optimizer=Adam(learning_rate=0.002),\n",
        "        loss='categorical_crossentropy',\n",
        "        metrics=[CategoricalAccuracy(name=\"categorical_accuracy\"),\n",
        "                 TopKCategoricalAccuracy(k=3, name='top_3_categorical_accuracy'),\n",
        "                 TopKCategoricalAccuracy(k=5, name='top_5_categorical_accuracy')\n",
        "      ]\n",
        "    )\n",
        "    # Print the percentage of zeros reached\n",
        "    print_zeros(final_model)\n",
        "    print('evaluating')\n",
        "    score_pruned = final_model.evaluate(test_generator,\n",
        "                                        verbose=1, \n",
        "                                        batch_size=64, \n",
        "                                        steps=1638/64)\n",
        "    # Save the pruned model obtained\n",
        "    final_model.save(model_to_prune.name+str(round(i*100))+'.h5')\n",
        "    scores.append(score_pruned)\n",
        "    print('\\n')\n",
        "  return scores"
      ],
      "execution_count": null,
      "outputs": []
    },
    {
      "cell_type": "markdown",
      "metadata": {
        "id": "we9BFHekTzai"
      },
      "source": [
        "##plot_models_comparison"
      ]
    },
    {
      "cell_type": "code",
      "metadata": {
        "id": "5Lx2CSVIaXpM"
      },
      "source": [
        "def plot_models_comparison(names, *scores):\n",
        "  \"\"\" \n",
        "    Plot accuracy values obtained by different models on the same test set.\n",
        "  \n",
        "    Parameters: \n",
        "    names (string): names of different models\n",
        "    *score : list of score lists obtained by model.evaluate\n",
        "  \n",
        "  \"\"\"\n",
        "  accuracy = [x[1] for x in scores]\n",
        "  accuracy3 = [x[2] for x in scores]\n",
        "  accuracy5 = [x[3] for x in scores]\n",
        "  dataframe = pd.DataFrame(list(zip(accuracy, accuracy3, accuracy5)), \n",
        "                           columns=['Top 1', 'Top 3', 'Top 5'],\n",
        "                           index=names)\n",
        "  dataframe = dataframe.transpose()\n",
        "  fig = dataframe.plot.bar(rot=0, figsize=(8,4))\n",
        "  fig.grid(axis='x')\n",
        "  fig.set_ylabel('accuracy')\n",
        "  fig.set_ylim([0.8,1.05])\n",
        "  fig.legend(names, loc='lower right')\n",
        "  fig.set_title('Performance of models')\n",
        "  for p in fig.patches:\n",
        "    fig.annotate(str(round(p.get_height(),2)), (p.get_x() * 1.005, p.get_height() + 0.005))\n",
        "  fig.get_figure().savefig('performance-test.eps', format='eps', dpi=600)"
      ],
      "execution_count": null,
      "outputs": []
    },
    {
      "cell_type": "markdown",
      "metadata": {
        "id": "_dgiuW7HT42v"
      },
      "source": [
        "##model_to_TFlite_float32"
      ]
    },
    {
      "cell_type": "code",
      "metadata": {
        "id": "9Uot9Mh0irXi"
      },
      "source": [
        "def model_to_TFlite_float32(model,new_model_path):\r\n",
        "  \"\"\"\r\n",
        "    Convert a model.h5 in a model.tflite\r\n",
        "    In this way run the pruning and the quantization on the model the size decrease and the accuracy is kept\r\n",
        "\r\n",
        "    Parameters:\r\n",
        "    model: model to convert\r\n",
        "    new_model_path: directory where the new model.tflite will be stored\r\n",
        "\r\n",
        "  \"\"\"\r\n",
        "  converter = tf.lite.TFLiteConverter.from_keras_model(model)\r\n",
        "  quantized_and_pruned_tflite_model = converter.convert()\r\n",
        "\r\n",
        "  with tf.io.gfile.GFile(new_model_path, 'wb') as f:\r\n",
        "    f.write(quantized_and_pruned_tflite_model) "
      ],
      "execution_count": null,
      "outputs": []
    },
    {
      "cell_type": "markdown",
      "metadata": {
        "id": "o14DzVVKT-iT"
      },
      "source": [
        "##model_to_TFlite_dynamic"
      ]
    },
    {
      "cell_type": "code",
      "metadata": {
        "id": "poPv-i_v4ezK"
      },
      "source": [
        "def model_to_TFlite_dynamic(model,new_model_path):\n",
        "  \"\"\"\n",
        "    Convert a model.h5 in a model.tflite\n",
        "    In this way run the pruning on the model the size decrease and the accuracy is kept\n",
        "\n",
        "    Parameters:\n",
        "    model: model to convert\n",
        "    new_model_path: directory where the new model.tflite will be stored\n",
        "\n",
        "  \"\"\"\n",
        "  converter = tf.lite.TFLiteConverter.from_keras_model(model)\n",
        "  converter.optimizations = [tf.lite.Optimize.DEFAULT]\n",
        "  pruned_tflite_model = converter.convert()\n",
        "\n",
        "  with tf.io.gfile.GFile(new_model_path, 'wb') as f:\n",
        "    f.write(pruned_tflite_model)"
      ],
      "execution_count": null,
      "outputs": []
    },
    {
      "cell_type": "markdown",
      "metadata": {
        "id": "oaFNhcH0UApy"
      },
      "source": [
        "## model_to_TFlite_float16"
      ]
    },
    {
      "cell_type": "code",
      "metadata": {
        "id": "Mgs8EdZ1SBM3"
      },
      "source": [
        "def model_to_TFlite_float16(model,new_model_path):\n",
        "  \"\"\"\n",
        "    Convert a model.h5 in a model.tflite\n",
        "    In this way run the pruning on the model the size decrease and the accuracy is kept\n",
        "\n",
        "    Parameters:\n",
        "    model: model to convert\n",
        "    new_model_path: directory where the new model.tflite will be stored\n",
        "\n",
        "  \"\"\"\n",
        "  converter = tf.lite.TFLiteConverter.from_keras_model(model)\n",
        "  converter.optimizations = [tf.lite.Optimize.DEFAULT]\n",
        "  converter.target_spec.supported_types = [tf.float16]\n",
        "  pruned_tflite_model = converter.convert()\n",
        "\n",
        "  with tf.io.gfile.GFile(new_model_path, 'wb') as f:\n",
        "    f.write(pruned_tflite_model)"
      ],
      "execution_count": null,
      "outputs": []
    },
    {
      "cell_type": "markdown",
      "metadata": {
        "id": "vlVaSyNRUD2S"
      },
      "source": [
        "##tflite_performance"
      ]
    },
    {
      "cell_type": "code",
      "metadata": {
        "id": "ADsna-1cjspX"
      },
      "source": [
        "def tflite_performance(model_path, test, preprocess):\r\n",
        "\r\n",
        "  \"\"\"\r\n",
        "    Evaluate the performances accuracy, top3_accuracy, top5_accuracy of a model.tflite\r\n",
        "\r\n",
        "    Parameters:\r\n",
        "    model_path: where the model.tflite has been stored\r\n",
        "    test: a Pandas.DataFrame that contain two columns ['file_name','label']\r\n",
        "          - file_name is the path of a image tensor to load with load_img\r\n",
        "\r\n",
        "    return accuracy, top3_accuracy, top5_accuracy\r\n",
        "  \"\"\"\r\n",
        "\r\n",
        "  times=[]\r\n",
        "\r\n",
        "  # Load TFLite model and allocate tensors.\r\n",
        "  interpreter = tf.lite.Interpreter(model_path)\r\n",
        "  interpreter.allocate_tensors()\r\n",
        "\r\n",
        "  print(\"Interpreter allocate...\")\r\n",
        "  # Get input and output tensors.\r\n",
        "  input_details = interpreter.get_input_details()\r\n",
        "  output_details = interpreter.get_output_details()\r\n",
        "  #prediction_list = []\r\n",
        "  prediction = []\r\n",
        "  prediction3 = []\r\n",
        "  prediction5 = []\r\n",
        "  print(\"Start evaluation...\")\r\n",
        "  # Test model.tflite on test data.\r\n",
        "\r\n",
        "  n_data = test.shape[0]\r\n",
        "\r\n",
        "  for i in trange(n_data):        \r\n",
        "    test_image = test.filename.iloc[i]  \r\n",
        "    test_label = test.label.iloc[i]\r\n",
        "\r\n",
        "    img_path = \"/content/\"+test_image\r\n",
        "\r\n",
        "    img_random = tf.keras.preprocessing.image.load_img(img_path, target_size = (224, 224))\r\n",
        "    img_random = tf.keras.preprocessing.image.img_to_array(img_random)\r\n",
        "    #img_random = img_random / 255\r\n",
        "    img_random = preprocess(img_random)\r\n",
        "    img_random = img_random.reshape(1,224,224,3)\r\n",
        "    #print(\"dim: \",img_random.shape)\r\n",
        "    #print(\"dtype image\", img_random.dtype)\r\n",
        "    #plt.imshow(img_random.reshape(224,224,3), cmap=plt.cm.binary)\r\n",
        "\r\n",
        "    \r\n",
        "    interpreter.set_tensor(input_details[0]['index'], img_random)\r\n",
        "    \r\n",
        "    start_time = time.time()\r\n",
        "    interpreter.invoke()\r\n",
        "    execution_time = time.time() - start_time \r\n",
        "    # The function `get_tensor()` returns a copy of the tensor data.\r\n",
        "    # Use `tensor()` in order to get a pointer to the tensor.\r\n",
        "    output_data = interpreter.get_tensor(output_details[0]['index'])\r\n",
        "    top_probs, top_idxs = tf.math.top_k(input=output_data[0], k=5)\r\n",
        "    times.append(execution_time)\r\n",
        "    indici = np.array(top_idxs, dtype=int) \r\n",
        "\r\n",
        "    #print(\"\\nImage label:\\t\", test_label)\r\n",
        "    #print(\"\\nLabel before:\\t\",(indici))\r\n",
        "    labels_pred = []\r\n",
        "    for item in indici:\r\n",
        "      labels_pred.extend(dictionary_ind[item])\r\n",
        "    \r\n",
        "    labels_pred = np.array(labels_pred, dtype='int64')\r\n",
        "    #print(\"Label after:\\t\", labels_pred)\r\n",
        "\r\n",
        "\r\n",
        "    if (labels_pred[0] == test_label ):\r\n",
        "      prediction.append(1)\r\n",
        "    else:\r\n",
        "      prediction.append(0)\r\n",
        "\r\n",
        "    if (test_label in labels_pred[0:3]):\r\n",
        "      prediction3.append(1)\r\n",
        "    else:\r\n",
        "      prediction3.append(0)\r\n",
        "\r\n",
        "    if (test_label in labels_pred[0:5]):\r\n",
        "      prediction5.append(1)\r\n",
        "    else:\r\n",
        "      prediction5.append(0)\r\n",
        "    \r\n",
        "  top1 = prediction.count(1)/len(prediction)\r\n",
        "  top3 = prediction3.count(1)/len(prediction3)\r\n",
        "  top5 = prediction5.count(1)/len(prediction5)\r\n",
        "\r\n",
        "  return top1, top3, top5, np.mean(np.array(times))"
      ],
      "execution_count": null,
      "outputs": []
    },
    {
      "cell_type": "markdown",
      "metadata": {
        "id": "W7QTSFa9UHUa"
      },
      "source": [
        "##plot_quantization_size"
      ]
    },
    {
      "cell_type": "code",
      "metadata": {
        "id": "u3g_SmYBrkqx"
      },
      "source": [
        "def plot_quantization_size(labels, mobilenet, densenet, efficientnet, name):\n",
        "  \"\"\"\n",
        "    Plot the size of the models.h5 and the models.tflite\n",
        "    \n",
        "    Parameters: \n",
        "      labels: list of name under the plt.bar\n",
        "      normal: list of models.h5 attribute\n",
        "      float16: list of models.tflite attribute\n",
        "      dynamic: list of models.tflite attribute\n",
        "      string: attribute that you want compare\n",
        "      unit: unit of the ylabel\n",
        "      name: name of the chart\n",
        "\n",
        "  \"\"\"\n",
        "  dataframe = pd.DataFrame(list(zip(mobilenet, densenet, efficientnet)), \n",
        "                           columns=labels,\n",
        "                           index=labels)\n",
        "  dataframe = dataframe.transpose()\n",
        "  fig = dataframe.plot.bar(rot=0, figsize=(8,4))\n",
        "  fig.grid(axis='x')\n",
        "  fig.set_ylabel('Size (MB)')\n",
        "  fig.set_ylim([0,30])\n",
        "  fig.legend(['Float32', 'Float16', 'Dynamic range'], loc='upper left')\n",
        "  fig.set_title('Size of models')\n",
        "  fig.get_figure().savefig(name, format='eps', dpi=600)"
      ],
      "execution_count": null,
      "outputs": []
    },
    {
      "cell_type": "markdown",
      "metadata": {
        "id": "5syIyq0_UKKD"
      },
      "source": [
        "##plot_predict_image"
      ]
    },
    {
      "cell_type": "code",
      "metadata": {
        "id": "k1pCbr3Q2A3m"
      },
      "source": [
        "def plot_predict_image(img_path, model, preprocess_input, k, dictionary, name):\r\n",
        "  \"\"\"\r\n",
        "    Plot image predictions\r\n",
        "\r\n",
        "    Parameters:\r\n",
        "      img_path: image to predict\r\n",
        "      model: who predict\r\n",
        "      preprocess_input: function use in the preprocess\r\n",
        "      k: how many result plot\r\n",
        "      dictionary: reference between prediction and labels\r\n",
        "      name: name to store the chart\r\n",
        "  \"\"\"\r\n",
        "\r\n",
        "  print(model.name)\r\n",
        "  plot_img = tf.keras.preprocessing.image.load_img(img_path, target_size = (224, 224))\r\n",
        "\r\n",
        "  img = tf.keras.preprocessing.image.load_img(img_path, target_size = (224, 224))\r\n",
        "  img = tf.keras.preprocessing.image.img_to_array(img)\r\n",
        "  img = np.expand_dims(img, axis = 0)\r\n",
        "  img_pre = preprocess_input(img)\r\n",
        "  \r\n",
        "\r\n",
        "  prediction = model.predict(img_pre)\r\n",
        "  top_probs, top_idxs = tf.math.top_k(input=prediction, k=k)\r\n",
        "  print(\"Probabilità: \\t\",top_probs.numpy())\r\n",
        "                                              \r\n",
        "  indici = np.array(top_idxs, dtype=int)\r\n",
        "  indices = []\r\n",
        "\r\n",
        "  for item in indici[0]:\r\n",
        "    indices.extend(dictionary[item])\r\n",
        "\r\n",
        "  indici = np.array(indices, dtype=int)\r\n",
        "\r\n",
        "  print(\"indici: \\t\", indici)\r\n",
        "  pred_label = []\r\n",
        "  for i in indici:\r\n",
        "    pred_label.append(labels_name[i])\r\n",
        "  print(pred_label)\r\n",
        "  fig, (ax1, ax2) = plt.subplots(figsize=(12,4), ncols=2)\r\n",
        "  fig.suptitle('Prediction example')\r\n",
        "  ax1.imshow(plot_img, cmap=plt.cm.binary)\r\n",
        "  ax1.grid(False)\r\n",
        "\r\n",
        "  for label, prob in zip(pred_label, top_probs[0]):\r\n",
        "    ax2 = plt.barh(label, prob)\r\n",
        "\r\n",
        "  plt.tight_layout()\r\n",
        "  plt.savefig(name, dpi=600)"
      ],
      "execution_count": null,
      "outputs": []
    },
    {
      "cell_type": "markdown",
      "metadata": {
        "id": "h2CwnUjoUNQB"
      },
      "source": [
        "##modified_preprocess"
      ]
    },
    {
      "cell_type": "code",
      "metadata": {
        "id": "1CM3qaUdX1C2"
      },
      "source": [
        "def modified_preprocess(x, data_format=None, mode='caffe', **kwargs):\n",
        "  \"\"\" \n",
        "    Extend the original preprocessing function used in the ImageDataGenerator.\n",
        "    In this way the same preprocessing function can be used for different models\n",
        "    . The parameter mode is based on the value of the global variable 'net'. \n",
        "  \n",
        "    Parameters: \n",
        "    x: image tensor\n",
        "    data_format: Data format of the image tensor/array.\n",
        "    mode: One of \"caffe\", \"tf\" or \"torch\".\n",
        "            - caffe: will convert the images from RGB to BGR,\n",
        "                then will zero-center each color channel with\n",
        "                respect to the ImageNet dataset,\n",
        "                without scaling.\n",
        "            - tf: will scale pixels between -1 and 1,\n",
        "                sample-wise.\n",
        "            - torch: will scale pixels between 0 and 1 and then\n",
        "                will normalize each channel with respect to the\n",
        "                ImageNet dataset.\n",
        "  \n",
        "  \"\"\"\n",
        "  # mobilenet uses 'tf' mode\n",
        "  if net=='mobilenet':\n",
        "    return preprocess_input(x, data_format, 'tf', **kwargs)\n",
        "  # densenet use 'torch' mode\n",
        "  elif net=='densenet':\n",
        "    return preprocess_input(x, data_format, 'torch', **kwargs)\n",
        "  # efficientnet preprocessing is included as layer in the net\n",
        "  elif net=='efficientnet':\n",
        "    return x"
      ],
      "execution_count": null,
      "outputs": []
    },
    {
      "cell_type": "markdown",
      "metadata": {
        "id": "SfVg1xAiUPem"
      },
      "source": [
        "##plot_training_class_distribution"
      ]
    },
    {
      "cell_type": "code",
      "metadata": {
        "id": "_pBgdhK5MDmf"
      },
      "source": [
        "def plot_training_class_distribution(labels, path):\n",
        "  \"\"\"\n",
        "    Plot training set class distribution\n",
        "\n",
        "    Parameters:\n",
        "      labels: list of training set labels\n",
        "      path: where to save plot image \n",
        "  \"\"\"\n",
        "  labels_plot = np.array(labels)\n",
        "  labels_count = np.unique(labels_plot, return_counts=True)\n",
        "  plt.figure(figsize=(10,4))\n",
        "  plt.bar(labels_count[0], labels_count[1], width=0.5)\n",
        "  plt.title('Training set class distribution')\n",
        "  plt.grid(axis='x')\n",
        "  plt.xlabel('class')\n",
        "  plt.ylabel('count')\n",
        "  plt.xlim(-1,102)\n",
        "  plt.xticks(np.arange(0,102,5))\n",
        "  plt.tight_layout()\n",
        "  plt.savefig(path, format='eps', dpi=600)"
      ],
      "execution_count": null,
      "outputs": []
    },
    {
      "cell_type": "markdown",
      "metadata": {
        "id": "rnhEW8U9URSR"
      },
      "source": [
        "##reverse_dict"
      ]
    },
    {
      "cell_type": "code",
      "metadata": {
        "id": "LwQi--NE0QD4"
      },
      "source": [
        "def reverse_dict(train_generator):\r\n",
        "  \"\"\"\r\n",
        "    Create a reversed reference between train_generator indices and the labels\r\n",
        "\r\n",
        "    Parameters:\r\n",
        "      train_generator: ImageDataGenerator used for training\r\n",
        "  \"\"\"\r\n",
        "  dictionary_ind = {}\r\n",
        "  for k,v in train_generator.class_indices.items():\r\n",
        "      if v in dictionary_ind:\r\n",
        "          dictionary_ind[v].append(k)\r\n",
        "      else:\r\n",
        "          dictionary_ind[v] = [k]\r\n",
        "  return dictionary_ind"
      ],
      "execution_count": null,
      "outputs": []
    },
    {
      "cell_type": "markdown",
      "metadata": {
        "id": "ztWugJ_6UVaB"
      },
      "source": [
        "##plot_accuracy_sparsity_curve"
      ]
    },
    {
      "cell_type": "code",
      "metadata": {
        "id": "KxckDAOrRX-F"
      },
      "source": [
        "def plot_accuracy_sparsity_curve(scores, name, path):\n",
        "  \"\"\"\n",
        "    Plot accuracy_sparsity curve\n",
        "\n",
        "    Parameters:\n",
        "      scores: accuracy scores obtained during iterative pruning\n",
        "      path: where to save plot image \n",
        "  \"\"\"\n",
        "  loss_accuracy = [x[1]-scores[0][1] for x in scores]\n",
        "  loss_accuracy_3 = [x[2]-scores[0][2] for x in scores]\n",
        "  loss_accuracy_5 = [x[3]-scores[0][3] for x in scores]\n",
        "  plt.plot(loss_accuracy)\n",
        "  plt.plot(loss_accuracy_3)\n",
        "  plt.plot(loss_accuracy_5)\n",
        "  plt.ylim(-0.2,0.1)\n",
        "  plt.xticks(np.arange(7), labels=['0','10', '20', '30', '40', '50', '60'])\n",
        "  plt.xlabel('pruned parameters (%)')\n",
        "  plt.yticks(np.round(np.arange(-0.2, 0.2, 0.05), 2), labels=['-20', '-15', '-10', '-5', '0', '+5', '+10', '+15'])\n",
        "  plt.ylabel('accuracy loss (%)')\n",
        "  plt.legend(['Top 1', 'Top 3', 'Top 5'])\n",
        "  plt.title(net + ' pruning effect')\n",
        "  plt.savefig(path, format='eps', dpi=600)"
      ],
      "execution_count": null,
      "outputs": []
    },
    {
      "cell_type": "markdown",
      "metadata": {
        "id": "IqqEhr3QQL3R"
      },
      "source": [
        "# Dataset"
      ]
    },
    {
      "cell_type": "markdown",
      "metadata": {
        "id": "iaD48DuNReQO"
      },
      "source": [
        "## Download images"
      ]
    },
    {
      "cell_type": "code",
      "metadata": {
        "id": "hmdwXCySXLt0"
      },
      "source": [
        "# Download dataset\n",
        "!wget https://www.robots.ox.ac.uk/~vgg/data/flowers/102/102flowers.tgz\n",
        "!mkdir flowers/\n",
        "!tar zxvf 102flowers.tgz -C flowers/\n",
        "!rm 102flowers.tgz"
      ],
      "execution_count": null,
      "outputs": []
    },
    {
      "cell_type": "code",
      "metadata": {
        "id": "2GLLyrq8f5fi"
      },
      "source": [
        "!wget https://www.robots.ox.ac.uk/~vgg/data/flowers/102/imagelabels.mat "
      ],
      "execution_count": null,
      "outputs": []
    },
    {
      "cell_type": "code",
      "metadata": {
        "id": "eQuWFaz_XL05"
      },
      "source": [
        "# Download labels\n",
        "data = loadmat('imagelabels.mat')\n",
        "labels = data['labels'][0].tolist()\n",
        "labels = [label - 1 for label in labels]"
      ],
      "execution_count": null,
      "outputs": []
    },
    {
      "cell_type": "code",
      "metadata": {
        "id": "TEug4hAlf8Tc"
      },
      "source": [
        "!rm imagelabels.mat\n",
        "!wget https://gist.githubusercontent.com/JosephKJ/94c7728ed1a8e0cd87fe6a029769cde1/raw/403325f5110cb0f3099734c5edb9f457539c77e9/Oxford-102_Flower_dataset_labels.txt"
      ],
      "execution_count": null,
      "outputs": []
    },
    {
      "cell_type": "code",
      "metadata": {
        "id": "Zw40gIRNXL6g"
      },
      "source": [
        "# Download labels name\n",
        "f = open(\"Oxford-102_Flower_dataset_labels.txt\", 'r')\n",
        "labels_name = f.read() \n",
        "f.close()\n",
        "labels_name = labels_name.split('\\n')\n",
        "labels_name = [label[1:].strip('\"').strip(\"'\") for label in labels_name]"
      ],
      "execution_count": null,
      "outputs": []
    },
    {
      "cell_type": "code",
      "metadata": {
        "id": "puEQNrSvf_6L"
      },
      "source": [
        "!rm Oxford-102_Flower_dataset_labels.txt"
      ],
      "execution_count": null,
      "outputs": []
    },
    {
      "cell_type": "markdown",
      "metadata": {
        "id": "Bx4lTO6GRedX"
      },
      "source": [
        "## Create dataset"
      ]
    },
    {
      "cell_type": "code",
      "metadata": {
        "id": "SXirdTHvXUkJ"
      },
      "source": [
        "# Train-test split\n",
        "filenames = sorted(glob.glob(\"flowers/jpg/*.jpg\"))\n",
        "X_train, X_test, Y_train, Y_test = train_test_split(filenames, labels, test_size=0.2, random_state=42)"
      ],
      "execution_count": null,
      "outputs": []
    },
    {
      "cell_type": "code",
      "metadata": {
        "id": "R6dkXbB_XUrt"
      },
      "source": [
        "# Plot training set class distribution\n",
        "plot_training_class_distribution(labels, 'training-distribution.eps')"
      ],
      "execution_count": null,
      "outputs": []
    },
    {
      "cell_type": "code",
      "metadata": {
        "id": "HJeom8EDcByl"
      },
      "source": [
        "# Save training and test datasets as .csv\n",
        "train_df = pd.DataFrame(list(zip(X_train,Y_train)), columns=['filename','label'])\n",
        "train_df.to_csv('train.csv')\n",
        "test_df = pd.DataFrame(list(zip(X_test,Y_test)), columns=['filename','label'])\n",
        "test_df.to_csv('test.csv')"
      ],
      "execution_count": null,
      "outputs": []
    },
    {
      "cell_type": "markdown",
      "metadata": {
        "id": "0suVJSKrcvuP"
      },
      "source": [
        "## Load dataset"
      ]
    },
    {
      "cell_type": "code",
      "metadata": {
        "id": "l2mnQv_nctTK"
      },
      "source": [
        "# Load training and test datasets from .csv\n",
        "train_df = pd.read_csv('/content/train.csv', index_col=0)\n",
        "test_df = pd.read_csv('/content/test.csv', index_col=0)"
      ],
      "execution_count": null,
      "outputs": []
    },
    {
      "cell_type": "code",
      "metadata": {
        "id": "-IkKZzcXc_EQ"
      },
      "source": [
        "X_train = train_df['filename'].tolist()\n",
        "Y_train = train_df['label'].tolist()\n",
        "X_test = test_df['filename'].tolist()\n",
        "Y_test = test_df['label'].tolist()"
      ],
      "execution_count": null,
      "outputs": []
    },
    {
      "cell_type": "markdown",
      "metadata": {
        "id": "fiH7B6H6M6Fw"
      },
      "source": [
        "##Make dataset"
      ]
    },
    {
      "cell_type": "code",
      "metadata": {
        "id": "JGD0Kmp1NXbb"
      },
      "source": [
        "!mkdir -p datasets/train/"
      ],
      "execution_count": null,
      "outputs": []
    },
    {
      "cell_type": "code",
      "metadata": {
        "id": "whzAjJ9MXUyv",
        "colab": {
          "base_uri": "https://localhost:8080/"
        },
        "outputId": "6a130c93-31cc-4895-e324-d5879c0d995a"
      },
      "source": [
        "# Create training set directory\n",
        "new_filenames_train = []\n",
        "\n",
        "# Create folder for each class\n",
        "for label in labels:\n",
        "  folder = r\"datasets/train/\" + str(label)\n",
        "  if not os.path.exists(folder):\n",
        "    os.mkdir(folder)\n",
        "\n",
        "# Move images in the appropriate folder\n",
        "failed = 0\n",
        "for i, image in enumerate(X_train):\n",
        "  head, tail = ntpath.split(image)\n",
        "  filename = r\"datasets/train/{}/{}\".format(str(Y_train[i]), tail)\n",
        "  new_filenames_train.append(filename)\n",
        "  if not os.path.exists(filename):\n",
        "    try:\n",
        "      os.rename(image, filename)\n",
        "    except:\n",
        "      failed +=1\n",
        "    \n",
        "print('failed on {} files'.format(failed))\n",
        "\n",
        "train = pd.DataFrame({\n",
        "    'filename' : new_filenames_train,\n",
        "    'label' : Y_train\n",
        "})\n"
      ],
      "execution_count": null,
      "outputs": [
        {
          "output_type": "stream",
          "text": [
            "failed on 0 files\n"
          ],
          "name": "stdout"
        }
      ]
    },
    {
      "cell_type": "code",
      "metadata": {
        "id": "ERsJVTzONZv7"
      },
      "source": [
        "!mkdir -p datasets/test/"
      ],
      "execution_count": null,
      "outputs": []
    },
    {
      "cell_type": "code",
      "metadata": {
        "id": "fjzhTjS8XU5p",
        "colab": {
          "base_uri": "https://localhost:8080/"
        },
        "outputId": "7c7d37f7-a682-4f0a-d261-994ca7283480"
      },
      "source": [
        "# Create test set directory\n",
        "new_filenames_test = []\n",
        "\n",
        "# Create folder for each class\n",
        "for label in labels:\n",
        "  folder = r\"datasets/test/\" + str(label)\n",
        "  if not os.path.exists(folder):\n",
        "    os.mkdir(folder)\n",
        "\n",
        "# Move images in the appropriate folder\n",
        "failed = 0\n",
        "for i, image in enumerate(X_test):\n",
        "  head, tail = ntpath.split(image)\n",
        "  filename = r\"datasets/test/{}/{}\".format(str(Y_test[i]), tail)\n",
        "  new_filenames_test.append(filename)\n",
        "  if not os.path.exists(filename):\n",
        "    try:\n",
        "      os.rename(image, filename)\n",
        "    except:\n",
        "      failed +=1\n",
        "    \n",
        "print('failed on {} files'.format(failed))\n",
        "\n",
        "test = pd.DataFrame({\n",
        "    'filename' : new_filenames_test,\n",
        "    'label' : Y_test\n",
        "})"
      ],
      "execution_count": null,
      "outputs": [
        {
          "output_type": "stream",
          "text": [
            "failed on 0 files\n"
          ],
          "name": "stdout"
        }
      ]
    },
    {
      "cell_type": "code",
      "metadata": {
        "id": "zUMSmYUZXVAX"
      },
      "source": [
        "!rm -r flowers"
      ],
      "execution_count": null,
      "outputs": []
    },
    {
      "cell_type": "code",
      "metadata": {
        "id": "6dLIpmIVXVGZ",
        "colab": {
          "base_uri": "https://localhost:8080/",
          "height": 54
        },
        "outputId": "3fca93a0-3b8e-4ae8-b2ba-7be909e69165"
      },
      "source": [
        "# Random image test\n",
        "index = randint(0, len(train))\n",
        "plt.figure()\n",
        "plt.imshow(load_img(train['filename'][index], target_size=(224,224)))\n",
        "plt.title('Corresponding image label: {}'.format(labels_name[train['label'][index]]))\n",
        "plt.axis('off')\n",
        "plt.show()"
      ],
      "execution_count": null,
      "outputs": [
        {
          "output_type": "display_data",
          "data": {
            "image/png": "[encoded data removed]",
            "text/plain": [
              "<Figure size 432x288 with 1 Axes>"
            ]
          },
          "metadata": {
            "tags": [],
            "needs_background": "light"
          }
        }
      ]
    },
    {
      "cell_type": "markdown",
      "metadata": {
        "id": "zrp2utHKRtD-"
      },
      "source": [
        "## Data augmentation example"
      ]
    },
    {
      "cell_type": "code",
      "metadata": {
        "id": "KbRiFTAkXwMo",
        "colab": {
          "base_uri": "https://localhost:8080/",
          "height": 156
        },
        "outputId": "3e441880-f9e0-4812-dbda-002445f059dd"
      },
      "source": [
        "# Plot data augmentation examples. First image is preprocessed with MobileNetV2\n",
        "# preprocessing, while the second with DenseNet preprocessing.\n",
        "img = load_img('/content/datasets/test/62/image_05851.jpg', target_size=(224,224))  \n",
        "img = img_to_array(img)\n",
        "\n",
        "img1 = load_img('/content/datasets/test/71/image_03545.jpg', target_size=(224,224))  \n",
        "img1 = img_to_array(img1)\n",
        "\n",
        "fig = plt.figure(constrained_layout=True, figsize=(10,5))\n",
        "gs = fig.add_gridspec(2, 4)\n",
        "fig.suptitle('Data augmentation', size=20)\n",
        "\n",
        "original = fig.add_subplot(gs[0, 0])\n",
        "original.set_title('original')\n",
        "original.axis('off')\n",
        "original.imshow(img/255)\n",
        "\n",
        "original1 = fig.add_subplot(gs[1, 0])\n",
        "original1.set_title('original')\n",
        "original1.axis('off')\n",
        "original1.imshow(img1/255)\n",
        "\n",
        "img = np.expand_dims(img, axis=0)\n",
        "img1 = np.expand_dims(img1, axis=0)\n",
        "\n",
        "# global variable for modified_preprocess input\n",
        "net='mobilenet'\n",
        "\n",
        "aug_datagen = ImageDataGenerator(\n",
        "        validation_split=0.2,\n",
        "        width_shift_range=0.15,\n",
        "        height_shift_range=0.15,\n",
        "        horizontal_flip=True,\n",
        "        preprocessing_function=modified_preprocess,\n",
        "        cval=0,\n",
        "        fill_mode='constant')\n",
        "\n",
        "augmented = aug_datagen.flow(img, batch_size=1)\n",
        "\n",
        "augmented_imgs = []\n",
        "for i in range(0,3):\n",
        "  augmented_imgs.append(next(augmented)[0])\n",
        "\n",
        "aug1 = fig.add_subplot(gs[0,1])\n",
        "aug1.axis('off')\n",
        "aug1.imshow(augmented_imgs[0])\n",
        "\n",
        "aug2 = fig.add_subplot(gs[0,2])\n",
        "aug2.axis('off')\n",
        "aug2.set_title('augmented')\n",
        "aug2.imshow(augmented_imgs[1])\n",
        "\n",
        "aug3 = fig.add_subplot(gs[0,3])\n",
        "aug3.axis('off')\n",
        "aug3.imshow(augmented_imgs[2])\n",
        "\n",
        "# global variable for modified_preprocess input\n",
        "net='densenet'\n",
        "\n",
        "augmented2 = aug_datagen.flow(img1, batch_size=1)\n",
        "\n",
        "augmented_imgs1 = []\n",
        "for i in range(0,3):\n",
        "  augmented_imgs1.append(next(augmented2)[0])\n",
        "\n",
        "aug4 = fig.add_subplot(gs[1,1])\n",
        "aug4.axis('off')\n",
        "aug4.imshow(augmented_imgs1[0])\n",
        "\n",
        "aug5 = fig.add_subplot(gs[1,2])\n",
        "aug5.set_title('augmented')\n",
        "aug5.axis('off')\n",
        "aug5.imshow(augmented_imgs1[1])\n",
        "\n",
        "aug6 = fig.add_subplot(gs[1,3])\n",
        "aug6.axis('off')\n",
        "aug6.imshow(augmented_imgs1[2])\n",
        "\n",
        "fig.savefig('data-augmentation.png', format='png', dpi=600)"
      ],
      "execution_count": null,
      "outputs": [
        {
          "output_type": "stream",
          "text": [
            "Clipping input data to the valid range for imshow with RGB data ([0..1] for floats or [0..255] for integers).\n",
            "Clipping input data to the valid range for imshow with RGB data ([0..1] for floats or [0..255] for integers).\n",
            "Clipping input data to the valid range for imshow with RGB data ([0..1] for floats or [0..255] for integers).\n",
            "Clipping input data to the valid range for imshow with RGB data ([0..1] for floats or [0..255] for integers).\n",
            "Clipping input data to the valid range for imshow with RGB data ([0..1] for floats or [0..255] for integers).\n",
            "Clipping input data to the valid range for imshow with RGB data ([0..1] for floats or [0..255] for integers).\n"
          ],
          "name": "stderr"
        },
        {
          "output_type": "display_data",
          "data": {
            "image/png": "[encoded data removed]",
            "text/plain": [
              "<Figure size 720x360 with 8 Axes>"
            ]
          },
          "metadata": {
            "tags": [],
            "needs_background": "light"
          }
        }
      ]
    },
    {
      "cell_type": "markdown",
      "metadata": {
        "id": "USUVW0bgYB4K"
      },
      "source": [
        "## Generators"
      ]
    },
    {
      "cell_type": "code",
      "metadata": {
        "id": "pZ5IwHTlYGnf",
        "colab": {
          "base_uri": "https://localhost:8080/"
        },
        "outputId": "529cff61-ce9e-4ecd-c12f-7965381360a7"
      },
      "source": [
        "# Train generator\n",
        "train_datagen = ImageDataGenerator(\n",
        "        validation_split=0.2,\n",
        "        width_shift_range=0.10,\n",
        "        height_shift_range=0.10,\n",
        "        horizontal_flip=True,\n",
        "        brightness_range=[0.95,1.05],\n",
        "        preprocessing_function=modified_preprocess,\n",
        "        cval=0,\n",
        "        fill_mode='constant')\n",
        "\n",
        "train_generator = train_datagen.flow_from_directory(\n",
        "        'datasets/train',\n",
        "        target_size=(224, 224),\n",
        "        batch_size=64,\n",
        "        class_mode='categorical',\n",
        "        shuffle=True,\n",
        "        seed=42,\n",
        "        subset='training')"
      ],
      "execution_count": null,
      "outputs": [
        {
          "output_type": "stream",
          "text": [
            "Found 5284 images belonging to 102 classes.\n"
          ],
          "name": "stdout"
        }
      ]
    },
    {
      "cell_type": "code",
      "metadata": {
        "id": "1zhw039QYHJw",
        "colab": {
          "base_uri": "https://localhost:8080/"
        },
        "outputId": "fde2f41e-5ac2-467e-f92c-751d6d8dad69"
      },
      "source": [
        "# Validation generator\n",
        "val_generator = train_datagen.flow_from_directory(\n",
        "        'datasets/train',\n",
        "        target_size=(224, 224),\n",
        "        batch_size=64,\n",
        "        class_mode='categorical',\n",
        "        shuffle=True,\n",
        "        seed=42,\n",
        "        subset='validation')"
      ],
      "execution_count": null,
      "outputs": [
        {
          "output_type": "stream",
          "text": [
            "Found 1267 images belonging to 102 classes.\n"
          ],
          "name": "stdout"
        }
      ]
    },
    {
      "cell_type": "code",
      "metadata": {
        "id": "GM49CktNYHRO",
        "colab": {
          "base_uri": "https://localhost:8080/"
        },
        "outputId": "355081fc-9d09-4b11-af75-268ac84a5b38"
      },
      "source": [
        "# Test generator\n",
        "test_datagen = ImageDataGenerator(\n",
        "        preprocessing_function=modified_preprocess)\n",
        "\n",
        "test_generator = test_datagen.flow_from_directory(\n",
        "        'datasets/test',\n",
        "        target_size=(224, 224),\n",
        "        batch_size=64,\n",
        "        class_mode='categorical')\n",
        "\n",
        "test_generator.reset()"
      ],
      "execution_count": null,
      "outputs": [
        {
          "output_type": "stream",
          "text": [
            "Found 1638 images belonging to 102 classes.\n"
          ],
          "name": "stdout"
        }
      ]
    },
    {
      "cell_type": "markdown",
      "metadata": {
        "id": "wly8YhpqQywg"
      },
      "source": [
        "#Architectures"
      ]
    },
    {
      "cell_type": "code",
      "metadata": {
        "id": "nF82eMSsYRl4"
      },
      "source": [
        "# Class weights for a 'balanced' training\n",
        "class_weights = class_weight.compute_class_weight('balanced', np.unique(Y_train), Y_train)\n",
        "class_weights = dict(zip(np.unique(Y_train), class_weights))"
      ],
      "execution_count": null,
      "outputs": []
    },
    {
      "cell_type": "code",
      "metadata": {
        "id": "dcn370Te00I2"
      },
      "source": [
        "# create reversed dictionary\r\n",
        "dictionary_ind = reverse_dict(train_generator)"
      ],
      "execution_count": null,
      "outputs": []
    },
    {
      "cell_type": "markdown",
      "metadata": {
        "id": "cB12YMJDQToL"
      },
      "source": [
        "## MobileNet V2"
      ]
    },
    {
      "cell_type": "code",
      "metadata": {
        "id": "h6_O3AR5YUJW"
      },
      "source": [
        "# Global variable for modified_preprocess_function\n",
        "net='mobilenet'"
      ],
      "execution_count": null,
      "outputs": []
    },
    {
      "cell_type": "markdown",
      "metadata": {
        "id": "p3j1am0xYek7"
      },
      "source": [
        "### MobileNet V2 with $\\alpha=0.5$"
      ]
    },
    {
      "cell_type": "code",
      "metadata": {
        "id": "2sOP1oVfYphh"
      },
      "source": [
        "# Build\n",
        "base = MobileNetV2(input_shape=(224,224,3),\n",
        "                   include_top=False, \n",
        "                   weights='imagenet',\n",
        "                   alpha=0.5,\n",
        "                   pooling='avg')\n",
        "\n",
        "base.trainable=False\n",
        "base_output = base.output\n",
        "dropout = Dropout(rate=0.5) (base_output)\n",
        "dense = Dense(102, activation='softmax') (dropout)\n",
        "\n",
        "mobilenet05 = Model(inputs=base.input, outputs=dense)\n",
        "mobilenet05.summary()\n",
        "\n",
        "# Compile\n",
        "mobilenet05.compile(\n",
        "    optimizer=Adam(learning_rate=0.002),\n",
        "    loss='categorical_crossentropy',\n",
        "    metrics=[CategoricalAccuracy(name=\"categorical_accuracy\"),\n",
        "             TopKCategoricalAccuracy(k=3, name='top_3_categorical_accuracy'),\n",
        "             TopKCategoricalAccuracy(k=5, name='top_5_categorical_accuracy')]\n",
        "  )\n",
        "\n",
        "# Train\n",
        "es = EarlyStopping(monitor='val_categorical_accuracy', mode='max', min_delta=.01, patience=3, restore_best_weights=True)\n",
        "hist = mobilenet05.fit(train_generator,\n",
        "                    validation_data=val_generator,\n",
        "                    batch_size=64,\n",
        "                    validation_batch_size=64,\n",
        "                    steps_per_epoch=5284/64,\n",
        "                    validation_steps=1267/64,\n",
        "                    epochs=10,\n",
        "                    callbacks=es,\n",
        "                    class_weight=class_weights)\n",
        "\n",
        "# Plot performance\n",
        "plot_training_epochs('mobilenet05', 'MobileNetV2', hist, es)\n",
        "\n",
        "# Evaluate\n",
        "mobilenet05_score = mobilenet05.evaluate(test_generator, verbose=1, batch_size=64, steps=1638/64)"
      ],
      "execution_count": null,
      "outputs": []
    },
    {
      "cell_type": "code",
      "metadata": {
        "id": "3YV5sVX43bRP"
      },
      "source": [
        "plot_predict_image('/content/datasets/test/33/image_06932.jpg', mobilenet05, modified_preprocess, 5, dictionary_ind, \"predict_by_mobilenet05\")"
      ],
      "execution_count": null,
      "outputs": []
    },
    {
      "cell_type": "markdown",
      "metadata": {
        "id": "t4avBhfhYesE"
      },
      "source": [
        "### MobileNet V2 with $\\alpha=0.75$"
      ]
    },
    {
      "cell_type": "code",
      "metadata": {
        "id": "80tDuL77Zt0Y"
      },
      "source": [
        "# Build\n",
        "base = MobileNetV2(input_shape=(224,224,3),\n",
        "                   include_top=False, \n",
        "                   weights='imagenet',\n",
        "                   alpha=0.75,\n",
        "                   pooling='avg')\n",
        "\n",
        "base.trainable=False\n",
        "base_output = base.output\n",
        "dropout = Dropout(rate=0.5) (base_output)\n",
        "dense = Dense(102, activation='softmax') (dropout)\n",
        "\n",
        "mobilenet75 = Model(inputs=base.input, outputs=dense)\n",
        "mobilenet75.summary()\n",
        "\n",
        "# Compile\n",
        "mobilenet75.compile(\n",
        "    optimizer=Adam(learning_rate=0.002),\n",
        "    loss='categorical_crossentropy',\n",
        "    metrics=[CategoricalAccuracy(name=\"categorical_accuracy\"),\n",
        "             TopKCategoricalAccuracy(k=3, name='top_3_categorical_accuracy'),\n",
        "             TopKCategoricalAccuracy(k=5, name='top_5_categorical_accuracy')]\n",
        "  )\n",
        "\n",
        "# Train\n",
        "es = EarlyStopping(monitor='val_categorical_accuracy', mode='max', min_delta=.01, patience=3, restore_best_weights=True)\n",
        "hist = mobilenet75.fit(train_generator,\n",
        "                    validation_data=val_generator,\n",
        "                    batch_size=64,\n",
        "                    validation_batch_size=64,\n",
        "                    steps_per_epoch=5284/64,\n",
        "                    validation_steps=1267/64,\n",
        "                    epochs=10,\n",
        "                    callbacks=es,\n",
        "                    class_weight=class_weights)\n",
        "\n",
        "# Plot performance\n",
        "plot_training_epochs('mobilenet75', 'MobileNetV2', hist, es)\n",
        "print()\n",
        "# Evaluate\n",
        "mobilenet75_score = mobilenet75.evaluate(test_generator, verbose=1, batch_size=64, steps=1638/64)"
      ],
      "execution_count": null,
      "outputs": []
    },
    {
      "cell_type": "code",
      "metadata": {
        "id": "7AZuPimn8AyD"
      },
      "source": [
        "plot_predict_image('/content/datasets/test/5/image_07180.jpg', mobilenet75, modified_preprocess, 5, dictionary_ind, \"predict_by_mobilenet75\")"
      ],
      "execution_count": null,
      "outputs": []
    },
    {
      "cell_type": "markdown",
      "metadata": {
        "id": "zbAAgR36Yeyx"
      },
      "source": [
        "### MobileNet V2 with $\\alpha=1$"
      ]
    },
    {
      "cell_type": "code",
      "metadata": {
        "id": "-cQB-CNtZucc"
      },
      "source": [
        "# Build\n",
        "base = MobileNetV2(input_shape=(224,224,3),\n",
        "                   include_top=False, \n",
        "                   weights='imagenet',\n",
        "                   pooling='avg')\n",
        "\n",
        "base.trainable=False\n",
        "base_output = base.output\n",
        "dropout = Dropout(rate=0.5) (base_output)\n",
        "dense = Dense(102, activation='softmax') (dropout)\n",
        "\n",
        "mobilenet1 = Model(inputs=base.input, outputs=dense)\n",
        "mobilenet1.summary()\n",
        "\n",
        "# Compile\n",
        "mobilenet1.compile(\n",
        "    optimizer=Adam(learning_rate=0.002),\n",
        "    loss='categorical_crossentropy',\n",
        "    metrics=[CategoricalAccuracy(name=\"categorical_accuracy\"),\n",
        "             TopKCategoricalAccuracy(k=3, name='top_3_categorical_accuracy'),\n",
        "             TopKCategoricalAccuracy(k=5, name='top_5_categorical_accuracy')]\n",
        "  )\n",
        "\n",
        "# Train\n",
        "es = EarlyStopping(monitor='val_categorical_accuracy', mode='max', min_delta=.01, patience=3, restore_best_weights=True)\n",
        "hist = mobilenet1.fit(train_generator,\n",
        "                    validation_data=val_generator,\n",
        "                    batch_size=64,\n",
        "                    validation_batch_size=64,\n",
        "                    steps_per_epoch=5284/64,\n",
        "                    validation_steps=1267/64,\n",
        "                    epochs=10,\n",
        "                    callbacks=es,\n",
        "                    class_weight=class_weights)\n",
        "\n",
        "# Plot performance\n",
        "plot_training_epochs('mobilenet1', 'MobileNetV2', hist, es)\n",
        "print()\n",
        "# Evaluate\n",
        "mobilenet1_score = mobilenet1.evaluate(test_generator, verbose=1, batch_size=64, steps=1638/64)"
      ],
      "execution_count": null,
      "outputs": []
    },
    {
      "cell_type": "code",
      "metadata": {
        "id": "tfDVnAgLAmNZ"
      },
      "source": [
        "plot_predict_image('/content/datasets/test/5/image_07180.jpg', mobilenet1, modified_preprocess, 5, dictionary_ind, \"predict_by_mobilenet1\")"
      ],
      "execution_count": null,
      "outputs": []
    },
    {
      "cell_type": "markdown",
      "metadata": {
        "id": "oOIcDbdVabiV"
      },
      "source": [
        "### Mobilenet V2 comparison"
      ]
    },
    {
      "cell_type": "code",
      "metadata": {
        "id": "jOSkruszaWS9",
        "colab": {
          "base_uri": "https://localhost:8080/",
          "height": 316
        },
        "outputId": "a2ac8217-f0b0-4e9e-a234-7a45cb3104ab"
      },
      "source": [
        "# Compare models performance\n",
        "plot_models_comparison([r'$\\alpha=0.5$', r'$\\alpha=0.75$', r'$\\alpha=1$'], mobilenet05_score, mobilenet75_score, mobilenet1_score)"
      ],
      "execution_count": null,
      "outputs": [
        {
          "output_type": "stream",
          "text": [
            "The PostScript backend does not support transparency; partially transparent artists will be rendered opaque.\n",
            "The PostScript backend does not support transparency; partially transparent artists will be rendered opaque.\n"
          ],
          "name": "stderr"
        },
        {
          "output_type": "display_data",
          "data": {
            "image/png": "[encoded data removed]",
            "text/plain": [
              "<Figure size 576x288 with 1 Axes>"
            ]
          },
          "metadata": {
            "tags": []
          }
        }
      ]
    },
    {
      "cell_type": "markdown",
      "metadata": {
        "id": "EXnl2I7ZcEU3"
      },
      "source": [
        "### Model Save"
      ]
    },
    {
      "cell_type": "code",
      "metadata": {
        "id": "9KwZFnxVcLkn"
      },
      "source": [
        "mobilenet05.save('mobilenet05.h5')\n",
        "mobilenet75.save('mobilenet75.h5')\n",
        "mobilenet1.save('mobilenet1.h5')"
      ],
      "execution_count": null,
      "outputs": []
    },
    {
      "cell_type": "markdown",
      "metadata": {
        "id": "1fU0hq73QT1G"
      },
      "source": [
        "## DenseNet121"
      ]
    },
    {
      "cell_type": "code",
      "metadata": {
        "id": "pxhzgkXmbC7Y"
      },
      "source": [
        "# Global variable for modified_preprocess_function\n",
        "net='densenet'"
      ],
      "execution_count": null,
      "outputs": []
    },
    {
      "cell_type": "code",
      "metadata": {
        "id": "7tymtsePa-d9"
      },
      "source": [
        "# Build\n",
        "base = DenseNet121(input_shape=(224,224,3),\n",
        "                   include_top=False, \n",
        "                   weights='imagenet',\n",
        "                   pooling='avg')\n",
        "\n",
        "base.trainable=False\n",
        "base_output = base.output\n",
        "dropout = Dropout(rate=0.5) (base_output)\n",
        "dense = Dense(102, activation='softmax') (dropout)\n",
        "\n",
        "densenet = Model(inputs=base.input, outputs=dense)\n",
        "densenet.summary()\n",
        "\n",
        "# Compile\n",
        "densenet.compile(\n",
        "    optimizer=Adam(learning_rate=0.002),\n",
        "    loss='categorical_crossentropy',\n",
        "    metrics=[CategoricalAccuracy(name=\"categorical_accuracy\"),\n",
        "             TopKCategoricalAccuracy(k=3, name='top_3_categorical_accuracy'),\n",
        "             TopKCategoricalAccuracy(k=5, name='top_5_categorical_accuracy')]\n",
        "  )\n",
        "\n",
        "# Train\n",
        "es = EarlyStopping(monitor='val_categorical_accuracy', mode='max', min_delta=.01, patience=3, restore_best_weights=True)\n",
        "hist = densenet.fit(train_generator,\n",
        "                    validation_data=val_generator,\n",
        "                    batch_size=64,\n",
        "                    validation_batch_size=64,\n",
        "                    steps_per_epoch=5284/64,\n",
        "                    validation_steps=1267/64,\n",
        "                    epochs=10,\n",
        "                    callbacks=es,\n",
        "                    class_weight=class_weights)\n",
        "\n",
        "# Plot performance\n",
        "plot_training_epochs('densenet', 'DenseNet-121', hist, es)\n",
        "\n",
        "# Evaluate\n",
        "densenet_score = densenet.evaluate(test_generator, verbose=1, batch_size=64, steps=1638/64)"
      ],
      "execution_count": null,
      "outputs": []
    },
    {
      "cell_type": "code",
      "metadata": {
        "id": "M50UXUTREdPH"
      },
      "source": [
        "plot_predict_image('/content/datasets/test/5/image_07180.jpg', densenet, modified_preprocess, 5, dictionary_ind, \"predict_by_densenet\")"
      ],
      "execution_count": null,
      "outputs": []
    },
    {
      "cell_type": "markdown",
      "metadata": {
        "id": "CoSbXaJZcICz"
      },
      "source": [
        "### Model Save"
      ]
    },
    {
      "cell_type": "code",
      "metadata": {
        "id": "ZezTvrckcUeY"
      },
      "source": [
        "densenet.save('densenet.h5')"
      ],
      "execution_count": null,
      "outputs": []
    },
    {
      "cell_type": "markdown",
      "metadata": {
        "id": "OkQOiQY6QT_k"
      },
      "source": [
        "## EfficientNetB0"
      ]
    },
    {
      "cell_type": "code",
      "metadata": {
        "id": "ss8Xei09bFP3"
      },
      "source": [
        "# Global variable for modified_preprocess_function\n",
        "net='efficientnet'"
      ],
      "execution_count": null,
      "outputs": []
    },
    {
      "cell_type": "code",
      "metadata": {
        "id": "akVJGlnjbgZi"
      },
      "source": [
        "# Build\n",
        "base = EfficientNetB0(input_shape=(224,224,3),\n",
        "                      include_top=False, \n",
        "                      weights='imagenet',\n",
        "                      pooling='avg')\n",
        "\n",
        "base.trainable=False\n",
        "base_output = base.output\n",
        "dropout = Dropout(rate=0.5) (base_output)\n",
        "dense = Dense(102, activation='softmax') (dropout)\n",
        "\n",
        "efficientnet = Model(inputs=base.input, outputs=dense)\n",
        "efficientnet.summary()\n",
        "\n",
        "# Compile\n",
        "efficientnet.compile(\n",
        "    optimizer=Adam(learning_rate=0.002),\n",
        "    loss='categorical_crossentropy',\n",
        "    metrics=[CategoricalAccuracy(name=\"categorical_accuracy\"),\n",
        "             TopKCategoricalAccuracy(k=3, name='top_3_categorical_accuracy'),\n",
        "             TopKCategoricalAccuracy(k=5, name='top_5_categorical_accuracy')]\n",
        "  )\n",
        "\n",
        "# Train\n",
        "es = EarlyStopping(monitor='val_categorical_accuracy', mode='max', min_delta=.01, patience=3, restore_best_weights=True)\n",
        "hist = efficientnet.fit(train_generator,\n",
        "                    validation_data=val_generator,\n",
        "                    batch_size=64,\n",
        "                    validation_batch_size=64,\n",
        "                    steps_per_epoch=5284/64,\n",
        "                    validation_steps=1267/64,\n",
        "                    epochs=10,\n",
        "                    callbacks=es,\n",
        "                    class_weight=class_weights)\n",
        "\n",
        "# Plot performance\n",
        "plot_training_epochs('efficientnet', 'EfficientNet-B0', hist, es)\n",
        "\n",
        "# Evaluate\n",
        "efficientnet_score = efficientnet.evaluate(test_generator, verbose=1, batch_size=64, steps=1638/64)"
      ],
      "execution_count": null,
      "outputs": []
    },
    {
      "cell_type": "code",
      "metadata": {
        "id": "wXU_eSavEiHg"
      },
      "source": [
        "plot_predict_image('/content/datasets/test/5/image_07180.jpg', efficientnet, modified_preprocess, 5, dictionary_ind, \"predict_by_efficientnet\")"
      ],
      "execution_count": null,
      "outputs": []
    },
    {
      "cell_type": "markdown",
      "metadata": {
        "id": "uDW2eP-bcJLt"
      },
      "source": [
        "### Model Save"
      ]
    },
    {
      "cell_type": "code",
      "metadata": {
        "id": "KhTwyRoPcX1C"
      },
      "source": [
        "efficientnet.save('efficientnet.h5')"
      ],
      "execution_count": null,
      "outputs": []
    },
    {
      "cell_type": "markdown",
      "metadata": {
        "id": "ij-pak1KAlMh"
      },
      "source": [
        "## Models comparison"
      ]
    },
    {
      "cell_type": "code",
      "metadata": {
        "id": "MqK_kZhuAnJl",
        "colab": {
          "base_uri": "https://localhost:8080/",
          "height": 316
        },
        "outputId": "c397034b-9160-4052-94a0-a6e679d7917e"
      },
      "source": [
        "# Plot models comparison\n",
        "plot_models_comparison(['MobileNetV2', 'DenseNet-121', 'EfficientNet-B0'], mobilenet05_score, densenet_score, efficientnet_score)"
      ],
      "execution_count": null,
      "outputs": [
        {
          "output_type": "stream",
          "text": [
            "The PostScript backend does not support transparency; partially transparent artists will be rendered opaque.\n",
            "The PostScript backend does not support transparency; partially transparent artists will be rendered opaque.\n"
          ],
          "name": "stderr"
        },
        {
          "output_type": "display_data",
          "data": {
            "image/png": "[encoded data removed]",
            "text/plain": [
              "<Figure size 576x288 with 1 Axes>"
            ]
          },
          "metadata": {
            "tags": []
          }
        }
      ]
    },
    {
      "cell_type": "code",
      "metadata": {
        "id": "rHKrGgIuBB1o"
      },
      "source": [
        "plot_comparison(['MobileNetV2', 'DenseNet-121', 'EfficientNet-B0'], mobilenet75_score, densenet_score, efficientnet_score)"
      ],
      "execution_count": null,
      "outputs": []
    },
    {
      "cell_type": "code",
      "metadata": {
        "id": "RE04Uy0tBDfW"
      },
      "source": [
        "plot_comparison(['MobileNetV2', 'DenseNet-121', 'EfficientNet-B0'], mobilenet1_score, densenet_score, efficientnet_score)"
      ],
      "execution_count": null,
      "outputs": []
    },
    {
      "cell_type": "markdown",
      "metadata": {
        "id": "G2Zt4XZuQ6xP"
      },
      "source": [
        "# Pruning"
      ]
    },
    {
      "cell_type": "markdown",
      "metadata": {
        "id": "-yq0WcQaQ9Iu"
      },
      "source": [
        "## MobileNet V2"
      ]
    },
    {
      "cell_type": "code",
      "metadata": {
        "id": "Iq4prMDqeHbo",
        "colab": {
          "base_uri": "https://localhost:8080/"
        },
        "outputId": "3aea224d-16ed-445c-b0dc-4546dad2f042"
      },
      "source": [
        "# Load MobileNetV2 and the amount of params per layer\n",
        "mobilenet = load_model('mobilenet05.h5')\n",
        "mobilenet._name='mobilenet'\n",
        "net='mobilenet'\n",
        "params_per_layer(mobilenet)"
      ],
      "execution_count": null,
      "outputs": [
        {
          "output_type": "stream",
          "text": [
            "                         Total  Total%\n",
            "InputLayer                   0    0.00\n",
            "Conv2D                  636592   76.07\n",
            "BatchNormalization       37088    4.43\n",
            "ReLU                         0    0.00\n",
            "DepthwiseConv2D          32544    3.89\n",
            "ZeroPadding2D                0    0.00\n",
            "Add                          0    0.00\n",
            "GlobalAveragePooling2D       0    0.00\n",
            "Dropout                      0    0.00\n",
            "Dense                   130662   15.61\n"
          ],
          "name": "stdout"
        }
      ]
    },
    {
      "cell_type": "code",
      "metadata": {
        "id": "_FWbvRXediZz",
        "colab": {
          "base_uri": "https://localhost:8080/"
        },
        "outputId": "215e379c-3b01-4795-e992-6135b1b4c630"
      },
      "source": [
        "# Iterative pruning\n",
        "mobilenet_pruned_scores = prune_net(mobilenet,6)"
      ],
      "execution_count": null,
      "outputs": [
        {
          "output_type": "stream",
          "text": [
            "evaluating base\n",
            "25/25 [==============================] - 9s 333ms/step - loss: 0.3329 - categorical_accuracy: 0.9066 - top_3_categorical_accuracy: 0.9725 - top_5_categorical_accuracy: 0.9841\n",
            "Conv1 - Zeros: 0.00%\n",
            "expanded_conv_project - Zeros: 0.00%\n",
            "block_1_expand - Zeros: 0.00%\n",
            "block_1_project - Zeros: 0.00%\n",
            "block_2_expand - Zeros: 0.00%\n",
            "block_2_project - Zeros: 0.00%\n",
            "block_3_expand - Zeros: 0.00%\n",
            "block_3_project - Zeros: 0.00%\n",
            "block_4_expand - Zeros: 0.00%\n",
            "block_4_project - Zeros: 0.00%\n",
            "block_5_expand - Zeros: 0.00%\n",
            "block_5_project - Zeros: 0.00%\n",
            "block_6_expand - Zeros: 0.00%\n",
            "block_6_project - Zeros: 0.00%\n",
            "block_7_expand - Zeros: 0.00%\n",
            "block_7_project - Zeros: 0.00%\n",
            "block_8_expand - Zeros: 0.00%\n",
            "block_8_project - Zeros: 0.00%\n",
            "block_9_expand - Zeros: 0.00%\n",
            "block_9_project - Zeros: 0.00%\n",
            "block_10_expand - Zeros: 0.00%\n",
            "block_10_project - Zeros: 0.00%\n",
            "block_11_expand - Zeros: 0.00%\n",
            "block_11_project - Zeros: 0.00%\n",
            "block_12_expand - Zeros: 0.00%\n",
            "block_12_project - Zeros: 0.00%\n",
            "block_13_expand - Zeros: 0.00%\n",
            "block_13_project - Zeros: 0.00%\n",
            "block_14_expand - Zeros: 0.00%\n",
            "block_14_project - Zeros: 0.00%\n",
            "block_15_expand - Zeros: 0.00%\n",
            "block_15_project - Zeros: 0.00%\n",
            "block_16_expand - Zeros: 0.00%\n",
            "block_16_project - Zeros: 0.00%\n",
            "Conv_1 - Zeros: 0.00%\n",
            "dense - Zeros: 0.00%\n",
            "\n",
            "\n",
            "pruning parameters 10.0%\n",
            "training\n",
            "Epoch 1/10\n",
            "82/82 [==============================] - 110s 1s/step - loss: 0.2951 - categorical_accuracy: 0.9242 - top_3_categorical_accuracy: 0.9871 - top_5_categorical_accuracy: 0.9955 - val_loss: 0.4021 - val_categorical_accuracy: 0.8848 - val_top_3_categorical_accuracy: 0.9684 - val_top_5_categorical_accuracy: 0.9858\n",
            "Epoch 2/10\n",
            "82/82 [==============================] - 101s 1s/step - loss: 0.2466 - categorical_accuracy: 0.9293 - top_3_categorical_accuracy: 0.9866 - top_5_categorical_accuracy: 0.9942 - val_loss: 0.3589 - val_categorical_accuracy: 0.8942 - val_top_3_categorical_accuracy: 0.9700 - val_top_5_categorical_accuracy: 0.9874\n",
            "Epoch 3/10\n",
            "82/82 [==============================] - 102s 1s/step - loss: 0.2203 - categorical_accuracy: 0.9396 - top_3_categorical_accuracy: 0.9900 - top_5_categorical_accuracy: 0.9970 - val_loss: 0.3759 - val_categorical_accuracy: 0.8863 - val_top_3_categorical_accuracy: 0.9669 - val_top_5_categorical_accuracy: 0.9803\n",
            "Conv1 - Zeros: 9.95%\n",
            "expanded_conv_project - Zeros: 10.16%\n",
            "block_1_expand - Zeros: 9.90%\n",
            "block_1_project - Zeros: 10.03%\n",
            "block_2_expand - Zeros: 10.03%\n",
            "block_2_project - Zeros: 10.03%\n",
            "block_3_expand - Zeros: 10.03%\n",
            "block_3_project - Zeros: 10.03%\n",
            "block_4_expand - Zeros: 10.03%\n",
            "block_4_project - Zeros: 10.03%\n",
            "block_5_expand - Zeros: 10.03%\n",
            "block_5_project - Zeros: 10.03%\n",
            "block_6_expand - Zeros: 10.03%\n",
            "block_6_project - Zeros: 9.99%\n",
            "block_7_expand - Zeros: 9.99%\n",
            "block_7_project - Zeros: 9.99%\n",
            "block_8_expand - Zeros: 9.99%\n",
            "block_8_project - Zeros: 9.99%\n",
            "block_9_expand - Zeros: 9.99%\n",
            "block_9_project - Zeros: 9.99%\n",
            "block_10_expand - Zeros: 9.99%\n",
            "block_10_project - Zeros: 10.00%\n",
            "block_11_expand - Zeros: 10.00%\n",
            "block_11_project - Zeros: 10.00%\n",
            "block_12_expand - Zeros: 10.00%\n",
            "block_12_project - Zeros: 10.00%\n",
            "block_13_expand - Zeros: 10.00%\n",
            "block_13_project - Zeros: 10.00%\n",
            "block_14_expand - Zeros: 10.00%\n",
            "block_14_project - Zeros: 10.00%\n",
            "block_15_expand - Zeros: 10.00%\n",
            "block_15_project - Zeros: 10.00%\n",
            "block_16_expand - Zeros: 10.00%\n",
            "block_16_project - Zeros: 10.00%\n",
            "Conv_1 - Zeros: 10.00%\n",
            "dense - Zeros: 10.00%\n",
            "evaluating\n",
            "25/25 [==============================] - 10s 349ms/step - loss: 0.3509 - categorical_accuracy: 0.9045 - top_3_categorical_accuracy: 0.9717 - top_5_categorical_accuracy: 0.9828\n",
            "\n",
            "\n",
            "pruning parameters 20.0%\n",
            "training\n",
            "Epoch 1/10\n",
            "82/82 [==============================] - 113s 1s/step - loss: 0.4698 - categorical_accuracy: 0.8718 - top_3_categorical_accuracy: 0.9679 - top_5_categorical_accuracy: 0.9863 - val_loss: 0.4372 - val_categorical_accuracy: 0.8682 - val_top_3_categorical_accuracy: 0.9566 - val_top_5_categorical_accuracy: 0.9771\n",
            "Epoch 2/10\n",
            "82/82 [==============================] - 103s 1s/step - loss: 0.3550 - categorical_accuracy: 0.8974 - top_3_categorical_accuracy: 0.9767 - top_5_categorical_accuracy: 0.9912 - val_loss: 0.4476 - val_categorical_accuracy: 0.8666 - val_top_3_categorical_accuracy: 0.9534 - val_top_5_categorical_accuracy: 0.9740\n",
            "Epoch 3/10\n",
            "82/82 [==============================] - 103s 1s/step - loss: 0.3507 - categorical_accuracy: 0.8972 - top_3_categorical_accuracy: 0.9772 - top_5_categorical_accuracy: 0.9930 - val_loss: 0.4260 - val_categorical_accuracy: 0.8753 - val_top_3_categorical_accuracy: 0.9669 - val_top_5_categorical_accuracy: 0.9795\n",
            "Conv1 - Zeros: 19.91%\n",
            "expanded_conv_project - Zeros: 20.31%\n",
            "block_1_expand - Zeros: 20.05%\n",
            "block_1_project - Zeros: 20.05%\n",
            "block_2_expand - Zeros: 19.99%\n",
            "block_2_project - Zeros: 19.99%\n",
            "block_3_expand - Zeros: 19.99%\n",
            "block_3_project - Zeros: 19.99%\n",
            "block_4_expand - Zeros: 19.99%\n",
            "block_4_project - Zeros: 19.99%\n",
            "block_5_expand - Zeros: 19.99%\n",
            "block_5_project - Zeros: 19.99%\n",
            "block_6_expand - Zeros: 19.99%\n",
            "block_6_project - Zeros: 19.99%\n",
            "block_7_expand - Zeros: 20.00%\n",
            "block_7_project - Zeros: 20.00%\n",
            "block_8_expand - Zeros: 20.00%\n",
            "block_8_project - Zeros: 20.00%\n",
            "block_9_expand - Zeros: 20.00%\n",
            "block_9_project - Zeros: 20.00%\n",
            "block_10_expand - Zeros: 20.00%\n",
            "block_10_project - Zeros: 20.00%\n",
            "block_11_expand - Zeros: 20.00%\n",
            "block_11_project - Zeros: 20.00%\n",
            "block_12_expand - Zeros: 20.00%\n",
            "block_12_project - Zeros: 20.00%\n",
            "block_13_expand - Zeros: 20.00%\n",
            "block_13_project - Zeros: 20.00%\n",
            "block_14_expand - Zeros: 20.00%\n",
            "block_14_project - Zeros: 20.00%\n",
            "block_15_expand - Zeros: 20.00%\n",
            "block_15_project - Zeros: 20.00%\n",
            "block_16_expand - Zeros: 20.00%\n",
            "block_16_project - Zeros: 20.00%\n",
            "Conv_1 - Zeros: 20.00%\n",
            "dense - Zeros: 20.00%\n",
            "evaluating\n",
            "25/25 [==============================] - 10s 346ms/step - loss: 0.3968 - categorical_accuracy: 0.8982 - top_3_categorical_accuracy: 0.9585 - top_5_categorical_accuracy: 0.9702\n",
            "\n",
            "\n",
            "pruning parameters 30.0%\n",
            "training\n",
            "Epoch 1/10\n",
            "82/82 [==============================] - 114s 1s/step - loss: 1.2258 - categorical_accuracy: 0.7176 - top_3_categorical_accuracy: 0.8815 - top_5_categorical_accuracy: 0.9225 - val_loss: 0.6027 - val_categorical_accuracy: 0.8319 - val_top_3_categorical_accuracy: 0.9376 - val_top_5_categorical_accuracy: 0.9661\n",
            "Epoch 2/10\n",
            "82/82 [==============================] - 103s 1s/step - loss: 0.8439 - categorical_accuracy: 0.7809 - top_3_categorical_accuracy: 0.9318 - top_5_categorical_accuracy: 0.9625 - val_loss: 0.5405 - val_categorical_accuracy: 0.8350 - val_top_3_categorical_accuracy: 0.9503 - val_top_5_categorical_accuracy: 0.9740\n",
            "Epoch 3/10\n",
            "82/82 [==============================] - 103s 1s/step - loss: 0.6942 - categorical_accuracy: 0.8101 - top_3_categorical_accuracy: 0.9388 - top_5_categorical_accuracy: 0.9711 - val_loss: 0.5032 - val_categorical_accuracy: 0.8540 - val_top_3_categorical_accuracy: 0.9511 - val_top_5_categorical_accuracy: 0.9708\n",
            "Epoch 4/10\n",
            "82/82 [==============================] - 103s 1s/step - loss: 0.6067 - categorical_accuracy: 0.8254 - top_3_categorical_accuracy: 0.9482 - top_5_categorical_accuracy: 0.9765 - val_loss: 0.5131 - val_categorical_accuracy: 0.8532 - val_top_3_categorical_accuracy: 0.9519 - val_top_5_categorical_accuracy: 0.9708\n",
            "Epoch 5/10\n",
            "82/82 [==============================] - 103s 1s/step - loss: 0.5408 - categorical_accuracy: 0.8401 - top_3_categorical_accuracy: 0.9546 - top_5_categorical_accuracy: 0.9800 - val_loss: 0.4924 - val_categorical_accuracy: 0.8500 - val_top_3_categorical_accuracy: 0.9597 - val_top_5_categorical_accuracy: 0.9795\n",
            "Conv1 - Zeros: 30.09%\n",
            "expanded_conv_project - Zeros: 29.69%\n",
            "block_1_expand - Zeros: 29.95%\n",
            "block_1_project - Zeros: 29.95%\n",
            "block_2_expand - Zeros: 30.01%\n",
            "block_2_project - Zeros: 30.01%\n",
            "block_3_expand - Zeros: 30.01%\n",
            "block_3_project - Zeros: 30.01%\n",
            "block_4_expand - Zeros: 30.01%\n",
            "block_4_project - Zeros: 30.01%\n",
            "block_5_expand - Zeros: 30.01%\n",
            "block_5_project - Zeros: 30.01%\n",
            "block_6_expand - Zeros: 30.01%\n",
            "block_6_project - Zeros: 30.01%\n",
            "block_7_expand - Zeros: 30.00%\n",
            "block_7_project - Zeros: 30.00%\n",
            "block_8_expand - Zeros: 30.00%\n",
            "block_8_project - Zeros: 30.00%\n",
            "block_9_expand - Zeros: 30.00%\n",
            "block_9_project - Zeros: 30.00%\n",
            "block_10_expand - Zeros: 30.00%\n",
            "block_10_project - Zeros: 30.00%\n",
            "block_11_expand - Zeros: 30.00%\n",
            "block_11_project - Zeros: 30.00%\n",
            "block_12_expand - Zeros: 30.00%\n",
            "block_12_project - Zeros: 30.00%\n",
            "block_13_expand - Zeros: 30.00%\n",
            "block_13_project - Zeros: 30.00%\n",
            "block_14_expand - Zeros: 30.00%\n",
            "block_14_project - Zeros: 30.00%\n",
            "block_15_expand - Zeros: 30.00%\n",
            "block_15_project - Zeros: 30.00%\n",
            "block_16_expand - Zeros: 30.00%\n",
            "block_16_project - Zeros: 30.00%\n",
            "Conv_1 - Zeros: 30.00%\n",
            "dense - Zeros: 30.00%\n",
            "evaluating\n",
            "25/25 [==============================] - 10s 350ms/step - loss: 0.4848 - categorical_accuracy: 0.8786 - top_3_categorical_accuracy: 0.9497 - top_5_categorical_accuracy: 0.9685\n",
            "\n",
            "\n",
            "pruning parameters 40.0%\n",
            "training\n",
            "Epoch 1/10\n",
            "82/82 [==============================] - 114s 1s/step - loss: 5.9444 - categorical_accuracy: 0.1760 - top_3_categorical_accuracy: 0.3344 - top_5_categorical_accuracy: 0.4344 - val_loss: 2.0285 - val_categorical_accuracy: 0.4751 - val_top_3_categorical_accuracy: 0.6867 - val_top_5_categorical_accuracy: 0.7451\n",
            "Epoch 2/10\n",
            "82/82 [==============================] - 103s 1s/step - loss: 3.7240 - categorical_accuracy: 0.2830 - top_3_categorical_accuracy: 0.4730 - top_5_categorical_accuracy: 0.5793 - val_loss: 1.7219 - val_categorical_accuracy: 0.5517 - val_top_3_categorical_accuracy: 0.7388 - val_top_5_categorical_accuracy: 0.8137\n",
            "Epoch 3/10\n",
            "82/82 [==============================] - 103s 1s/step - loss: 3.2205 - categorical_accuracy: 0.3533 - top_3_categorical_accuracy: 0.5551 - top_5_categorical_accuracy: 0.6501 - val_loss: 1.5311 - val_categorical_accuracy: 0.5912 - val_top_3_categorical_accuracy: 0.7687 - val_top_5_categorical_accuracy: 0.8485\n",
            "Epoch 4/10\n",
            "82/82 [==============================] - 101s 1s/step - loss: 2.8595 - categorical_accuracy: 0.3842 - top_3_categorical_accuracy: 0.6045 - top_5_categorical_accuracy: 0.7061 - val_loss: 1.4594 - val_categorical_accuracy: 0.5943 - val_top_3_categorical_accuracy: 0.7885 - val_top_5_categorical_accuracy: 0.8642\n",
            "Epoch 5/10\n",
            "82/82 [==============================] - 100s 1s/step - loss: 2.4932 - categorical_accuracy: 0.4309 - top_3_categorical_accuracy: 0.6553 - top_5_categorical_accuracy: 0.7475 - val_loss: 1.3972 - val_categorical_accuracy: 0.6212 - val_top_3_categorical_accuracy: 0.8074 - val_top_5_categorical_accuracy: 0.8674\n",
            "Epoch 6/10\n",
            "82/82 [==============================] - 100s 1s/step - loss: 2.2315 - categorical_accuracy: 0.4724 - top_3_categorical_accuracy: 0.6969 - top_5_categorical_accuracy: 0.7762 - val_loss: 1.3062 - val_categorical_accuracy: 0.6472 - val_top_3_categorical_accuracy: 0.8169 - val_top_5_categorical_accuracy: 0.8800\n",
            "Epoch 7/10\n",
            "82/82 [==============================] - 99s 1s/step - loss: 2.0902 - categorical_accuracy: 0.4910 - top_3_categorical_accuracy: 0.7098 - top_5_categorical_accuracy: 0.7920 - val_loss: 1.2539 - val_categorical_accuracy: 0.6622 - val_top_3_categorical_accuracy: 0.8335 - val_top_5_categorical_accuracy: 0.8966\n",
            "Epoch 8/10\n",
            "82/82 [==============================] - 100s 1s/step - loss: 1.8861 - categorical_accuracy: 0.5159 - top_3_categorical_accuracy: 0.7295 - top_5_categorical_accuracy: 0.8170 - val_loss: 1.2551 - val_categorical_accuracy: 0.6535 - val_top_3_categorical_accuracy: 0.8193 - val_top_5_categorical_accuracy: 0.8895\n",
            "Conv1 - Zeros: 40.05%\n",
            "expanded_conv_project - Zeros: 39.84%\n",
            "block_1_expand - Zeros: 40.10%\n",
            "block_1_project - Zeros: 39.97%\n",
            "block_2_expand - Zeros: 39.97%\n",
            "block_2_project - Zeros: 39.97%\n",
            "block_3_expand - Zeros: 39.97%\n",
            "block_3_project - Zeros: 39.97%\n",
            "block_4_expand - Zeros: 39.97%\n",
            "block_4_project - Zeros: 39.97%\n",
            "block_5_expand - Zeros: 39.97%\n",
            "block_5_project - Zeros: 39.97%\n",
            "block_6_expand - Zeros: 39.97%\n",
            "block_6_project - Zeros: 40.01%\n",
            "block_7_expand - Zeros: 40.01%\n",
            "block_7_project - Zeros: 40.01%\n",
            "block_8_expand - Zeros: 40.01%\n",
            "block_8_project - Zeros: 40.01%\n",
            "block_9_expand - Zeros: 40.01%\n",
            "block_9_project - Zeros: 40.01%\n",
            "block_10_expand - Zeros: 40.01%\n",
            "block_10_project - Zeros: 40.00%\n",
            "block_11_expand - Zeros: 40.00%\n",
            "block_11_project - Zeros: 40.00%\n",
            "block_12_expand - Zeros: 40.00%\n",
            "block_12_project - Zeros: 40.00%\n",
            "block_13_expand - Zeros: 40.00%\n",
            "block_13_project - Zeros: 40.00%\n",
            "block_14_expand - Zeros: 40.00%\n",
            "block_14_project - Zeros: 40.00%\n",
            "block_15_expand - Zeros: 40.00%\n",
            "block_15_project - Zeros: 40.00%\n",
            "block_16_expand - Zeros: 40.00%\n",
            "block_16_project - Zeros: 40.00%\n",
            "Conv_1 - Zeros: 40.00%\n",
            "dense - Zeros: 40.00%\n",
            "evaluating\n",
            "25/25 [==============================] - 10s 343ms/step - loss: 1.1764 - categorical_accuracy: 0.6874 - top_3_categorical_accuracy: 0.8281 - top_5_categorical_accuracy: 0.8845\n",
            "\n",
            "\n",
            "pruning parameters 50.0%\n",
            "training\n",
            "Epoch 1/10\n",
            "82/82 [==============================] - 113s 1s/step - loss: 10.7361 - categorical_accuracy: 0.0298 - top_3_categorical_accuracy: 0.0896 - top_5_categorical_accuracy: 0.1388 - val_loss: 3.7145 - val_categorical_accuracy: 0.1436 - val_top_3_categorical_accuracy: 0.2991 - val_top_5_categorical_accuracy: 0.3812\n",
            "Epoch 2/10\n",
            "82/82 [==============================] - 102s 1s/step - loss: 7.1815 - categorical_accuracy: 0.0552 - top_3_categorical_accuracy: 0.1329 - top_5_categorical_accuracy: 0.1955 - val_loss: 3.4116 - val_categorical_accuracy: 0.2021 - val_top_3_categorical_accuracy: 0.3725 - val_top_5_categorical_accuracy: 0.4641\n",
            "Epoch 3/10\n",
            "82/82 [==============================] - 102s 1s/step - loss: 6.2430 - categorical_accuracy: 0.0680 - top_3_categorical_accuracy: 0.1630 - top_5_categorical_accuracy: 0.2392 - val_loss: 3.1739 - val_categorical_accuracy: 0.2447 - val_top_3_categorical_accuracy: 0.4301 - val_top_5_categorical_accuracy: 0.5162\n",
            "Epoch 4/10\n",
            "82/82 [==============================] - 103s 1s/step - loss: 5.5316 - categorical_accuracy: 0.0922 - top_3_categorical_accuracy: 0.2021 - top_5_categorical_accuracy: 0.2857 - val_loss: 3.0073 - val_categorical_accuracy: 0.2707 - val_top_3_categorical_accuracy: 0.4586 - val_top_5_categorical_accuracy: 0.5549\n",
            "Epoch 5/10\n",
            "82/82 [==============================] - 103s 1s/step - loss: 5.0562 - categorical_accuracy: 0.1192 - top_3_categorical_accuracy: 0.2429 - top_5_categorical_accuracy: 0.3212 - val_loss: 2.9509 - val_categorical_accuracy: 0.2794 - val_top_3_categorical_accuracy: 0.4704 - val_top_5_categorical_accuracy: 0.5714\n",
            "Epoch 6/10\n",
            "82/82 [==============================] - 104s 1s/step - loss: 4.6628 - categorical_accuracy: 0.1377 - top_3_categorical_accuracy: 0.2788 - top_5_categorical_accuracy: 0.3705 - val_loss: 2.8696 - val_categorical_accuracy: 0.3204 - val_top_3_categorical_accuracy: 0.4941 - val_top_5_categorical_accuracy: 0.5888\n",
            "Epoch 7/10\n",
            "82/82 [==============================] - 103s 1s/step - loss: 4.3211 - categorical_accuracy: 0.1530 - top_3_categorical_accuracy: 0.3060 - top_5_categorical_accuracy: 0.3973 - val_loss: 2.7777 - val_categorical_accuracy: 0.3165 - val_top_3_categorical_accuracy: 0.5020 - val_top_5_categorical_accuracy: 0.5998\n",
            "Epoch 8/10\n",
            "82/82 [==============================] - 105s 1s/step - loss: 4.0747 - categorical_accuracy: 0.1796 - top_3_categorical_accuracy: 0.3349 - top_5_categorical_accuracy: 0.4258 - val_loss: 2.7770 - val_categorical_accuracy: 0.3039 - val_top_3_categorical_accuracy: 0.5193 - val_top_5_categorical_accuracy: 0.6054\n",
            "Conv1 - Zeros: 50.00%\n",
            "expanded_conv_project - Zeros: 50.00%\n",
            "block_1_expand - Zeros: 50.00%\n",
            "block_1_project - Zeros: 50.00%\n",
            "block_2_expand - Zeros: 50.00%\n",
            "block_2_project - Zeros: 50.00%\n",
            "block_3_expand - Zeros: 50.00%\n",
            "block_3_project - Zeros: 50.00%\n",
            "block_4_expand - Zeros: 50.00%\n",
            "block_4_project - Zeros: 50.00%\n",
            "block_5_expand - Zeros: 50.00%\n",
            "block_5_project - Zeros: 50.00%\n",
            "block_6_expand - Zeros: 50.00%\n",
            "block_6_project - Zeros: 50.00%\n",
            "block_7_expand - Zeros: 50.00%\n",
            "block_7_project - Zeros: 50.00%\n",
            "block_8_expand - Zeros: 50.00%\n",
            "block_8_project - Zeros: 50.00%\n",
            "block_9_expand - Zeros: 50.00%\n",
            "block_9_project - Zeros: 50.00%\n",
            "block_10_expand - Zeros: 50.00%\n",
            "block_10_project - Zeros: 50.00%\n",
            "block_11_expand - Zeros: 50.00%\n",
            "block_11_project - Zeros: 50.00%\n",
            "block_12_expand - Zeros: 50.00%\n",
            "block_12_project - Zeros: 50.00%\n",
            "block_13_expand - Zeros: 50.00%\n",
            "block_13_project - Zeros: 50.00%\n",
            "block_14_expand - Zeros: 50.00%\n",
            "block_14_project - Zeros: 50.00%\n",
            "block_15_expand - Zeros: 50.00%\n",
            "block_15_project - Zeros: 50.00%\n",
            "block_16_expand - Zeros: 50.00%\n",
            "block_16_project - Zeros: 50.00%\n",
            "Conv_1 - Zeros: 50.00%\n",
            "dense - Zeros: 50.00%\n",
            "evaluating\n",
            "25/25 [==============================] - 10s 350ms/step - loss: 2.8243 - categorical_accuracy: 0.3166 - top_3_categorical_accuracy: 0.5020 - top_5_categorical_accuracy: 0.6111\n",
            "\n",
            "\n",
            "pruning parameters 60.0%\n",
            "training\n",
            "Epoch 1/10\n",
            "82/82 [==============================] - 115s 1s/step - loss: 13.7656 - categorical_accuracy: 0.0144 - top_3_categorical_accuracy: 0.0400 - top_5_categorical_accuracy: 0.0628 - val_loss: 6.0627 - val_categorical_accuracy: 0.0253 - val_top_3_categorical_accuracy: 0.0758 - val_top_5_categorical_accuracy: 0.1121\n",
            "Epoch 2/10\n",
            "82/82 [==============================] - 104s 1s/step - loss: 9.9297 - categorical_accuracy: 0.0157 - top_3_categorical_accuracy: 0.0485 - top_5_categorical_accuracy: 0.0791 - val_loss: 4.8014 - val_categorical_accuracy: 0.0418 - val_top_3_categorical_accuracy: 0.0852 - val_top_5_categorical_accuracy: 0.1429\n",
            "Epoch 3/10\n",
            "82/82 [==============================] - 103s 1s/step - loss: 8.3630 - categorical_accuracy: 0.0218 - top_3_categorical_accuracy: 0.0549 - top_5_categorical_accuracy: 0.0890 - val_loss: 4.4115 - val_categorical_accuracy: 0.0537 - val_top_3_categorical_accuracy: 0.1160 - val_top_5_categorical_accuracy: 0.1823\n",
            "Epoch 4/10\n",
            "82/82 [==============================] - 103s 1s/step - loss: 7.5679 - categorical_accuracy: 0.0207 - top_3_categorical_accuracy: 0.0674 - top_5_categorical_accuracy: 0.1059 - val_loss: 4.2952 - val_categorical_accuracy: 0.0513 - val_top_3_categorical_accuracy: 0.1468 - val_top_5_categorical_accuracy: 0.2123\n",
            "Epoch 5/10\n",
            "82/82 [==============================] - 102s 1s/step - loss: 6.8157 - categorical_accuracy: 0.0258 - top_3_categorical_accuracy: 0.0812 - top_5_categorical_accuracy: 0.1211 - val_loss: 4.1259 - val_categorical_accuracy: 0.0742 - val_top_3_categorical_accuracy: 0.1807 - val_top_5_categorical_accuracy: 0.2463\n",
            "Epoch 6/10\n",
            "82/82 [==============================] - 101s 1s/step - loss: 6.4345 - categorical_accuracy: 0.0309 - top_3_categorical_accuracy: 0.0796 - top_5_categorical_accuracy: 0.1254 - val_loss: 4.0253 - val_categorical_accuracy: 0.0766 - val_top_3_categorical_accuracy: 0.2028 - val_top_5_categorical_accuracy: 0.2881\n",
            "Epoch 7/10\n",
            "82/82 [==============================] - 101s 1s/step - loss: 6.0364 - categorical_accuracy: 0.0292 - top_3_categorical_accuracy: 0.0867 - top_5_categorical_accuracy: 0.1398 - val_loss: 3.9470 - val_categorical_accuracy: 0.0868 - val_top_3_categorical_accuracy: 0.2139 - val_top_5_categorical_accuracy: 0.3047\n",
            "Conv1 - Zeros: 59.95%\n",
            "expanded_conv_project - Zeros: 60.16%\n",
            "block_1_expand - Zeros: 59.90%\n",
            "block_1_project - Zeros: 60.03%\n",
            "block_2_expand - Zeros: 60.03%\n",
            "block_2_project - Zeros: 60.03%\n",
            "block_3_expand - Zeros: 60.03%\n",
            "block_3_project - Zeros: 60.03%\n",
            "block_4_expand - Zeros: 60.03%\n",
            "block_4_project - Zeros: 60.03%\n",
            "block_5_expand - Zeros: 60.03%\n",
            "block_5_project - Zeros: 60.03%\n",
            "block_6_expand - Zeros: 60.03%\n",
            "block_6_project - Zeros: 59.99%\n",
            "block_7_expand - Zeros: 59.99%\n",
            "block_7_project - Zeros: 59.99%\n",
            "block_8_expand - Zeros: 59.99%\n",
            "block_8_project - Zeros: 59.99%\n",
            "block_9_expand - Zeros: 59.99%\n",
            "block_9_project - Zeros: 59.99%\n",
            "block_10_expand - Zeros: 59.99%\n",
            "block_10_project - Zeros: 60.00%\n",
            "block_11_expand - Zeros: 60.00%\n",
            "block_11_project - Zeros: 60.00%\n",
            "block_12_expand - Zeros: 60.00%\n",
            "block_12_project - Zeros: 60.00%\n",
            "block_13_expand - Zeros: 60.00%\n",
            "block_13_project - Zeros: 60.00%\n",
            "block_14_expand - Zeros: 60.00%\n",
            "block_14_project - Zeros: 60.00%\n",
            "block_15_expand - Zeros: 60.00%\n",
            "block_15_project - Zeros: 60.00%\n",
            "block_16_expand - Zeros: 60.00%\n",
            "block_16_project - Zeros: 60.00%\n",
            "Conv_1 - Zeros: 60.00%\n",
            "dense - Zeros: 60.00%\n",
            "evaluating\n",
            "25/25 [==============================] - 10s 343ms/step - loss: 4.0955 - categorical_accuracy: 0.0710 - top_3_categorical_accuracy: 0.1770 - top_5_categorical_accuracy: 0.2530\n",
            "\n",
            "\n"
          ],
          "name": "stdout"
        }
      ]
    },
    {
      "cell_type": "code",
      "metadata": {
        "id": "p4FdYBgidnFT",
        "colab": {
          "base_uri": "https://localhost:8080/",
          "height": 333
        },
        "outputId": "a584b8ad-c234-4dcc-9b8b-32e9c81cf009"
      },
      "source": [
        "plot_accuracy_sparsity_curve(mobilenet_pruned_scores, 'MobileNetV2', 'mobilenet-pruning.eps')"
      ],
      "execution_count": null,
      "outputs": [
        {
          "output_type": "stream",
          "text": [
            "The PostScript backend does not support transparency; partially transparent artists will be rendered opaque.\n",
            "The PostScript backend does not support transparency; partially transparent artists will be rendered opaque.\n"
          ],
          "name": "stderr"
        },
        {
          "output_type": "display_data",
          "data": {
            "image/png": "[encoded data removed]",
            "text/plain": [
              "<Figure size 432x288 with 1 Axes>"
            ]
          },
          "metadata": {
            "tags": [],
            "needs_background": "light"
          }
        }
      ]
    },
    {
      "cell_type": "markdown",
      "metadata": {
        "id": "T1Lyax1uQ9Q5"
      },
      "source": [
        "## DenseNet121"
      ]
    },
    {
      "cell_type": "code",
      "metadata": {
        "id": "pLxh49uneKQF",
        "colab": {
          "base_uri": "https://localhost:8080/"
        },
        "outputId": "0f4ef913-b834-4747-acc5-a75b70861842"
      },
      "source": [
        "# Load DenseNet-121 and the amount of params per layer\n",
        "densenet = load_model('densenet.h5')\n",
        "densenet._name='densenet'\n",
        "net='densenet'\n",
        "params_per_layer(densenet)"
      ],
      "execution_count": null,
      "outputs": [
        {
          "output_type": "stream",
          "text": [
            "                          Total  Total%\n",
            "InputLayer                    0    0.00\n",
            "ZeroPadding2D                 0    0.00\n",
            "Conv2D                  6870208   96.19\n",
            "BatchNormalization       167296    2.34\n",
            "Activation                    0    0.00\n",
            "MaxPooling2D                  0    0.00\n",
            "Concatenate                   0    0.00\n",
            "AveragePooling2D              0    0.00\n",
            "GlobalAveragePooling2D        0    0.00\n",
            "Dropout                       0    0.00\n",
            "Dense                    104550    1.46\n"
          ],
          "name": "stdout"
        }
      ]
    },
    {
      "cell_type": "code",
      "metadata": {
        "id": "Y7qqVwfygzlM",
        "colab": {
          "base_uri": "https://localhost:8080/"
        },
        "outputId": "ba234e31-5428-4cbf-fa98-108e6ba39152"
      },
      "source": [
        "# Iterative pruning\n",
        "densenet_pruned_scores = prune_net(densenet,6)"
      ],
      "execution_count": null,
      "outputs": [
        {
          "output_type": "stream",
          "text": [
            "evaluating base\n",
            "25/25 [==============================] - 19s 419ms/step - loss: 0.4621 - categorical_accuracy: 0.8944 - top_3_categorical_accuracy: 0.9658 - top_5_categorical_accuracy: 0.9817\n",
            "conv1/conv - Zeros: 0.00%\n",
            "conv2_block1_1_conv - Zeros: 0.00%\n",
            "conv2_block1_2_conv - Zeros: 0.00%\n",
            "conv2_block2_1_conv - Zeros: 0.00%\n",
            "conv2_block2_2_conv - Zeros: 0.00%\n",
            "conv2_block3_1_conv - Zeros: 0.00%\n",
            "conv2_block3_2_conv - Zeros: 0.00%\n",
            "conv2_block4_1_conv - Zeros: 0.00%\n",
            "conv2_block4_2_conv - Zeros: 0.00%\n",
            "conv2_block5_1_conv - Zeros: 0.00%\n",
            "conv2_block5_2_conv - Zeros: 0.00%\n",
            "conv2_block6_1_conv - Zeros: 0.00%\n",
            "conv2_block6_2_conv - Zeros: 0.00%\n",
            "pool2_conv - Zeros: 0.00%\n",
            "conv3_block1_1_conv - Zeros: 0.00%\n",
            "conv3_block1_2_conv - Zeros: 0.00%\n",
            "conv3_block2_1_conv - Zeros: 0.00%\n",
            "conv3_block2_2_conv - Zeros: 0.00%\n",
            "conv3_block3_1_conv - Zeros: 0.00%\n",
            "conv3_block3_2_conv - Zeros: 0.00%\n",
            "conv3_block4_1_conv - Zeros: 0.00%\n",
            "conv3_block4_2_conv - Zeros: 0.00%\n",
            "conv3_block5_1_conv - Zeros: 0.00%\n",
            "conv3_block5_2_conv - Zeros: 0.00%\n",
            "conv3_block6_1_conv - Zeros: 0.00%\n",
            "conv3_block6_2_conv - Zeros: 0.00%\n",
            "conv3_block7_1_conv - Zeros: 0.00%\n",
            "conv3_block7_2_conv - Zeros: 0.00%\n",
            "conv3_block8_1_conv - Zeros: 0.00%\n",
            "conv3_block8_2_conv - Zeros: 0.00%\n",
            "conv3_block9_1_conv - Zeros: 0.00%\n",
            "conv3_block9_2_conv - Zeros: 0.00%\n",
            "conv3_block10_1_conv - Zeros: 0.00%\n",
            "conv3_block10_2_conv - Zeros: 0.00%\n",
            "conv3_block11_1_conv - Zeros: 0.00%\n",
            "conv3_block11_2_conv - Zeros: 0.00%\n",
            "conv3_block12_1_conv - Zeros: 0.00%\n",
            "conv3_block12_2_conv - Zeros: 0.00%\n",
            "pool3_conv - Zeros: 0.00%\n",
            "conv4_block1_1_conv - Zeros: 0.00%\n",
            "conv4_block1_2_conv - Zeros: 0.00%\n",
            "conv4_block2_1_conv - Zeros: 0.00%\n",
            "conv4_block2_2_conv - Zeros: 0.00%\n",
            "conv4_block3_1_conv - Zeros: 0.00%\n",
            "conv4_block3_2_conv - Zeros: 0.00%\n",
            "conv4_block4_1_conv - Zeros: 0.00%\n",
            "conv4_block4_2_conv - Zeros: 0.00%\n",
            "conv4_block5_1_conv - Zeros: 0.00%\n",
            "conv4_block5_2_conv - Zeros: 0.00%\n",
            "conv4_block6_1_conv - Zeros: 0.00%\n",
            "conv4_block6_2_conv - Zeros: 0.00%\n",
            "conv4_block7_1_conv - Zeros: 0.00%\n",
            "conv4_block7_2_conv - Zeros: 0.00%\n",
            "conv4_block8_1_conv - Zeros: 0.00%\n",
            "conv4_block8_2_conv - Zeros: 0.00%\n",
            "conv4_block9_1_conv - Zeros: 0.00%\n",
            "conv4_block9_2_conv - Zeros: 0.00%\n",
            "conv4_block10_1_conv - Zeros: 0.00%\n",
            "conv4_block10_2_conv - Zeros: 0.00%\n",
            "conv4_block11_1_conv - Zeros: 0.00%\n",
            "conv4_block11_2_conv - Zeros: 0.00%\n",
            "conv4_block12_1_conv - Zeros: 0.00%\n",
            "conv4_block12_2_conv - Zeros: 0.00%\n",
            "conv4_block13_1_conv - Zeros: 0.00%\n",
            "conv4_block13_2_conv - Zeros: 0.00%\n",
            "conv4_block14_1_conv - Zeros: 0.00%\n",
            "conv4_block14_2_conv - Zeros: 0.00%\n",
            "conv4_block15_1_conv - Zeros: 0.00%\n",
            "conv4_block15_2_conv - Zeros: 0.00%\n",
            "conv4_block16_1_conv - Zeros: 0.00%\n",
            "conv4_block16_2_conv - Zeros: 0.00%\n",
            "conv4_block17_1_conv - Zeros: 0.00%\n",
            "conv4_block17_2_conv - Zeros: 0.00%\n",
            "conv4_block18_1_conv - Zeros: 0.00%\n",
            "conv4_block18_2_conv - Zeros: 0.00%\n",
            "conv4_block19_1_conv - Zeros: 0.00%\n",
            "conv4_block19_2_conv - Zeros: 0.00%\n",
            "conv4_block20_1_conv - Zeros: 0.00%\n",
            "conv4_block20_2_conv - Zeros: 0.00%\n",
            "conv4_block21_1_conv - Zeros: 0.00%\n",
            "conv4_block21_2_conv - Zeros: 0.00%\n",
            "conv4_block22_1_conv - Zeros: 0.00%\n",
            "conv4_block22_2_conv - Zeros: 0.00%\n",
            "conv4_block23_1_conv - Zeros: 0.00%\n",
            "conv4_block23_2_conv - Zeros: 0.00%\n",
            "conv4_block24_1_conv - Zeros: 0.00%\n",
            "conv4_block24_2_conv - Zeros: 0.00%\n",
            "pool4_conv - Zeros: 0.00%\n",
            "conv5_block1_1_conv - Zeros: 0.00%\n",
            "conv5_block1_2_conv - Zeros: 0.00%\n",
            "conv5_block2_1_conv - Zeros: 0.00%\n",
            "conv5_block2_2_conv - Zeros: 0.00%\n",
            "conv5_block3_1_conv - Zeros: 0.00%\n",
            "conv5_block3_2_conv - Zeros: 0.00%\n",
            "conv5_block4_1_conv - Zeros: 0.00%\n",
            "conv5_block4_2_conv - Zeros: 0.00%\n",
            "conv5_block5_1_conv - Zeros: 0.00%\n",
            "conv5_block5_2_conv - Zeros: 0.00%\n",
            "conv5_block6_1_conv - Zeros: 0.00%\n",
            "conv5_block6_2_conv - Zeros: 0.00%\n",
            "conv5_block7_1_conv - Zeros: 0.00%\n",
            "conv5_block7_2_conv - Zeros: 0.00%\n",
            "conv5_block8_1_conv - Zeros: 0.00%\n",
            "conv5_block8_2_conv - Zeros: 0.00%\n",
            "conv5_block9_1_conv - Zeros: 0.00%\n",
            "conv5_block9_2_conv - Zeros: 0.00%\n",
            "conv5_block10_1_conv - Zeros: 0.00%\n",
            "conv5_block10_2_conv - Zeros: 0.00%\n",
            "conv5_block11_1_conv - Zeros: 0.00%\n",
            "conv5_block11_2_conv - Zeros: 0.00%\n",
            "conv5_block12_1_conv - Zeros: 0.00%\n",
            "conv5_block12_2_conv - Zeros: 0.00%\n",
            "conv5_block13_1_conv - Zeros: 0.00%\n",
            "conv5_block13_2_conv - Zeros: 0.00%\n",
            "conv5_block14_1_conv - Zeros: 0.00%\n",
            "conv5_block14_2_conv - Zeros: 0.00%\n",
            "conv5_block15_1_conv - Zeros: 0.00%\n",
            "conv5_block15_2_conv - Zeros: 0.00%\n",
            "conv5_block16_1_conv - Zeros: 0.00%\n",
            "conv5_block16_2_conv - Zeros: 0.00%\n",
            "dense_3 - Zeros: 0.00%\n",
            "\n",
            "\n",
            "pruning parameters 10.0%\n",
            "training\n",
            "Epoch 1/10\n",
            "82/82 [==============================] - 163s 2s/step - loss: 0.7325 - categorical_accuracy: 0.8184 - top_3_categorical_accuracy: 0.9384 - top_5_categorical_accuracy: 0.9691 - val_loss: 0.5265 - val_categorical_accuracy: 0.8737 - val_top_3_categorical_accuracy: 0.9582 - val_top_5_categorical_accuracy: 0.9811\n",
            "Epoch 2/10\n",
            "82/82 [==============================] - 121s 1s/step - loss: 0.6566 - categorical_accuracy: 0.8325 - top_3_categorical_accuracy: 0.9417 - top_5_categorical_accuracy: 0.9705 - val_loss: 0.4595 - val_categorical_accuracy: 0.8856 - val_top_3_categorical_accuracy: 0.9676 - val_top_5_categorical_accuracy: 0.9842\n",
            "Epoch 3/10\n",
            "82/82 [==============================] - 121s 1s/step - loss: 0.6176 - categorical_accuracy: 0.8466 - top_3_categorical_accuracy: 0.9449 - top_5_categorical_accuracy: 0.9729 - val_loss: 0.4422 - val_categorical_accuracy: 0.8990 - val_top_3_categorical_accuracy: 0.9669 - val_top_5_categorical_accuracy: 0.9850\n",
            "Epoch 4/10\n",
            "82/82 [==============================] - 120s 1s/step - loss: 0.5585 - categorical_accuracy: 0.8604 - top_3_categorical_accuracy: 0.9554 - top_5_categorical_accuracy: 0.9729 - val_loss: 0.4205 - val_categorical_accuracy: 0.9061 - val_top_3_categorical_accuracy: 0.9637 - val_top_5_categorical_accuracy: 0.9811\n",
            "Epoch 5/10\n",
            "82/82 [==============================] - 121s 1s/step - loss: 0.5764 - categorical_accuracy: 0.8514 - top_3_categorical_accuracy: 0.9545 - top_5_categorical_accuracy: 0.9741 - val_loss: 0.4183 - val_categorical_accuracy: 0.8958 - val_top_3_categorical_accuracy: 0.9669 - val_top_5_categorical_accuracy: 0.9850\n",
            "conv1/conv - Zeros: 10.00%\n",
            "conv2_block1_1_conv - Zeros: 10.00%\n",
            "conv2_block1_2_conv - Zeros: 10.00%\n",
            "conv2_block2_1_conv - Zeros: 10.00%\n",
            "conv2_block2_2_conv - Zeros: 10.00%\n",
            "conv2_block3_1_conv - Zeros: 10.00%\n",
            "conv2_block3_2_conv - Zeros: 10.00%\n",
            "conv2_block4_1_conv - Zeros: 10.00%\n",
            "conv2_block4_2_conv - Zeros: 10.00%\n",
            "conv2_block5_1_conv - Zeros: 10.00%\n",
            "conv2_block5_2_conv - Zeros: 10.00%\n",
            "conv2_block6_1_conv - Zeros: 10.00%\n",
            "conv2_block6_2_conv - Zeros: 10.00%\n",
            "pool2_conv - Zeros: 10.00%\n",
            "conv3_block1_1_conv - Zeros: 10.00%\n",
            "conv3_block1_2_conv - Zeros: 10.00%\n",
            "conv3_block2_1_conv - Zeros: 10.00%\n",
            "conv3_block2_2_conv - Zeros: 10.00%\n",
            "conv3_block3_1_conv - Zeros: 10.00%\n",
            "conv3_block3_2_conv - Zeros: 10.00%\n",
            "conv3_block4_1_conv - Zeros: 10.00%\n",
            "conv3_block4_2_conv - Zeros: 10.00%\n",
            "conv3_block5_1_conv - Zeros: 10.00%\n",
            "conv3_block5_2_conv - Zeros: 10.00%\n",
            "conv3_block6_1_conv - Zeros: 10.00%\n",
            "conv3_block6_2_conv - Zeros: 10.00%\n",
            "conv3_block7_1_conv - Zeros: 10.00%\n",
            "conv3_block7_2_conv - Zeros: 10.00%\n",
            "conv3_block8_1_conv - Zeros: 10.00%\n",
            "conv3_block8_2_conv - Zeros: 10.00%\n",
            "conv3_block9_1_conv - Zeros: 10.00%\n",
            "conv3_block9_2_conv - Zeros: 10.00%\n",
            "conv3_block10_1_conv - Zeros: 10.00%\n",
            "conv3_block10_2_conv - Zeros: 10.00%\n",
            "conv3_block11_1_conv - Zeros: 10.00%\n",
            "conv3_block11_2_conv - Zeros: 10.00%\n",
            "conv3_block12_1_conv - Zeros: 10.00%\n",
            "conv3_block12_2_conv - Zeros: 10.00%\n",
            "pool3_conv - Zeros: 10.00%\n",
            "conv4_block1_1_conv - Zeros: 10.00%\n",
            "conv4_block1_2_conv - Zeros: 10.00%\n",
            "conv4_block2_1_conv - Zeros: 10.00%\n",
            "conv4_block2_2_conv - Zeros: 10.00%\n",
            "conv4_block3_1_conv - Zeros: 10.00%\n",
            "conv4_block3_2_conv - Zeros: 10.00%\n",
            "conv4_block4_1_conv - Zeros: 10.00%\n",
            "conv4_block4_2_conv - Zeros: 10.00%\n",
            "conv4_block5_1_conv - Zeros: 10.00%\n",
            "conv4_block5_2_conv - Zeros: 10.00%\n",
            "conv4_block6_1_conv - Zeros: 10.00%\n",
            "conv4_block6_2_conv - Zeros: 10.00%\n",
            "conv4_block7_1_conv - Zeros: 10.00%\n",
            "conv4_block7_2_conv - Zeros: 10.00%\n",
            "conv4_block8_1_conv - Zeros: 10.00%\n",
            "conv4_block8_2_conv - Zeros: 10.00%\n",
            "conv4_block9_1_conv - Zeros: 10.00%\n",
            "conv4_block9_2_conv - Zeros: 10.00%\n",
            "conv4_block10_1_conv - Zeros: 10.00%\n",
            "conv4_block10_2_conv - Zeros: 10.00%\n",
            "conv4_block11_1_conv - Zeros: 10.00%\n",
            "conv4_block11_2_conv - Zeros: 10.00%\n",
            "conv4_block12_1_conv - Zeros: 10.00%\n",
            "conv4_block12_2_conv - Zeros: 10.00%\n",
            "conv4_block13_1_conv - Zeros: 10.00%\n",
            "conv4_block13_2_conv - Zeros: 10.00%\n",
            "conv4_block14_1_conv - Zeros: 10.00%\n",
            "conv4_block14_2_conv - Zeros: 10.00%\n",
            "conv4_block15_1_conv - Zeros: 10.00%\n",
            "conv4_block15_2_conv - Zeros: 10.00%\n",
            "conv4_block16_1_conv - Zeros: 10.00%\n",
            "conv4_block16_2_conv - Zeros: 10.00%\n",
            "conv4_block17_1_conv - Zeros: 10.00%\n",
            "conv4_block17_2_conv - Zeros: 10.00%\n",
            "conv4_block18_1_conv - Zeros: 10.00%\n",
            "conv4_block18_2_conv - Zeros: 10.00%\n",
            "conv4_block19_1_conv - Zeros: 10.00%\n",
            "conv4_block19_2_conv - Zeros: 10.00%\n",
            "conv4_block20_1_conv - Zeros: 10.00%\n",
            "conv4_block20_2_conv - Zeros: 10.00%\n",
            "conv4_block21_1_conv - Zeros: 10.00%\n",
            "conv4_block21_2_conv - Zeros: 10.00%\n",
            "conv4_block22_1_conv - Zeros: 10.00%\n",
            "conv4_block22_2_conv - Zeros: 10.00%\n",
            "conv4_block23_1_conv - Zeros: 10.00%\n",
            "conv4_block23_2_conv - Zeros: 10.00%\n",
            "conv4_block24_1_conv - Zeros: 10.00%\n",
            "conv4_block24_2_conv - Zeros: 10.00%\n",
            "pool4_conv - Zeros: 10.00%\n",
            "conv5_block1_1_conv - Zeros: 10.00%\n",
            "conv5_block1_2_conv - Zeros: 10.00%\n",
            "conv5_block2_1_conv - Zeros: 10.00%\n",
            "conv5_block2_2_conv - Zeros: 10.00%\n",
            "conv5_block3_1_conv - Zeros: 10.00%\n",
            "conv5_block3_2_conv - Zeros: 10.00%\n",
            "conv5_block4_1_conv - Zeros: 10.00%\n",
            "conv5_block4_2_conv - Zeros: 10.00%\n",
            "conv5_block5_1_conv - Zeros: 10.00%\n",
            "conv5_block5_2_conv - Zeros: 10.00%\n",
            "conv5_block6_1_conv - Zeros: 10.00%\n",
            "conv5_block6_2_conv - Zeros: 10.00%\n",
            "conv5_block7_1_conv - Zeros: 10.00%\n",
            "conv5_block7_2_conv - Zeros: 10.00%\n",
            "conv5_block8_1_conv - Zeros: 10.00%\n",
            "conv5_block8_2_conv - Zeros: 10.00%\n",
            "conv5_block9_1_conv - Zeros: 10.00%\n",
            "conv5_block9_2_conv - Zeros: 10.00%\n",
            "conv5_block10_1_conv - Zeros: 10.00%\n",
            "conv5_block10_2_conv - Zeros: 10.00%\n",
            "conv5_block11_1_conv - Zeros: 10.00%\n",
            "conv5_block11_2_conv - Zeros: 10.00%\n",
            "conv5_block12_1_conv - Zeros: 10.00%\n",
            "conv5_block12_2_conv - Zeros: 10.00%\n",
            "conv5_block13_1_conv - Zeros: 10.00%\n",
            "conv5_block13_2_conv - Zeros: 10.00%\n",
            "conv5_block14_1_conv - Zeros: 10.00%\n",
            "conv5_block14_2_conv - Zeros: 10.00%\n",
            "conv5_block15_1_conv - Zeros: 10.00%\n",
            "conv5_block15_2_conv - Zeros: 10.00%\n",
            "conv5_block16_1_conv - Zeros: 10.00%\n",
            "conv5_block16_2_conv - Zeros: 10.00%\n",
            "dense_3 - Zeros: 10.00%\n",
            "evaluating\n",
            "25/25 [==============================] - 12s 409ms/step - loss: 0.3649 - categorical_accuracy: 0.9048 - top_3_categorical_accuracy: 0.9669 - top_5_categorical_accuracy: 0.9856\n",
            "\n",
            "\n",
            "pruning parameters 20.0%\n",
            "training\n",
            "Epoch 1/10\n",
            "82/82 [==============================] - 161s 2s/step - loss: 0.6143 - categorical_accuracy: 0.8438 - top_3_categorical_accuracy: 0.9550 - top_5_categorical_accuracy: 0.9772 - val_loss: 0.4228 - val_categorical_accuracy: 0.9092 - val_top_3_categorical_accuracy: 0.9637 - val_top_5_categorical_accuracy: 0.9803\n",
            "Epoch 2/10\n",
            "82/82 [==============================] - 122s 1s/step - loss: 0.6136 - categorical_accuracy: 0.8434 - top_3_categorical_accuracy: 0.9492 - top_5_categorical_accuracy: 0.9705 - val_loss: 0.4055 - val_categorical_accuracy: 0.9029 - val_top_3_categorical_accuracy: 0.9692 - val_top_5_categorical_accuracy: 0.9826\n",
            "Epoch 3/10\n",
            "82/82 [==============================] - 121s 1s/step - loss: 0.5435 - categorical_accuracy: 0.8642 - top_3_categorical_accuracy: 0.9549 - top_5_categorical_accuracy: 0.9771 - val_loss: 0.3994 - val_categorical_accuracy: 0.9006 - val_top_3_categorical_accuracy: 0.9747 - val_top_5_categorical_accuracy: 0.9874\n",
            "conv1/conv - Zeros: 20.00%\n",
            "conv2_block1_1_conv - Zeros: 20.00%\n",
            "conv2_block1_2_conv - Zeros: 20.00%\n",
            "conv2_block2_1_conv - Zeros: 20.00%\n",
            "conv2_block2_2_conv - Zeros: 20.00%\n",
            "conv2_block3_1_conv - Zeros: 20.00%\n",
            "conv2_block3_2_conv - Zeros: 20.00%\n",
            "conv2_block4_1_conv - Zeros: 20.00%\n",
            "conv2_block4_2_conv - Zeros: 20.00%\n",
            "conv2_block5_1_conv - Zeros: 20.00%\n",
            "conv2_block5_2_conv - Zeros: 20.00%\n",
            "conv2_block6_1_conv - Zeros: 20.00%\n",
            "conv2_block6_2_conv - Zeros: 20.00%\n",
            "pool2_conv - Zeros: 20.00%\n",
            "conv3_block1_1_conv - Zeros: 20.00%\n",
            "conv3_block1_2_conv - Zeros: 20.00%\n",
            "conv3_block2_1_conv - Zeros: 20.00%\n",
            "conv3_block2_2_conv - Zeros: 20.00%\n",
            "conv3_block3_1_conv - Zeros: 20.00%\n",
            "conv3_block3_2_conv - Zeros: 20.00%\n",
            "conv3_block4_1_conv - Zeros: 20.00%\n",
            "conv3_block4_2_conv - Zeros: 20.00%\n",
            "conv3_block5_1_conv - Zeros: 20.00%\n",
            "conv3_block5_2_conv - Zeros: 20.00%\n",
            "conv3_block6_1_conv - Zeros: 20.00%\n",
            "conv3_block6_2_conv - Zeros: 20.00%\n",
            "conv3_block7_1_conv - Zeros: 20.00%\n",
            "conv3_block7_2_conv - Zeros: 20.00%\n",
            "conv3_block8_1_conv - Zeros: 20.00%\n",
            "conv3_block8_2_conv - Zeros: 20.00%\n",
            "conv3_block9_1_conv - Zeros: 20.00%\n",
            "conv3_block9_2_conv - Zeros: 20.00%\n",
            "conv3_block10_1_conv - Zeros: 20.00%\n",
            "conv3_block10_2_conv - Zeros: 20.00%\n",
            "conv3_block11_1_conv - Zeros: 20.00%\n",
            "conv3_block11_2_conv - Zeros: 20.00%\n",
            "conv3_block12_1_conv - Zeros: 20.00%\n",
            "conv3_block12_2_conv - Zeros: 20.00%\n",
            "pool3_conv - Zeros: 20.00%\n",
            "conv4_block1_1_conv - Zeros: 20.00%\n",
            "conv4_block1_2_conv - Zeros: 20.00%\n",
            "conv4_block2_1_conv - Zeros: 20.00%\n",
            "conv4_block2_2_conv - Zeros: 20.00%\n",
            "conv4_block3_1_conv - Zeros: 20.00%\n",
            "conv4_block3_2_conv - Zeros: 20.00%\n",
            "conv4_block4_1_conv - Zeros: 20.00%\n",
            "conv4_block4_2_conv - Zeros: 20.00%\n",
            "conv4_block5_1_conv - Zeros: 20.00%\n",
            "conv4_block5_2_conv - Zeros: 20.00%\n",
            "conv4_block6_1_conv - Zeros: 20.00%\n",
            "conv4_block6_2_conv - Zeros: 20.00%\n",
            "conv4_block7_1_conv - Zeros: 20.00%\n",
            "conv4_block7_2_conv - Zeros: 20.00%\n",
            "conv4_block8_1_conv - Zeros: 20.00%\n",
            "conv4_block8_2_conv - Zeros: 20.00%\n",
            "conv4_block9_1_conv - Zeros: 20.00%\n",
            "conv4_block9_2_conv - Zeros: 20.00%\n",
            "conv4_block10_1_conv - Zeros: 20.00%\n",
            "conv4_block10_2_conv - Zeros: 20.00%\n",
            "conv4_block11_1_conv - Zeros: 20.00%\n",
            "conv4_block11_2_conv - Zeros: 20.00%\n",
            "conv4_block12_1_conv - Zeros: 20.00%\n",
            "conv4_block12_2_conv - Zeros: 20.00%\n",
            "conv4_block13_1_conv - Zeros: 20.00%\n",
            "conv4_block13_2_conv - Zeros: 20.00%\n",
            "conv4_block14_1_conv - Zeros: 20.00%\n",
            "conv4_block14_2_conv - Zeros: 20.00%\n",
            "conv4_block15_1_conv - Zeros: 20.00%\n",
            "conv4_block15_2_conv - Zeros: 20.00%\n",
            "conv4_block16_1_conv - Zeros: 20.00%\n",
            "conv4_block16_2_conv - Zeros: 20.00%\n",
            "conv4_block17_1_conv - Zeros: 20.00%\n",
            "conv4_block17_2_conv - Zeros: 20.00%\n",
            "conv4_block18_1_conv - Zeros: 20.00%\n",
            "conv4_block18_2_conv - Zeros: 20.00%\n",
            "conv4_block19_1_conv - Zeros: 20.00%\n",
            "conv4_block19_2_conv - Zeros: 20.00%\n",
            "conv4_block20_1_conv - Zeros: 20.00%\n",
            "conv4_block20_2_conv - Zeros: 20.00%\n",
            "conv4_block21_1_conv - Zeros: 20.00%\n",
            "conv4_block21_2_conv - Zeros: 20.00%\n",
            "conv4_block22_1_conv - Zeros: 20.00%\n",
            "conv4_block22_2_conv - Zeros: 20.00%\n",
            "conv4_block23_1_conv - Zeros: 20.00%\n",
            "conv4_block23_2_conv - Zeros: 20.00%\n",
            "conv4_block24_1_conv - Zeros: 20.00%\n",
            "conv4_block24_2_conv - Zeros: 20.00%\n",
            "pool4_conv - Zeros: 20.00%\n",
            "conv5_block1_1_conv - Zeros: 20.00%\n",
            "conv5_block1_2_conv - Zeros: 20.00%\n",
            "conv5_block2_1_conv - Zeros: 20.00%\n",
            "conv5_block2_2_conv - Zeros: 20.00%\n",
            "conv5_block3_1_conv - Zeros: 20.00%\n",
            "conv5_block3_2_conv - Zeros: 20.00%\n",
            "conv5_block4_1_conv - Zeros: 20.00%\n",
            "conv5_block4_2_conv - Zeros: 20.00%\n",
            "conv5_block5_1_conv - Zeros: 20.00%\n",
            "conv5_block5_2_conv - Zeros: 20.00%\n",
            "conv5_block6_1_conv - Zeros: 20.00%\n",
            "conv5_block6_2_conv - Zeros: 20.00%\n",
            "conv5_block7_1_conv - Zeros: 20.00%\n",
            "conv5_block7_2_conv - Zeros: 20.00%\n",
            "conv5_block8_1_conv - Zeros: 20.00%\n",
            "conv5_block8_2_conv - Zeros: 20.00%\n",
            "conv5_block9_1_conv - Zeros: 20.00%\n",
            "conv5_block9_2_conv - Zeros: 20.00%\n",
            "conv5_block10_1_conv - Zeros: 20.00%\n",
            "conv5_block10_2_conv - Zeros: 20.00%\n",
            "conv5_block11_1_conv - Zeros: 20.00%\n",
            "conv5_block11_2_conv - Zeros: 20.00%\n",
            "conv5_block12_1_conv - Zeros: 20.00%\n",
            "conv5_block12_2_conv - Zeros: 20.00%\n",
            "conv5_block13_1_conv - Zeros: 20.00%\n",
            "conv5_block13_2_conv - Zeros: 20.00%\n",
            "conv5_block14_1_conv - Zeros: 20.00%\n",
            "conv5_block14_2_conv - Zeros: 20.00%\n",
            "conv5_block15_1_conv - Zeros: 20.00%\n",
            "conv5_block15_2_conv - Zeros: 20.00%\n",
            "conv5_block16_1_conv - Zeros: 20.00%\n",
            "conv5_block16_2_conv - Zeros: 20.00%\n",
            "dense_3 - Zeros: 20.00%\n",
            "evaluating\n",
            "25/25 [==============================] - 13s 411ms/step - loss: 0.3472 - categorical_accuracy: 0.9028 - top_3_categorical_accuracy: 0.9713 - top_5_categorical_accuracy: 0.9880\n",
            "\n",
            "\n",
            "pruning parameters 30.0%\n",
            "training\n",
            "Epoch 1/10\n",
            "82/82 [==============================] - 161s 2s/step - loss: 0.6484 - categorical_accuracy: 0.8315 - top_3_categorical_accuracy: 0.9486 - top_5_categorical_accuracy: 0.9739 - val_loss: 0.4218 - val_categorical_accuracy: 0.8998 - val_top_3_categorical_accuracy: 0.9708 - val_top_5_categorical_accuracy: 0.9850\n",
            "Epoch 2/10\n",
            "82/82 [==============================] - 119s 1s/step - loss: 0.5743 - categorical_accuracy: 0.8494 - top_3_categorical_accuracy: 0.9524 - top_5_categorical_accuracy: 0.9758 - val_loss: 0.3992 - val_categorical_accuracy: 0.9092 - val_top_3_categorical_accuracy: 0.9724 - val_top_5_categorical_accuracy: 0.9826\n",
            "Epoch 3/10\n",
            "82/82 [==============================] - 119s 1s/step - loss: 0.5825 - categorical_accuracy: 0.8558 - top_3_categorical_accuracy: 0.9470 - top_5_categorical_accuracy: 0.9744 - val_loss: 0.4162 - val_categorical_accuracy: 0.8982 - val_top_3_categorical_accuracy: 0.9700 - val_top_5_categorical_accuracy: 0.9795\n",
            "conv1/conv - Zeros: 30.00%\n",
            "conv2_block1_1_conv - Zeros: 30.00%\n",
            "conv2_block1_2_conv - Zeros: 30.00%\n",
            "conv2_block2_1_conv - Zeros: 30.00%\n",
            "conv2_block2_2_conv - Zeros: 30.00%\n",
            "conv2_block3_1_conv - Zeros: 30.00%\n",
            "conv2_block3_2_conv - Zeros: 30.00%\n",
            "conv2_block4_1_conv - Zeros: 30.00%\n",
            "conv2_block4_2_conv - Zeros: 30.00%\n",
            "conv2_block5_1_conv - Zeros: 30.00%\n",
            "conv2_block5_2_conv - Zeros: 30.00%\n",
            "conv2_block6_1_conv - Zeros: 30.00%\n",
            "conv2_block6_2_conv - Zeros: 30.00%\n",
            "pool2_conv - Zeros: 30.00%\n",
            "conv3_block1_1_conv - Zeros: 30.00%\n",
            "conv3_block1_2_conv - Zeros: 30.00%\n",
            "conv3_block2_1_conv - Zeros: 30.00%\n",
            "conv3_block2_2_conv - Zeros: 30.00%\n",
            "conv3_block3_1_conv - Zeros: 30.00%\n",
            "conv3_block3_2_conv - Zeros: 30.00%\n",
            "conv3_block4_1_conv - Zeros: 30.00%\n",
            "conv3_block4_2_conv - Zeros: 30.00%\n",
            "conv3_block5_1_conv - Zeros: 30.00%\n",
            "conv3_block5_2_conv - Zeros: 30.00%\n",
            "conv3_block6_1_conv - Zeros: 30.00%\n",
            "conv3_block6_2_conv - Zeros: 30.00%\n",
            "conv3_block7_1_conv - Zeros: 30.00%\n",
            "conv3_block7_2_conv - Zeros: 30.00%\n",
            "conv3_block8_1_conv - Zeros: 30.00%\n",
            "conv3_block8_2_conv - Zeros: 30.00%\n",
            "conv3_block9_1_conv - Zeros: 30.00%\n",
            "conv3_block9_2_conv - Zeros: 30.00%\n",
            "conv3_block10_1_conv - Zeros: 30.00%\n",
            "conv3_block10_2_conv - Zeros: 30.00%\n",
            "conv3_block11_1_conv - Zeros: 30.00%\n",
            "conv3_block11_2_conv - Zeros: 30.00%\n",
            "conv3_block12_1_conv - Zeros: 30.00%\n",
            "conv3_block12_2_conv - Zeros: 30.00%\n",
            "pool3_conv - Zeros: 30.00%\n",
            "conv4_block1_1_conv - Zeros: 30.00%\n",
            "conv4_block1_2_conv - Zeros: 30.00%\n",
            "conv4_block2_1_conv - Zeros: 30.00%\n",
            "conv4_block2_2_conv - Zeros: 30.00%\n",
            "conv4_block3_1_conv - Zeros: 30.00%\n",
            "conv4_block3_2_conv - Zeros: 30.00%\n",
            "conv4_block4_1_conv - Zeros: 30.00%\n",
            "conv4_block4_2_conv - Zeros: 30.00%\n",
            "conv4_block5_1_conv - Zeros: 30.00%\n",
            "conv4_block5_2_conv - Zeros: 30.00%\n",
            "conv4_block6_1_conv - Zeros: 30.00%\n",
            "conv4_block6_2_conv - Zeros: 30.00%\n",
            "conv4_block7_1_conv - Zeros: 30.00%\n",
            "conv4_block7_2_conv - Zeros: 30.00%\n",
            "conv4_block8_1_conv - Zeros: 30.00%\n",
            "conv4_block8_2_conv - Zeros: 30.00%\n",
            "conv4_block9_1_conv - Zeros: 30.00%\n",
            "conv4_block9_2_conv - Zeros: 30.00%\n",
            "conv4_block10_1_conv - Zeros: 30.00%\n",
            "conv4_block10_2_conv - Zeros: 30.00%\n",
            "conv4_block11_1_conv - Zeros: 30.00%\n",
            "conv4_block11_2_conv - Zeros: 30.00%\n",
            "conv4_block12_1_conv - Zeros: 30.00%\n",
            "conv4_block12_2_conv - Zeros: 30.00%\n",
            "conv4_block13_1_conv - Zeros: 30.00%\n",
            "conv4_block13_2_conv - Zeros: 30.00%\n",
            "conv4_block14_1_conv - Zeros: 30.00%\n",
            "conv4_block14_2_conv - Zeros: 30.00%\n",
            "conv4_block15_1_conv - Zeros: 30.00%\n",
            "conv4_block15_2_conv - Zeros: 30.00%\n",
            "conv4_block16_1_conv - Zeros: 30.00%\n",
            "conv4_block16_2_conv - Zeros: 30.00%\n",
            "conv4_block17_1_conv - Zeros: 30.00%\n",
            "conv4_block17_2_conv - Zeros: 30.00%\n",
            "conv4_block18_1_conv - Zeros: 30.00%\n",
            "conv4_block18_2_conv - Zeros: 30.00%\n",
            "conv4_block19_1_conv - Zeros: 30.00%\n",
            "conv4_block19_2_conv - Zeros: 30.00%\n",
            "conv4_block20_1_conv - Zeros: 30.00%\n",
            "conv4_block20_2_conv - Zeros: 30.00%\n",
            "conv4_block21_1_conv - Zeros: 30.00%\n",
            "conv4_block21_2_conv - Zeros: 30.00%\n",
            "conv4_block22_1_conv - Zeros: 30.00%\n",
            "conv4_block22_2_conv - Zeros: 30.00%\n",
            "conv4_block23_1_conv - Zeros: 30.00%\n",
            "conv4_block23_2_conv - Zeros: 30.00%\n",
            "conv4_block24_1_conv - Zeros: 30.00%\n",
            "conv4_block24_2_conv - Zeros: 30.00%\n",
            "pool4_conv - Zeros: 30.00%\n",
            "conv5_block1_1_conv - Zeros: 30.00%\n",
            "conv5_block1_2_conv - Zeros: 30.00%\n",
            "conv5_block2_1_conv - Zeros: 30.00%\n",
            "conv5_block2_2_conv - Zeros: 30.00%\n",
            "conv5_block3_1_conv - Zeros: 30.00%\n",
            "conv5_block3_2_conv - Zeros: 30.00%\n",
            "conv5_block4_1_conv - Zeros: 30.00%\n",
            "conv5_block4_2_conv - Zeros: 30.00%\n",
            "conv5_block5_1_conv - Zeros: 30.00%\n",
            "conv5_block5_2_conv - Zeros: 30.00%\n",
            "conv5_block6_1_conv - Zeros: 30.00%\n",
            "conv5_block6_2_conv - Zeros: 30.00%\n",
            "conv5_block7_1_conv - Zeros: 30.00%\n",
            "conv5_block7_2_conv - Zeros: 30.00%\n",
            "conv5_block8_1_conv - Zeros: 30.00%\n",
            "conv5_block8_2_conv - Zeros: 30.00%\n",
            "conv5_block9_1_conv - Zeros: 30.00%\n",
            "conv5_block9_2_conv - Zeros: 30.00%\n",
            "conv5_block10_1_conv - Zeros: 30.00%\n",
            "conv5_block10_2_conv - Zeros: 30.00%\n",
            "conv5_block11_1_conv - Zeros: 30.00%\n",
            "conv5_block11_2_conv - Zeros: 30.00%\n",
            "conv5_block12_1_conv - Zeros: 30.00%\n",
            "conv5_block12_2_conv - Zeros: 30.00%\n",
            "conv5_block13_1_conv - Zeros: 30.00%\n",
            "conv5_block13_2_conv - Zeros: 30.00%\n",
            "conv5_block14_1_conv - Zeros: 30.00%\n",
            "conv5_block14_2_conv - Zeros: 30.00%\n",
            "conv5_block15_1_conv - Zeros: 30.00%\n",
            "conv5_block15_2_conv - Zeros: 30.00%\n",
            "conv5_block16_1_conv - Zeros: 30.00%\n",
            "conv5_block16_2_conv - Zeros: 30.00%\n",
            "dense_3 - Zeros: 30.00%\n",
            "evaluating\n",
            "25/25 [==============================] - 12s 405ms/step - loss: 0.3535 - categorical_accuracy: 0.9048 - top_3_categorical_accuracy: 0.9731 - top_5_categorical_accuracy: 0.9867\n",
            "\n",
            "\n",
            "pruning parameters 40.0%\n",
            "training\n",
            "Epoch 1/10\n",
            "82/82 [==============================] - 162s 2s/step - loss: 0.7298 - categorical_accuracy: 0.8048 - top_3_categorical_accuracy: 0.9307 - top_5_categorical_accuracy: 0.9645 - val_loss: 0.4458 - val_categorical_accuracy: 0.8871 - val_top_3_categorical_accuracy: 0.9716 - val_top_5_categorical_accuracy: 0.9826\n",
            "Epoch 2/10\n",
            "82/82 [==============================] - 121s 1s/step - loss: 0.6443 - categorical_accuracy: 0.8247 - top_3_categorical_accuracy: 0.9420 - top_5_categorical_accuracy: 0.9670 - val_loss: 0.4237 - val_categorical_accuracy: 0.8974 - val_top_3_categorical_accuracy: 0.9716 - val_top_5_categorical_accuracy: 0.9834\n",
            "Epoch 3/10\n",
            "82/82 [==============================] - 121s 1s/step - loss: 0.6462 - categorical_accuracy: 0.8319 - top_3_categorical_accuracy: 0.9400 - top_5_categorical_accuracy: 0.9650 - val_loss: 0.4089 - val_categorical_accuracy: 0.8911 - val_top_3_categorical_accuracy: 0.9661 - val_top_5_categorical_accuracy: 0.9866\n",
            "conv1/conv - Zeros: 40.00%\n",
            "conv2_block1_1_conv - Zeros: 40.00%\n",
            "conv2_block1_2_conv - Zeros: 40.00%\n",
            "conv2_block2_1_conv - Zeros: 40.00%\n",
            "conv2_block2_2_conv - Zeros: 40.00%\n",
            "conv2_block3_1_conv - Zeros: 40.00%\n",
            "conv2_block3_2_conv - Zeros: 40.00%\n",
            "conv2_block4_1_conv - Zeros: 40.00%\n",
            "conv2_block4_2_conv - Zeros: 40.00%\n",
            "conv2_block5_1_conv - Zeros: 40.00%\n",
            "conv2_block5_2_conv - Zeros: 40.00%\n",
            "conv2_block6_1_conv - Zeros: 40.00%\n",
            "conv2_block6_2_conv - Zeros: 40.00%\n",
            "pool2_conv - Zeros: 40.00%\n",
            "conv3_block1_1_conv - Zeros: 40.00%\n",
            "conv3_block1_2_conv - Zeros: 40.00%\n",
            "conv3_block2_1_conv - Zeros: 40.00%\n",
            "conv3_block2_2_conv - Zeros: 40.00%\n",
            "conv3_block3_1_conv - Zeros: 40.00%\n",
            "conv3_block3_2_conv - Zeros: 40.00%\n",
            "conv3_block4_1_conv - Zeros: 40.00%\n",
            "conv3_block4_2_conv - Zeros: 40.00%\n",
            "conv3_block5_1_conv - Zeros: 40.00%\n",
            "conv3_block5_2_conv - Zeros: 40.00%\n",
            "conv3_block6_1_conv - Zeros: 40.00%\n",
            "conv3_block6_2_conv - Zeros: 40.00%\n",
            "conv3_block7_1_conv - Zeros: 40.00%\n",
            "conv3_block7_2_conv - Zeros: 40.00%\n",
            "conv3_block8_1_conv - Zeros: 40.00%\n",
            "conv3_block8_2_conv - Zeros: 40.00%\n",
            "conv3_block9_1_conv - Zeros: 40.00%\n",
            "conv3_block9_2_conv - Zeros: 40.00%\n",
            "conv3_block10_1_conv - Zeros: 40.00%\n",
            "conv3_block10_2_conv - Zeros: 40.00%\n",
            "conv3_block11_1_conv - Zeros: 40.00%\n",
            "conv3_block11_2_conv - Zeros: 40.00%\n",
            "conv3_block12_1_conv - Zeros: 40.00%\n",
            "conv3_block12_2_conv - Zeros: 40.00%\n",
            "pool3_conv - Zeros: 40.00%\n",
            "conv4_block1_1_conv - Zeros: 40.00%\n",
            "conv4_block1_2_conv - Zeros: 40.00%\n",
            "conv4_block2_1_conv - Zeros: 40.00%\n",
            "conv4_block2_2_conv - Zeros: 40.00%\n",
            "conv4_block3_1_conv - Zeros: 40.00%\n",
            "conv4_block3_2_conv - Zeros: 40.00%\n",
            "conv4_block4_1_conv - Zeros: 40.00%\n",
            "conv4_block4_2_conv - Zeros: 40.00%\n",
            "conv4_block5_1_conv - Zeros: 40.00%\n",
            "conv4_block5_2_conv - Zeros: 40.00%\n",
            "conv4_block6_1_conv - Zeros: 40.00%\n",
            "conv4_block6_2_conv - Zeros: 40.00%\n",
            "conv4_block7_1_conv - Zeros: 40.00%\n",
            "conv4_block7_2_conv - Zeros: 40.00%\n",
            "conv4_block8_1_conv - Zeros: 40.00%\n",
            "conv4_block8_2_conv - Zeros: 40.00%\n",
            "conv4_block9_1_conv - Zeros: 40.00%\n",
            "conv4_block9_2_conv - Zeros: 40.00%\n",
            "conv4_block10_1_conv - Zeros: 40.00%\n",
            "conv4_block10_2_conv - Zeros: 40.00%\n",
            "conv4_block11_1_conv - Zeros: 40.00%\n",
            "conv4_block11_2_conv - Zeros: 40.00%\n",
            "conv4_block12_1_conv - Zeros: 40.00%\n",
            "conv4_block12_2_conv - Zeros: 40.00%\n",
            "conv4_block13_1_conv - Zeros: 40.00%\n",
            "conv4_block13_2_conv - Zeros: 40.00%\n",
            "conv4_block14_1_conv - Zeros: 40.00%\n",
            "conv4_block14_2_conv - Zeros: 40.00%\n",
            "conv4_block15_1_conv - Zeros: 40.00%\n",
            "conv4_block15_2_conv - Zeros: 40.00%\n",
            "conv4_block16_1_conv - Zeros: 40.00%\n",
            "conv4_block16_2_conv - Zeros: 40.00%\n",
            "conv4_block17_1_conv - Zeros: 40.00%\n",
            "conv4_block17_2_conv - Zeros: 40.00%\n",
            "conv4_block18_1_conv - Zeros: 40.00%\n",
            "conv4_block18_2_conv - Zeros: 40.00%\n",
            "conv4_block19_1_conv - Zeros: 40.00%\n",
            "conv4_block19_2_conv - Zeros: 40.00%\n",
            "conv4_block20_1_conv - Zeros: 40.00%\n",
            "conv4_block20_2_conv - Zeros: 40.00%\n",
            "conv4_block21_1_conv - Zeros: 40.00%\n",
            "conv4_block21_2_conv - Zeros: 40.00%\n",
            "conv4_block22_1_conv - Zeros: 40.00%\n",
            "conv4_block22_2_conv - Zeros: 40.00%\n",
            "conv4_block23_1_conv - Zeros: 40.00%\n",
            "conv4_block23_2_conv - Zeros: 40.00%\n",
            "conv4_block24_1_conv - Zeros: 40.00%\n",
            "conv4_block24_2_conv - Zeros: 40.00%\n",
            "pool4_conv - Zeros: 40.00%\n",
            "conv5_block1_1_conv - Zeros: 40.00%\n",
            "conv5_block1_2_conv - Zeros: 40.00%\n",
            "conv5_block2_1_conv - Zeros: 40.00%\n",
            "conv5_block2_2_conv - Zeros: 40.00%\n",
            "conv5_block3_1_conv - Zeros: 40.00%\n",
            "conv5_block3_2_conv - Zeros: 40.00%\n",
            "conv5_block4_1_conv - Zeros: 40.00%\n",
            "conv5_block4_2_conv - Zeros: 40.00%\n",
            "conv5_block5_1_conv - Zeros: 40.00%\n",
            "conv5_block5_2_conv - Zeros: 40.00%\n",
            "conv5_block6_1_conv - Zeros: 40.00%\n",
            "conv5_block6_2_conv - Zeros: 40.00%\n",
            "conv5_block7_1_conv - Zeros: 40.00%\n",
            "conv5_block7_2_conv - Zeros: 40.00%\n",
            "conv5_block8_1_conv - Zeros: 40.00%\n",
            "conv5_block8_2_conv - Zeros: 40.00%\n",
            "conv5_block9_1_conv - Zeros: 40.00%\n",
            "conv5_block9_2_conv - Zeros: 40.00%\n",
            "conv5_block10_1_conv - Zeros: 40.00%\n",
            "conv5_block10_2_conv - Zeros: 40.00%\n",
            "conv5_block11_1_conv - Zeros: 40.00%\n",
            "conv5_block11_2_conv - Zeros: 40.00%\n",
            "conv5_block12_1_conv - Zeros: 40.00%\n",
            "conv5_block12_2_conv - Zeros: 40.00%\n",
            "conv5_block13_1_conv - Zeros: 40.00%\n",
            "conv5_block13_2_conv - Zeros: 40.00%\n",
            "conv5_block14_1_conv - Zeros: 40.00%\n",
            "conv5_block14_2_conv - Zeros: 40.00%\n",
            "conv5_block15_1_conv - Zeros: 40.00%\n",
            "conv5_block15_2_conv - Zeros: 40.00%\n",
            "conv5_block16_1_conv - Zeros: 40.00%\n",
            "conv5_block16_2_conv - Zeros: 40.00%\n",
            "dense_3 - Zeros: 40.00%\n",
            "evaluating\n",
            "25/25 [==============================] - 13s 409ms/step - loss: 0.3759 - categorical_accuracy: 0.8976 - top_3_categorical_accuracy: 0.9686 - top_5_categorical_accuracy: 0.9844\n",
            "\n",
            "\n",
            "pruning parameters 50.0%\n",
            "training\n",
            "Epoch 1/10\n",
            "82/82 [==============================] - 161s 2s/step - loss: 1.1811 - categorical_accuracy: 0.6947 - top_3_categorical_accuracy: 0.8660 - top_5_categorical_accuracy: 0.9190 - val_loss: 0.6246 - val_categorical_accuracy: 0.8493 - val_top_3_categorical_accuracy: 0.9384 - val_top_5_categorical_accuracy: 0.9629\n",
            "Epoch 2/10\n",
            "82/82 [==============================] - 120s 1s/step - loss: 1.0501 - categorical_accuracy: 0.7274 - top_3_categorical_accuracy: 0.8873 - top_5_categorical_accuracy: 0.9332 - val_loss: 0.6029 - val_categorical_accuracy: 0.8564 - val_top_3_categorical_accuracy: 0.9321 - val_top_5_categorical_accuracy: 0.9645\n",
            "Epoch 3/10\n",
            "82/82 [==============================] - 120s 1s/step - loss: 1.0055 - categorical_accuracy: 0.7285 - top_3_categorical_accuracy: 0.8865 - top_5_categorical_accuracy: 0.9328 - val_loss: 0.5757 - val_categorical_accuracy: 0.8579 - val_top_3_categorical_accuracy: 0.9400 - val_top_5_categorical_accuracy: 0.9653\n",
            "conv1/conv - Zeros: 50.00%\n",
            "conv2_block1_1_conv - Zeros: 50.00%\n",
            "conv2_block1_2_conv - Zeros: 50.00%\n",
            "conv2_block2_1_conv - Zeros: 50.00%\n",
            "conv2_block2_2_conv - Zeros: 50.00%\n",
            "conv2_block3_1_conv - Zeros: 50.00%\n",
            "conv2_block3_2_conv - Zeros: 50.00%\n",
            "conv2_block4_1_conv - Zeros: 50.00%\n",
            "conv2_block4_2_conv - Zeros: 50.00%\n",
            "conv2_block5_1_conv - Zeros: 50.00%\n",
            "conv2_block5_2_conv - Zeros: 50.00%\n",
            "conv2_block6_1_conv - Zeros: 50.00%\n",
            "conv2_block6_2_conv - Zeros: 50.00%\n",
            "pool2_conv - Zeros: 50.00%\n",
            "conv3_block1_1_conv - Zeros: 50.00%\n",
            "conv3_block1_2_conv - Zeros: 50.00%\n",
            "conv3_block2_1_conv - Zeros: 50.00%\n",
            "conv3_block2_2_conv - Zeros: 50.00%\n",
            "conv3_block3_1_conv - Zeros: 50.00%\n",
            "conv3_block3_2_conv - Zeros: 50.00%\n",
            "conv3_block4_1_conv - Zeros: 50.00%\n",
            "conv3_block4_2_conv - Zeros: 50.00%\n",
            "conv3_block5_1_conv - Zeros: 50.00%\n",
            "conv3_block5_2_conv - Zeros: 50.00%\n",
            "conv3_block6_1_conv - Zeros: 50.00%\n",
            "conv3_block6_2_conv - Zeros: 50.00%\n",
            "conv3_block7_1_conv - Zeros: 50.00%\n",
            "conv3_block7_2_conv - Zeros: 50.00%\n",
            "conv3_block8_1_conv - Zeros: 50.00%\n",
            "conv3_block8_2_conv - Zeros: 50.00%\n",
            "conv3_block9_1_conv - Zeros: 50.00%\n",
            "conv3_block9_2_conv - Zeros: 50.00%\n",
            "conv3_block10_1_conv - Zeros: 50.00%\n",
            "conv3_block10_2_conv - Zeros: 50.00%\n",
            "conv3_block11_1_conv - Zeros: 50.00%\n",
            "conv3_block11_2_conv - Zeros: 50.00%\n",
            "conv3_block12_1_conv - Zeros: 50.00%\n",
            "conv3_block12_2_conv - Zeros: 50.00%\n",
            "pool3_conv - Zeros: 50.00%\n",
            "conv4_block1_1_conv - Zeros: 50.00%\n",
            "conv4_block1_2_conv - Zeros: 50.00%\n",
            "conv4_block2_1_conv - Zeros: 50.00%\n",
            "conv4_block2_2_conv - Zeros: 50.00%\n",
            "conv4_block3_1_conv - Zeros: 50.00%\n",
            "conv4_block3_2_conv - Zeros: 50.00%\n",
            "conv4_block4_1_conv - Zeros: 50.00%\n",
            "conv4_block4_2_conv - Zeros: 50.00%\n",
            "conv4_block5_1_conv - Zeros: 50.00%\n",
            "conv4_block5_2_conv - Zeros: 50.00%\n",
            "conv4_block6_1_conv - Zeros: 50.00%\n",
            "conv4_block6_2_conv - Zeros: 50.00%\n",
            "conv4_block7_1_conv - Zeros: 50.00%\n",
            "conv4_block7_2_conv - Zeros: 50.00%\n",
            "conv4_block8_1_conv - Zeros: 50.00%\n",
            "conv4_block8_2_conv - Zeros: 50.00%\n",
            "conv4_block9_1_conv - Zeros: 50.00%\n",
            "conv4_block9_2_conv - Zeros: 50.00%\n",
            "conv4_block10_1_conv - Zeros: 50.00%\n",
            "conv4_block10_2_conv - Zeros: 50.00%\n",
            "conv4_block11_1_conv - Zeros: 50.00%\n",
            "conv4_block11_2_conv - Zeros: 50.00%\n",
            "conv4_block12_1_conv - Zeros: 50.00%\n",
            "conv4_block12_2_conv - Zeros: 50.00%\n",
            "conv4_block13_1_conv - Zeros: 50.00%\n",
            "conv4_block13_2_conv - Zeros: 50.00%\n",
            "conv4_block14_1_conv - Zeros: 50.00%\n",
            "conv4_block14_2_conv - Zeros: 50.00%\n",
            "conv4_block15_1_conv - Zeros: 50.00%\n",
            "conv4_block15_2_conv - Zeros: 50.00%\n",
            "conv4_block16_1_conv - Zeros: 50.00%\n",
            "conv4_block16_2_conv - Zeros: 50.00%\n",
            "conv4_block17_1_conv - Zeros: 50.00%\n",
            "conv4_block17_2_conv - Zeros: 50.00%\n",
            "conv4_block18_1_conv - Zeros: 50.00%\n",
            "conv4_block18_2_conv - Zeros: 50.00%\n",
            "conv4_block19_1_conv - Zeros: 50.00%\n",
            "conv4_block19_2_conv - Zeros: 50.00%\n",
            "conv4_block20_1_conv - Zeros: 50.00%\n",
            "conv4_block20_2_conv - Zeros: 50.00%\n",
            "conv4_block21_1_conv - Zeros: 50.00%\n",
            "conv4_block21_2_conv - Zeros: 50.00%\n",
            "conv4_block22_1_conv - Zeros: 50.00%\n",
            "conv4_block22_2_conv - Zeros: 50.00%\n",
            "conv4_block23_1_conv - Zeros: 50.00%\n",
            "conv4_block23_2_conv - Zeros: 50.00%\n",
            "conv4_block24_1_conv - Zeros: 50.00%\n",
            "conv4_block24_2_conv - Zeros: 50.00%\n",
            "pool4_conv - Zeros: 50.00%\n",
            "conv5_block1_1_conv - Zeros: 50.00%\n",
            "conv5_block1_2_conv - Zeros: 50.00%\n",
            "conv5_block2_1_conv - Zeros: 50.00%\n",
            "conv5_block2_2_conv - Zeros: 50.00%\n",
            "conv5_block3_1_conv - Zeros: 50.00%\n",
            "conv5_block3_2_conv - Zeros: 50.00%\n",
            "conv5_block4_1_conv - Zeros: 50.00%\n",
            "conv5_block4_2_conv - Zeros: 50.00%\n",
            "conv5_block5_1_conv - Zeros: 50.00%\n",
            "conv5_block5_2_conv - Zeros: 50.00%\n",
            "conv5_block6_1_conv - Zeros: 50.00%\n",
            "conv5_block6_2_conv - Zeros: 50.00%\n",
            "conv5_block7_1_conv - Zeros: 50.00%\n",
            "conv5_block7_2_conv - Zeros: 50.00%\n",
            "conv5_block8_1_conv - Zeros: 50.00%\n",
            "conv5_block8_2_conv - Zeros: 50.00%\n",
            "conv5_block9_1_conv - Zeros: 50.00%\n",
            "conv5_block9_2_conv - Zeros: 50.00%\n",
            "conv5_block10_1_conv - Zeros: 50.00%\n",
            "conv5_block10_2_conv - Zeros: 50.00%\n",
            "conv5_block11_1_conv - Zeros: 50.00%\n",
            "conv5_block11_2_conv - Zeros: 50.00%\n",
            "conv5_block12_1_conv - Zeros: 50.00%\n",
            "conv5_block12_2_conv - Zeros: 50.00%\n",
            "conv5_block13_1_conv - Zeros: 50.00%\n",
            "conv5_block13_2_conv - Zeros: 50.00%\n",
            "conv5_block14_1_conv - Zeros: 50.00%\n",
            "conv5_block14_2_conv - Zeros: 50.00%\n",
            "conv5_block15_1_conv - Zeros: 50.00%\n",
            "conv5_block15_2_conv - Zeros: 50.00%\n",
            "conv5_block16_1_conv - Zeros: 50.00%\n",
            "conv5_block16_2_conv - Zeros: 50.00%\n",
            "dense_3 - Zeros: 50.00%\n",
            "evaluating\n",
            "25/25 [==============================] - 13s 413ms/step - loss: 0.5486 - categorical_accuracy: 0.8611 - top_3_categorical_accuracy: 0.9546 - top_5_categorical_accuracy: 0.9730\n",
            "\n",
            "\n",
            "pruning parameters 60.0%\n",
            "training\n",
            "Epoch 1/10\n",
            "82/82 [==============================] - 161s 1s/step - loss: 2.3501 - categorical_accuracy: 0.4494 - top_3_categorical_accuracy: 0.6694 - top_5_categorical_accuracy: 0.7674 - val_loss: 0.9939 - val_categorical_accuracy: 0.7561 - val_top_3_categorical_accuracy: 0.8911 - val_top_5_categorical_accuracy: 0.9305\n",
            "Epoch 2/10\n",
            "82/82 [==============================] - 119s 1s/step - loss: 1.9895 - categorical_accuracy: 0.5230 - top_3_categorical_accuracy: 0.7386 - top_5_categorical_accuracy: 0.8166 - val_loss: 0.9306 - val_categorical_accuracy: 0.7601 - val_top_3_categorical_accuracy: 0.9021 - val_top_5_categorical_accuracy: 0.9416\n",
            "Epoch 3/10\n",
            "82/82 [==============================] - 117s 1s/step - loss: 1.8651 - categorical_accuracy: 0.5485 - top_3_categorical_accuracy: 0.7588 - top_5_categorical_accuracy: 0.8364 - val_loss: 0.8768 - val_categorical_accuracy: 0.7853 - val_top_3_categorical_accuracy: 0.9061 - val_top_5_categorical_accuracy: 0.9440\n",
            "Epoch 4/10\n",
            "82/82 [==============================] - 114s 1s/step - loss: 1.7714 - categorical_accuracy: 0.5726 - top_3_categorical_accuracy: 0.7680 - top_5_categorical_accuracy: 0.8450 - val_loss: 0.8710 - val_categorical_accuracy: 0.7869 - val_top_3_categorical_accuracy: 0.9053 - val_top_5_categorical_accuracy: 0.9400\n",
            "Epoch 5/10\n",
            "82/82 [==============================] - 110s 1s/step - loss: 1.6455 - categorical_accuracy: 0.5992 - top_3_categorical_accuracy: 0.7808 - top_5_categorical_accuracy: 0.8569 - val_loss: 0.8342 - val_categorical_accuracy: 0.7948 - val_top_3_categorical_accuracy: 0.9155 - val_top_5_categorical_accuracy: 0.9495\n",
            "conv1/conv - Zeros: 60.00%\n",
            "conv2_block1_1_conv - Zeros: 60.00%\n",
            "conv2_block1_2_conv - Zeros: 60.00%\n",
            "conv2_block2_1_conv - Zeros: 60.00%\n",
            "conv2_block2_2_conv - Zeros: 60.00%\n",
            "conv2_block3_1_conv - Zeros: 60.00%\n",
            "conv2_block3_2_conv - Zeros: 60.00%\n",
            "conv2_block4_1_conv - Zeros: 60.00%\n",
            "conv2_block4_2_conv - Zeros: 60.00%\n",
            "conv2_block5_1_conv - Zeros: 60.00%\n",
            "conv2_block5_2_conv - Zeros: 60.00%\n",
            "conv2_block6_1_conv - Zeros: 60.00%\n",
            "conv2_block6_2_conv - Zeros: 60.00%\n",
            "pool2_conv - Zeros: 60.00%\n",
            "conv3_block1_1_conv - Zeros: 60.00%\n",
            "conv3_block1_2_conv - Zeros: 60.00%\n",
            "conv3_block2_1_conv - Zeros: 60.00%\n",
            "conv3_block2_2_conv - Zeros: 60.00%\n",
            "conv3_block3_1_conv - Zeros: 60.00%\n",
            "conv3_block3_2_conv - Zeros: 60.00%\n",
            "conv3_block4_1_conv - Zeros: 60.00%\n",
            "conv3_block4_2_conv - Zeros: 60.00%\n",
            "conv3_block5_1_conv - Zeros: 60.00%\n",
            "conv3_block5_2_conv - Zeros: 60.00%\n",
            "conv3_block6_1_conv - Zeros: 60.00%\n",
            "conv3_block6_2_conv - Zeros: 60.00%\n",
            "conv3_block7_1_conv - Zeros: 60.00%\n",
            "conv3_block7_2_conv - Zeros: 60.00%\n",
            "conv3_block8_1_conv - Zeros: 60.00%\n",
            "conv3_block8_2_conv - Zeros: 60.00%\n",
            "conv3_block9_1_conv - Zeros: 60.00%\n",
            "conv3_block9_2_conv - Zeros: 60.00%\n",
            "conv3_block10_1_conv - Zeros: 60.00%\n",
            "conv3_block10_2_conv - Zeros: 60.00%\n",
            "conv3_block11_1_conv - Zeros: 60.00%\n",
            "conv3_block11_2_conv - Zeros: 60.00%\n",
            "conv3_block12_1_conv - Zeros: 60.00%\n",
            "conv3_block12_2_conv - Zeros: 60.00%\n",
            "pool3_conv - Zeros: 60.00%\n",
            "conv4_block1_1_conv - Zeros: 60.00%\n",
            "conv4_block1_2_conv - Zeros: 60.00%\n",
            "conv4_block2_1_conv - Zeros: 60.00%\n",
            "conv4_block2_2_conv - Zeros: 60.00%\n",
            "conv4_block3_1_conv - Zeros: 60.00%\n",
            "conv4_block3_2_conv - Zeros: 60.00%\n",
            "conv4_block4_1_conv - Zeros: 60.00%\n",
            "conv4_block4_2_conv - Zeros: 60.00%\n",
            "conv4_block5_1_conv - Zeros: 60.00%\n",
            "conv4_block5_2_conv - Zeros: 60.00%\n",
            "conv4_block6_1_conv - Zeros: 60.00%\n",
            "conv4_block6_2_conv - Zeros: 60.00%\n",
            "conv4_block7_1_conv - Zeros: 60.00%\n",
            "conv4_block7_2_conv - Zeros: 60.00%\n",
            "conv4_block8_1_conv - Zeros: 60.00%\n",
            "conv4_block8_2_conv - Zeros: 60.00%\n",
            "conv4_block9_1_conv - Zeros: 60.00%\n",
            "conv4_block9_2_conv - Zeros: 60.00%\n",
            "conv4_block10_1_conv - Zeros: 60.00%\n",
            "conv4_block10_2_conv - Zeros: 60.00%\n",
            "conv4_block11_1_conv - Zeros: 60.00%\n",
            "conv4_block11_2_conv - Zeros: 60.00%\n",
            "conv4_block12_1_conv - Zeros: 60.00%\n",
            "conv4_block12_2_conv - Zeros: 60.00%\n",
            "conv4_block13_1_conv - Zeros: 60.00%\n",
            "conv4_block13_2_conv - Zeros: 60.00%\n",
            "conv4_block14_1_conv - Zeros: 60.00%\n",
            "conv4_block14_2_conv - Zeros: 60.00%\n",
            "conv4_block15_1_conv - Zeros: 60.00%\n",
            "conv4_block15_2_conv - Zeros: 60.00%\n",
            "conv4_block16_1_conv - Zeros: 60.00%\n",
            "conv4_block16_2_conv - Zeros: 60.00%\n",
            "conv4_block17_1_conv - Zeros: 60.00%\n",
            "conv4_block17_2_conv - Zeros: 60.00%\n",
            "conv4_block18_1_conv - Zeros: 60.00%\n",
            "conv4_block18_2_conv - Zeros: 60.00%\n",
            "conv4_block19_1_conv - Zeros: 60.00%\n",
            "conv4_block19_2_conv - Zeros: 60.00%\n",
            "conv4_block20_1_conv - Zeros: 60.00%\n",
            "conv4_block20_2_conv - Zeros: 60.00%\n",
            "conv4_block21_1_conv - Zeros: 60.00%\n",
            "conv4_block21_2_conv - Zeros: 60.00%\n",
            "conv4_block22_1_conv - Zeros: 60.00%\n",
            "conv4_block22_2_conv - Zeros: 60.00%\n",
            "conv4_block23_1_conv - Zeros: 60.00%\n",
            "conv4_block23_2_conv - Zeros: 60.00%\n",
            "conv4_block24_1_conv - Zeros: 60.00%\n",
            "conv4_block24_2_conv - Zeros: 60.00%\n",
            "pool4_conv - Zeros: 60.00%\n",
            "conv5_block1_1_conv - Zeros: 60.00%\n",
            "conv5_block1_2_conv - Zeros: 60.00%\n",
            "conv5_block2_1_conv - Zeros: 60.00%\n",
            "conv5_block2_2_conv - Zeros: 60.00%\n",
            "conv5_block3_1_conv - Zeros: 60.00%\n",
            "conv5_block3_2_conv - Zeros: 60.00%\n",
            "conv5_block4_1_conv - Zeros: 60.00%\n",
            "conv5_block4_2_conv - Zeros: 60.00%\n",
            "conv5_block5_1_conv - Zeros: 60.00%\n",
            "conv5_block5_2_conv - Zeros: 60.00%\n",
            "conv5_block6_1_conv - Zeros: 60.00%\n",
            "conv5_block6_2_conv - Zeros: 60.00%\n",
            "conv5_block7_1_conv - Zeros: 60.00%\n",
            "conv5_block7_2_conv - Zeros: 60.00%\n",
            "conv5_block8_1_conv - Zeros: 60.00%\n",
            "conv5_block8_2_conv - Zeros: 60.00%\n",
            "conv5_block9_1_conv - Zeros: 60.00%\n",
            "conv5_block9_2_conv - Zeros: 60.00%\n",
            "conv5_block10_1_conv - Zeros: 60.00%\n",
            "conv5_block10_2_conv - Zeros: 60.00%\n",
            "conv5_block11_1_conv - Zeros: 60.00%\n",
            "conv5_block11_2_conv - Zeros: 60.00%\n",
            "conv5_block12_1_conv - Zeros: 60.00%\n",
            "conv5_block12_2_conv - Zeros: 60.00%\n",
            "conv5_block13_1_conv - Zeros: 60.00%\n",
            "conv5_block13_2_conv - Zeros: 60.00%\n",
            "conv5_block14_1_conv - Zeros: 60.00%\n",
            "conv5_block14_2_conv - Zeros: 60.00%\n",
            "conv5_block15_1_conv - Zeros: 60.00%\n",
            "conv5_block15_2_conv - Zeros: 60.00%\n",
            "conv5_block16_1_conv - Zeros: 60.00%\n",
            "conv5_block16_2_conv - Zeros: 60.00%\n",
            "dense_3 - Zeros: 60.00%\n",
            "evaluating\n",
            "25/25 [==============================] - 11s 371ms/step - loss: 0.8209 - categorical_accuracy: 0.7743 - top_3_categorical_accuracy: 0.9120 - top_5_categorical_accuracy: 0.9476\n",
            "\n",
            "\n"
          ],
          "name": "stdout"
        }
      ]
    },
    {
      "cell_type": "code",
      "metadata": {
        "colab": {
          "base_uri": "https://localhost:8080/",
          "height": 333
        },
        "id": "EmRQmz3MmRTF",
        "outputId": "aff0d443-3685-48e3-f6c1-b7871874223d"
      },
      "source": [
        "plot_accuracy_sparsity_curve(densenet_pruned_scores, 'DenseNet-121', 'densenet-pruning.eps')"
      ],
      "execution_count": null,
      "outputs": [
        {
          "output_type": "stream",
          "text": [
            "The PostScript backend does not support transparency; partially transparent artists will be rendered opaque.\n",
            "The PostScript backend does not support transparency; partially transparent artists will be rendered opaque.\n"
          ],
          "name": "stderr"
        },
        {
          "output_type": "display_data",
          "data": {
            "image/png": "[encoded data removed]",
            "text/plain": [
              "<Figure size 432x288 with 1 Axes>"
            ]
          },
          "metadata": {
            "tags": [],
            "needs_background": "light"
          }
        }
      ]
    },
    {
      "cell_type": "markdown",
      "metadata": {
        "id": "GR1j2BDbQ9YY"
      },
      "source": [
        "## EfficientNetB0"
      ]
    },
    {
      "cell_type": "code",
      "metadata": {
        "id": "HfZDXCE7eMWT",
        "colab": {
          "base_uri": "https://localhost:8080/"
        },
        "outputId": "efd31186-effd-4ec4-a8b1-efcaca4d70a4"
      },
      "source": [
        "# Load EfficientNet-B0 and the amount of params per layer\n",
        "efficientnet = load_model('efficientnet.h5')\n",
        "efficientnet._name='efficientnet'\n",
        "net='efficientnet'\n",
        "params_per_layer(efficientnet)"
      ],
      "execution_count": null,
      "outputs": [
        {
          "output_type": "stream",
          "text": [
            "                          Total  Total%\n",
            "InputLayer                    0    0.00\n",
            "Rescaling                     0    0.00\n",
            "Normalization                 7    0.00\n",
            "ZeroPadding2D                 0    0.00\n",
            "Conv2D                  3783516   90.51\n",
            "BatchNormalization        84032    2.01\n",
            "Activation                    0    0.00\n",
            "DepthwiseConv2D          182016    4.35\n",
            "GlobalAveragePooling2D        0    0.00\n",
            "Reshape                       0    0.00\n",
            "Multiply                      0    0.00\n",
            "Dropout                       0    0.00\n",
            "Add                           0    0.00\n",
            "Dense                    130662    3.13\n"
          ],
          "name": "stdout"
        }
      ]
    },
    {
      "cell_type": "code",
      "metadata": {
        "id": "wiOjK2E7g0Ta",
        "colab": {
          "base_uri": "https://localhost:8080/"
        },
        "outputId": "3543e092-0c94-4130-d2bd-a3063295cbe4"
      },
      "source": [
        "# Iterative pruning\n",
        "efficientnet_pruned_scores = prune_net(efficientnet,6)"
      ],
      "execution_count": null,
      "outputs": [
        {
          "output_type": "stream",
          "text": [
            "evaluating base\n",
            "25/25 [==============================] - 17s 354ms/step - loss: 0.3530 - categorical_accuracy: 0.9194 - top_3_categorical_accuracy: 0.9750 - top_5_categorical_accuracy: 0.9872\n",
            "stem_conv - Zeros: 1.39%\n",
            "block1a_dwconv - Zeros: 0.35%\n",
            "block1a_se_reduce - Zeros: 0.00%\n",
            "block1a_se_expand - Zeros: 0.00%\n",
            "block1a_project_conv - Zeros: 0.00%\n",
            "block2a_expand_conv - Zeros: 0.00%\n",
            "block2a_dwconv - Zeros: 0.00%\n",
            "block2a_se_reduce - Zeros: 0.00%\n",
            "block2a_se_expand - Zeros: 0.00%\n",
            "block2a_project_conv - Zeros: 0.00%\n",
            "block2b_expand_conv - Zeros: 0.75%\n",
            "block2b_dwconv - Zeros: 0.62%\n",
            "block2b_se_reduce - Zeros: 0.00%\n",
            "block2b_se_expand - Zeros: 0.00%\n",
            "block2b_project_conv - Zeros: 0.00%\n",
            "block3a_expand_conv - Zeros: 0.00%\n",
            "block3a_dwconv - Zeros: 0.00%\n",
            "block3a_se_reduce - Zeros: 0.00%\n",
            "block3a_se_expand - Zeros: 0.00%\n",
            "block3a_project_conv - Zeros: 0.00%\n",
            "block3b_expand_conv - Zeros: 0.00%\n",
            "block3b_dwconv - Zeros: 0.00%\n",
            "block3b_se_reduce - Zeros: 0.00%\n",
            "block3b_se_expand - Zeros: 0.00%\n",
            "block3b_project_conv - Zeros: 0.00%\n",
            "block4a_expand_conv - Zeros: 0.00%\n",
            "block4a_dwconv - Zeros: 0.00%\n",
            "block4a_se_reduce - Zeros: 0.00%\n",
            "block4a_se_expand - Zeros: 0.00%\n",
            "block4a_project_conv - Zeros: 0.00%\n",
            "block4b_expand_conv - Zeros: 0.00%\n",
            "block4b_dwconv - Zeros: 0.00%\n",
            "block4b_se_reduce - Zeros: 0.00%\n",
            "block4b_se_expand - Zeros: 0.00%\n",
            "block4b_project_conv - Zeros: 0.00%\n",
            "block4c_expand_conv - Zeros: 0.00%\n",
            "block4c_dwconv - Zeros: 0.00%\n",
            "block4c_se_reduce - Zeros: 0.00%\n",
            "block4c_se_expand - Zeros: 0.00%\n",
            "block4c_project_conv - Zeros: 0.00%\n",
            "block5a_expand_conv - Zeros: 0.00%\n",
            "block5a_dwconv - Zeros: 0.00%\n",
            "block5a_se_reduce - Zeros: 0.00%\n",
            "block5a_se_expand - Zeros: 0.00%\n",
            "block5a_project_conv - Zeros: 0.00%\n",
            "block5b_expand_conv - Zeros: 0.00%\n",
            "block5b_dwconv - Zeros: 0.00%\n",
            "block5b_se_reduce - Zeros: 0.00%\n",
            "block5b_se_expand - Zeros: 0.00%\n",
            "block5b_project_conv - Zeros: 0.00%\n",
            "block5c_expand_conv - Zeros: 0.00%\n",
            "block5c_dwconv - Zeros: 0.00%\n",
            "block5c_se_reduce - Zeros: 0.00%\n",
            "block5c_se_expand - Zeros: 0.00%\n",
            "block5c_project_conv - Zeros: 0.00%\n",
            "block6a_expand_conv - Zeros: 0.00%\n",
            "block6a_dwconv - Zeros: 0.00%\n",
            "block6a_se_reduce - Zeros: 0.00%\n",
            "block6a_se_expand - Zeros: 0.00%\n",
            "block6a_project_conv - Zeros: 0.00%\n",
            "block6b_expand_conv - Zeros: 0.00%\n",
            "block6b_dwconv - Zeros: 0.00%\n",
            "block6b_se_reduce - Zeros: 0.00%\n",
            "block6b_se_expand - Zeros: 0.00%\n",
            "block6b_project_conv - Zeros: 0.00%\n",
            "block6c_expand_conv - Zeros: 0.00%\n",
            "block6c_dwconv - Zeros: 0.00%\n",
            "block6c_se_reduce - Zeros: 0.00%\n",
            "block6c_se_expand - Zeros: 0.00%\n",
            "block6c_project_conv - Zeros: 0.00%\n",
            "block6d_expand_conv - Zeros: 0.00%\n",
            "block6d_dwconv - Zeros: 0.00%\n",
            "block6d_se_reduce - Zeros: 0.00%\n",
            "block6d_se_expand - Zeros: 0.00%\n",
            "block6d_project_conv - Zeros: 0.00%\n",
            "block7a_expand_conv - Zeros: 0.00%\n",
            "block7a_dwconv - Zeros: 0.00%\n",
            "block7a_se_reduce - Zeros: 0.00%\n",
            "block7a_se_expand - Zeros: 0.00%\n",
            "block7a_project_conv - Zeros: 0.00%\n",
            "top_conv - Zeros: 0.00%\n",
            "dense_4 - Zeros: 0.00%\n",
            "\n",
            "\n",
            "pruning parameters 10.0%\n",
            "training\n",
            "Epoch 1/10\n",
            "82/82 [==============================] - 127s 1s/step - loss: 0.3742 - categorical_accuracy: 0.9274 - top_3_categorical_accuracy: 0.9807 - top_5_categorical_accuracy: 0.9900 - val_loss: 0.3515 - val_categorical_accuracy: 0.9282 - val_top_3_categorical_accuracy: 0.9732 - val_top_5_categorical_accuracy: 0.9842\n",
            "Epoch 2/10\n",
            "82/82 [==============================] - 105s 1s/step - loss: 0.3034 - categorical_accuracy: 0.9332 - top_3_categorical_accuracy: 0.9863 - top_5_categorical_accuracy: 0.9941 - val_loss: 0.3248 - val_categorical_accuracy: 0.9227 - val_top_3_categorical_accuracy: 0.9771 - val_top_5_categorical_accuracy: 0.9874\n",
            "Epoch 3/10\n",
            "82/82 [==============================] - 104s 1s/step - loss: 0.2736 - categorical_accuracy: 0.9396 - top_3_categorical_accuracy: 0.9889 - top_5_categorical_accuracy: 0.9931 - val_loss: 0.3159 - val_categorical_accuracy: 0.9282 - val_top_3_categorical_accuracy: 0.9771 - val_top_5_categorical_accuracy: 0.9858\n",
            "stem_conv - Zeros: 9.95%\n",
            "block1a_dwconv - Zeros: 0.35%\n",
            "block1a_se_reduce - Zeros: 10.16%\n",
            "block1a_se_expand - Zeros: 10.16%\n",
            "block1a_project_conv - Zeros: 9.96%\n",
            "block2a_expand_conv - Zeros: 10.03%\n",
            "block2a_dwconv - Zeros: 0.00%\n",
            "block2a_se_reduce - Zeros: 9.90%\n",
            "block2a_se_expand - Zeros: 9.90%\n",
            "block2a_project_conv - Zeros: 9.98%\n",
            "block2b_expand_conv - Zeros: 10.01%\n",
            "block2b_dwconv - Zeros: 0.62%\n",
            "block2b_se_reduce - Zeros: 9.95%\n",
            "block2b_se_expand - Zeros: 9.95%\n",
            "block2b_project_conv - Zeros: 10.01%\n",
            "block3a_expand_conv - Zeros: 10.01%\n",
            "block3a_dwconv - Zeros: 0.00%\n",
            "block3a_se_reduce - Zeros: 9.95%\n",
            "block3a_se_expand - Zeros: 9.95%\n",
            "block3a_project_conv - Zeros: 10.00%\n",
            "block3b_expand_conv - Zeros: 10.00%\n",
            "block3b_dwconv - Zeros: 0.00%\n",
            "block3b_se_reduce - Zeros: 10.00%\n",
            "block3b_se_expand - Zeros: 10.00%\n",
            "block3b_project_conv - Zeros: 10.00%\n",
            "block4a_expand_conv - Zeros: 10.00%\n",
            "block4a_dwconv - Zeros: 0.00%\n",
            "block4a_se_reduce - Zeros: 10.00%\n",
            "block4a_se_expand - Zeros: 10.00%\n",
            "block4a_project_conv - Zeros: 10.00%\n",
            "block4b_expand_conv - Zeros: 10.00%\n",
            "block4b_dwconv - Zeros: 0.00%\n",
            "block4b_se_reduce - Zeros: 10.00%\n",
            "block4b_se_expand - Zeros: 10.00%\n",
            "block4b_project_conv - Zeros: 10.00%\n",
            "block4c_expand_conv - Zeros: 10.00%\n",
            "block4c_dwconv - Zeros: 0.00%\n",
            "block4c_se_reduce - Zeros: 10.00%\n",
            "block4c_se_expand - Zeros: 10.00%\n",
            "block4c_project_conv - Zeros: 10.00%\n",
            "block5a_expand_conv - Zeros: 10.00%\n",
            "block5a_dwconv - Zeros: 0.00%\n",
            "block5a_se_reduce - Zeros: 10.00%\n",
            "block5a_se_expand - Zeros: 10.00%\n",
            "block5a_project_conv - Zeros: 10.00%\n",
            "block5b_expand_conv - Zeros: 10.00%\n",
            "block5b_dwconv - Zeros: 0.00%\n",
            "block5b_se_reduce - Zeros: 10.00%\n",
            "block5b_se_expand - Zeros: 10.00%\n",
            "block5b_project_conv - Zeros: 10.00%\n",
            "block5c_expand_conv - Zeros: 10.00%\n",
            "block5c_dwconv - Zeros: 0.00%\n",
            "block5c_se_reduce - Zeros: 10.00%\n",
            "block5c_se_expand - Zeros: 10.00%\n",
            "block5c_project_conv - Zeros: 10.00%\n",
            "block6a_expand_conv - Zeros: 10.00%\n",
            "block6a_dwconv - Zeros: 0.00%\n",
            "block6a_se_reduce - Zeros: 10.00%\n",
            "block6a_se_expand - Zeros: 10.00%\n",
            "block6a_project_conv - Zeros: 10.00%\n",
            "block6b_expand_conv - Zeros: 10.00%\n",
            "block6b_dwconv - Zeros: 0.00%\n",
            "block6b_se_reduce - Zeros: 10.00%\n",
            "block6b_se_expand - Zeros: 10.00%\n",
            "block6b_project_conv - Zeros: 10.00%\n",
            "block6c_expand_conv - Zeros: 10.00%\n",
            "block6c_dwconv - Zeros: 0.00%\n",
            "block6c_se_reduce - Zeros: 10.00%\n",
            "block6c_se_expand - Zeros: 10.00%\n",
            "block6c_project_conv - Zeros: 10.00%\n",
            "block6d_expand_conv - Zeros: 10.00%\n",
            "block6d_dwconv - Zeros: 0.00%\n",
            "block6d_se_reduce - Zeros: 10.00%\n",
            "block6d_se_expand - Zeros: 10.00%\n",
            "block6d_project_conv - Zeros: 10.00%\n",
            "block7a_expand_conv - Zeros: 10.00%\n",
            "block7a_dwconv - Zeros: 0.00%\n",
            "block7a_se_reduce - Zeros: 10.00%\n",
            "block7a_se_expand - Zeros: 10.00%\n",
            "block7a_project_conv - Zeros: 10.00%\n",
            "top_conv - Zeros: 10.00%\n",
            "dense_4 - Zeros: 10.00%\n",
            "evaluating\n",
            "25/25 [==============================] - 11s 362ms/step - loss: 0.3125 - categorical_accuracy: 0.9277 - top_3_categorical_accuracy: 0.9798 - top_5_categorical_accuracy: 0.9845\n",
            "\n",
            "\n",
            "pruning parameters 20.0%\n",
            "training\n",
            "Epoch 1/10\n",
            "82/82 [==============================] - 130s 1s/step - loss: 0.3692 - categorical_accuracy: 0.9138 - top_3_categorical_accuracy: 0.9845 - top_5_categorical_accuracy: 0.9925 - val_loss: 0.3549 - val_categorical_accuracy: 0.9203 - val_top_3_categorical_accuracy: 0.9755 - val_top_5_categorical_accuracy: 0.9866\n",
            "Epoch 2/10\n",
            "82/82 [==============================] - 105s 1s/step - loss: 0.3145 - categorical_accuracy: 0.9352 - top_3_categorical_accuracy: 0.9865 - top_5_categorical_accuracy: 0.9925 - val_loss: 0.3466 - val_categorical_accuracy: 0.9227 - val_top_3_categorical_accuracy: 0.9732 - val_top_5_categorical_accuracy: 0.9818\n",
            "Epoch 3/10\n",
            "82/82 [==============================] - 104s 1s/step - loss: 0.2812 - categorical_accuracy: 0.9380 - top_3_categorical_accuracy: 0.9863 - top_5_categorical_accuracy: 0.9935 - val_loss: 0.3358 - val_categorical_accuracy: 0.9282 - val_top_3_categorical_accuracy: 0.9684 - val_top_5_categorical_accuracy: 0.9826\n",
            "stem_conv - Zeros: 20.02%\n",
            "block1a_dwconv - Zeros: 0.35%\n",
            "block1a_se_reduce - Zeros: 19.92%\n",
            "block1a_se_expand - Zeros: 19.92%\n",
            "block1a_project_conv - Zeros: 19.92%\n",
            "block2a_expand_conv - Zeros: 19.99%\n",
            "block2a_dwconv - Zeros: 0.00%\n",
            "block2a_se_reduce - Zeros: 20.05%\n",
            "block2a_se_expand - Zeros: 20.05%\n",
            "block2a_project_conv - Zeros: 20.01%\n",
            "block2b_expand_conv - Zeros: 19.99%\n",
            "block2b_dwconv - Zeros: 0.62%\n",
            "block2b_se_reduce - Zeros: 20.02%\n",
            "block2b_se_expand - Zeros: 20.02%\n",
            "block2b_project_conv - Zeros: 19.99%\n",
            "block3a_expand_conv - Zeros: 19.99%\n",
            "block3a_dwconv - Zeros: 0.00%\n",
            "block3a_se_reduce - Zeros: 20.02%\n",
            "block3a_se_expand - Zeros: 20.02%\n",
            "block3a_project_conv - Zeros: 20.00%\n",
            "block3b_expand_conv - Zeros: 20.00%\n",
            "block3b_dwconv - Zeros: 0.00%\n",
            "block3b_se_reduce - Zeros: 20.00%\n",
            "block3b_se_expand - Zeros: 20.00%\n",
            "block3b_project_conv - Zeros: 20.00%\n",
            "block4a_expand_conv - Zeros: 20.00%\n",
            "block4a_dwconv - Zeros: 0.00%\n",
            "block4a_se_reduce - Zeros: 20.00%\n",
            "block4a_se_expand - Zeros: 20.00%\n",
            "block4a_project_conv - Zeros: 20.00%\n",
            "block4b_expand_conv - Zeros: 20.00%\n",
            "block4b_dwconv - Zeros: 0.00%\n",
            "block4b_se_reduce - Zeros: 20.00%\n",
            "block4b_se_expand - Zeros: 20.00%\n",
            "block4b_project_conv - Zeros: 20.00%\n",
            "block4c_expand_conv - Zeros: 20.00%\n",
            "block4c_dwconv - Zeros: 0.00%\n",
            "block4c_se_reduce - Zeros: 20.00%\n",
            "block4c_se_expand - Zeros: 20.00%\n",
            "block4c_project_conv - Zeros: 20.00%\n",
            "block5a_expand_conv - Zeros: 20.00%\n",
            "block5a_dwconv - Zeros: 0.00%\n",
            "block5a_se_reduce - Zeros: 20.00%\n",
            "block5a_se_expand - Zeros: 20.00%\n",
            "block5a_project_conv - Zeros: 20.00%\n",
            "block5b_expand_conv - Zeros: 20.00%\n",
            "block5b_dwconv - Zeros: 0.00%\n",
            "block5b_se_reduce - Zeros: 20.00%\n",
            "block5b_se_expand - Zeros: 20.00%\n",
            "block5b_project_conv - Zeros: 20.00%\n",
            "block5c_expand_conv - Zeros: 20.00%\n",
            "block5c_dwconv - Zeros: 0.00%\n",
            "block5c_se_reduce - Zeros: 20.00%\n",
            "block5c_se_expand - Zeros: 20.00%\n",
            "block5c_project_conv - Zeros: 20.00%\n",
            "block6a_expand_conv - Zeros: 20.00%\n",
            "block6a_dwconv - Zeros: 0.00%\n",
            "block6a_se_reduce - Zeros: 20.00%\n",
            "block6a_se_expand - Zeros: 20.00%\n",
            "block6a_project_conv - Zeros: 20.00%\n",
            "block6b_expand_conv - Zeros: 20.00%\n",
            "block6b_dwconv - Zeros: 0.00%\n",
            "block6b_se_reduce - Zeros: 20.00%\n",
            "block6b_se_expand - Zeros: 20.00%\n",
            "block6b_project_conv - Zeros: 20.00%\n",
            "block6c_expand_conv - Zeros: 20.00%\n",
            "block6c_dwconv - Zeros: 0.00%\n",
            "block6c_se_reduce - Zeros: 20.00%\n",
            "block6c_se_expand - Zeros: 20.00%\n",
            "block6c_project_conv - Zeros: 20.00%\n",
            "block6d_expand_conv - Zeros: 20.00%\n",
            "block6d_dwconv - Zeros: 0.00%\n",
            "block6d_se_reduce - Zeros: 20.00%\n",
            "block6d_se_expand - Zeros: 20.00%\n",
            "block6d_project_conv - Zeros: 20.00%\n",
            "block7a_expand_conv - Zeros: 20.00%\n",
            "block7a_dwconv - Zeros: 0.00%\n",
            "block7a_se_reduce - Zeros: 20.00%\n",
            "block7a_se_expand - Zeros: 20.00%\n",
            "block7a_project_conv - Zeros: 20.00%\n",
            "top_conv - Zeros: 20.00%\n",
            "dense_4 - Zeros: 20.00%\n",
            "evaluating\n",
            "25/25 [==============================] - 10s 350ms/step - loss: 0.3020 - categorical_accuracy: 0.9258 - top_3_categorical_accuracy: 0.9763 - top_5_categorical_accuracy: 0.9880\n",
            "\n",
            "\n",
            "pruning parameters 30.0%\n",
            "training\n",
            "Epoch 1/10\n",
            "82/82 [==============================] - 124s 1s/step - loss: 0.5299 - categorical_accuracy: 0.8760 - top_3_categorical_accuracy: 0.9662 - top_5_categorical_accuracy: 0.9833 - val_loss: 0.4026 - val_categorical_accuracy: 0.9116 - val_top_3_categorical_accuracy: 0.9653 - val_top_5_categorical_accuracy: 0.9811\n",
            "Epoch 2/10\n",
            "82/82 [==============================] - 104s 1s/step - loss: 0.3728 - categorical_accuracy: 0.9108 - top_3_categorical_accuracy: 0.9816 - top_5_categorical_accuracy: 0.9905 - val_loss: 0.3711 - val_categorical_accuracy: 0.9069 - val_top_3_categorical_accuracy: 0.9661 - val_top_5_categorical_accuracy: 0.9803\n",
            "Epoch 3/10\n",
            "82/82 [==============================] - 105s 1s/step - loss: 0.3459 - categorical_accuracy: 0.9142 - top_3_categorical_accuracy: 0.9817 - top_5_categorical_accuracy: 0.9904 - val_loss: 0.3654 - val_categorical_accuracy: 0.9108 - val_top_3_categorical_accuracy: 0.9676 - val_top_5_categorical_accuracy: 0.9826\n",
            "stem_conv - Zeros: 29.98%\n",
            "block1a_dwconv - Zeros: 0.35%\n",
            "block1a_se_reduce - Zeros: 30.08%\n",
            "block1a_se_expand - Zeros: 30.08%\n",
            "block1a_project_conv - Zeros: 30.08%\n",
            "block2a_expand_conv - Zeros: 30.01%\n",
            "block2a_dwconv - Zeros: 0.00%\n",
            "block2a_se_reduce - Zeros: 29.95%\n",
            "block2a_se_expand - Zeros: 29.95%\n",
            "block2a_project_conv - Zeros: 29.99%\n",
            "block2b_expand_conv - Zeros: 30.01%\n",
            "block2b_dwconv - Zeros: 0.62%\n",
            "block2b_se_reduce - Zeros: 29.98%\n",
            "block2b_se_expand - Zeros: 29.98%\n",
            "block2b_project_conv - Zeros: 30.01%\n",
            "block3a_expand_conv - Zeros: 30.01%\n",
            "block3a_dwconv - Zeros: 0.00%\n",
            "block3a_se_reduce - Zeros: 29.98%\n",
            "block3a_se_expand - Zeros: 29.98%\n",
            "block3a_project_conv - Zeros: 30.00%\n",
            "block3b_expand_conv - Zeros: 30.00%\n",
            "block3b_dwconv - Zeros: 0.00%\n",
            "block3b_se_reduce - Zeros: 30.00%\n",
            "block3b_se_expand - Zeros: 30.00%\n",
            "block3b_project_conv - Zeros: 30.00%\n",
            "block4a_expand_conv - Zeros: 30.00%\n",
            "block4a_dwconv - Zeros: 0.00%\n",
            "block4a_se_reduce - Zeros: 30.00%\n",
            "block4a_se_expand - Zeros: 30.00%\n",
            "block4a_project_conv - Zeros: 30.00%\n",
            "block4b_expand_conv - Zeros: 30.00%\n",
            "block4b_dwconv - Zeros: 0.00%\n",
            "block4b_se_reduce - Zeros: 30.00%\n",
            "block4b_se_expand - Zeros: 30.00%\n",
            "block4b_project_conv - Zeros: 30.00%\n",
            "block4c_expand_conv - Zeros: 30.00%\n",
            "block4c_dwconv - Zeros: 0.00%\n",
            "block4c_se_reduce - Zeros: 30.00%\n",
            "block4c_se_expand - Zeros: 30.00%\n",
            "block4c_project_conv - Zeros: 30.00%\n",
            "block5a_expand_conv - Zeros: 30.00%\n",
            "block5a_dwconv - Zeros: 0.00%\n",
            "block5a_se_reduce - Zeros: 30.00%\n",
            "block5a_se_expand - Zeros: 30.00%\n",
            "block5a_project_conv - Zeros: 30.00%\n",
            "block5b_expand_conv - Zeros: 30.00%\n",
            "block5b_dwconv - Zeros: 0.00%\n",
            "block5b_se_reduce - Zeros: 30.00%\n",
            "block5b_se_expand - Zeros: 30.00%\n",
            "block5b_project_conv - Zeros: 30.00%\n",
            "block5c_expand_conv - Zeros: 30.00%\n",
            "block5c_dwconv - Zeros: 0.00%\n",
            "block5c_se_reduce - Zeros: 30.00%\n",
            "block5c_se_expand - Zeros: 30.00%\n",
            "block5c_project_conv - Zeros: 30.00%\n",
            "block6a_expand_conv - Zeros: 30.00%\n",
            "block6a_dwconv - Zeros: 0.00%\n",
            "block6a_se_reduce - Zeros: 30.00%\n",
            "block6a_se_expand - Zeros: 30.00%\n",
            "block6a_project_conv - Zeros: 30.00%\n",
            "block6b_expand_conv - Zeros: 30.00%\n",
            "block6b_dwconv - Zeros: 0.00%\n",
            "block6b_se_reduce - Zeros: 30.00%\n",
            "block6b_se_expand - Zeros: 30.00%\n",
            "block6b_project_conv - Zeros: 30.00%\n",
            "block6c_expand_conv - Zeros: 30.00%\n",
            "block6c_dwconv - Zeros: 0.00%\n",
            "block6c_se_reduce - Zeros: 30.00%\n",
            "block6c_se_expand - Zeros: 30.00%\n",
            "block6c_project_conv - Zeros: 30.00%\n",
            "block6d_expand_conv - Zeros: 30.00%\n",
            "block6d_dwconv - Zeros: 0.00%\n",
            "block6d_se_reduce - Zeros: 30.00%\n",
            "block6d_se_expand - Zeros: 30.00%\n",
            "block6d_project_conv - Zeros: 30.00%\n",
            "block7a_expand_conv - Zeros: 30.00%\n",
            "block7a_dwconv - Zeros: 0.00%\n",
            "block7a_se_reduce - Zeros: 30.00%\n",
            "block7a_se_expand - Zeros: 30.00%\n",
            "block7a_project_conv - Zeros: 30.00%\n",
            "top_conv - Zeros: 30.00%\n",
            "dense_4 - Zeros: 30.00%\n",
            "evaluating\n",
            "25/25 [==============================] - 10s 355ms/step - loss: 0.3082 - categorical_accuracy: 0.9208 - top_3_categorical_accuracy: 0.9739 - top_5_categorical_accuracy: 0.9885\n",
            "\n",
            "\n",
            "pruning parameters 40.0%\n",
            "training\n",
            "Epoch 1/10\n",
            "82/82 [==============================] - 126s 1s/step - loss: 1.9933 - categorical_accuracy: 0.5271 - top_3_categorical_accuracy: 0.7284 - top_5_categorical_accuracy: 0.8007 - val_loss: 0.9378 - val_categorical_accuracy: 0.7806 - val_top_3_categorical_accuracy: 0.9077 - val_top_5_categorical_accuracy: 0.9376\n",
            "Epoch 2/10\n",
            "82/82 [==============================] - 106s 1s/step - loss: 1.3338 - categorical_accuracy: 0.6745 - top_3_categorical_accuracy: 0.8428 - top_5_categorical_accuracy: 0.8927 - val_loss: 0.7910 - val_categorical_accuracy: 0.8169 - val_top_3_categorical_accuracy: 0.9274 - val_top_5_categorical_accuracy: 0.9550\n",
            "Epoch 3/10\n",
            "82/82 [==============================] - 107s 1s/step - loss: 1.1038 - categorical_accuracy: 0.7295 - top_3_categorical_accuracy: 0.8808 - top_5_categorical_accuracy: 0.9218 - val_loss: 0.7137 - val_categorical_accuracy: 0.8208 - val_top_3_categorical_accuracy: 0.9219 - val_top_5_categorical_accuracy: 0.9566\n",
            "Epoch 4/10\n",
            "82/82 [==============================] - 107s 1s/step - loss: 0.9708 - categorical_accuracy: 0.7684 - top_3_categorical_accuracy: 0.9039 - top_5_categorical_accuracy: 0.9411 - val_loss: 0.6494 - val_categorical_accuracy: 0.8358 - val_top_3_categorical_accuracy: 0.9384 - val_top_5_categorical_accuracy: 0.9629\n",
            "stem_conv - Zeros: 40.05%\n",
            "block1a_dwconv - Zeros: 0.35%\n",
            "block1a_se_reduce - Zeros: 39.84%\n",
            "block1a_se_expand - Zeros: 39.84%\n",
            "block1a_project_conv - Zeros: 40.04%\n",
            "block2a_expand_conv - Zeros: 39.97%\n",
            "block2a_dwconv - Zeros: 0.00%\n",
            "block2a_se_reduce - Zeros: 40.10%\n",
            "block2a_se_expand - Zeros: 40.10%\n",
            "block2a_project_conv - Zeros: 40.02%\n",
            "block2b_expand_conv - Zeros: 39.99%\n",
            "block2b_dwconv - Zeros: 0.62%\n",
            "block2b_se_reduce - Zeros: 40.05%\n",
            "block2b_se_expand - Zeros: 40.05%\n",
            "block2b_project_conv - Zeros: 39.99%\n",
            "block3a_expand_conv - Zeros: 39.99%\n",
            "block3a_dwconv - Zeros: 0.00%\n",
            "block3a_se_reduce - Zeros: 40.05%\n",
            "block3a_se_expand - Zeros: 40.05%\n",
            "block3a_project_conv - Zeros: 40.00%\n",
            "block3b_expand_conv - Zeros: 40.00%\n",
            "block3b_dwconv - Zeros: 0.00%\n",
            "block3b_se_reduce - Zeros: 40.00%\n",
            "block3b_se_expand - Zeros: 40.00%\n",
            "block3b_project_conv - Zeros: 40.00%\n",
            "block4a_expand_conv - Zeros: 40.00%\n",
            "block4a_dwconv - Zeros: 0.00%\n",
            "block4a_se_reduce - Zeros: 40.00%\n",
            "block4a_se_expand - Zeros: 40.00%\n",
            "block4a_project_conv - Zeros: 40.00%\n",
            "block4b_expand_conv - Zeros: 40.00%\n",
            "block4b_dwconv - Zeros: 0.00%\n",
            "block4b_se_reduce - Zeros: 40.00%\n",
            "block4b_se_expand - Zeros: 40.00%\n",
            "block4b_project_conv - Zeros: 40.00%\n",
            "block4c_expand_conv - Zeros: 40.00%\n",
            "block4c_dwconv - Zeros: 0.00%\n",
            "block4c_se_reduce - Zeros: 40.00%\n",
            "block4c_se_expand - Zeros: 40.00%\n",
            "block4c_project_conv - Zeros: 40.00%\n",
            "block5a_expand_conv - Zeros: 40.00%\n",
            "block5a_dwconv - Zeros: 0.00%\n",
            "block5a_se_reduce - Zeros: 40.00%\n",
            "block5a_se_expand - Zeros: 40.00%\n",
            "block5a_project_conv - Zeros: 40.00%\n",
            "block5b_expand_conv - Zeros: 40.00%\n",
            "block5b_dwconv - Zeros: 0.00%\n",
            "block5b_se_reduce - Zeros: 40.00%\n",
            "block5b_se_expand - Zeros: 40.00%\n",
            "block5b_project_conv - Zeros: 40.00%\n",
            "block5c_expand_conv - Zeros: 40.00%\n",
            "block5c_dwconv - Zeros: 0.00%\n",
            "block5c_se_reduce - Zeros: 40.00%\n",
            "block5c_se_expand - Zeros: 40.00%\n",
            "block5c_project_conv - Zeros: 40.00%\n",
            "block6a_expand_conv - Zeros: 40.00%\n",
            "block6a_dwconv - Zeros: 0.00%\n",
            "block6a_se_reduce - Zeros: 40.00%\n",
            "block6a_se_expand - Zeros: 40.00%\n",
            "block6a_project_conv - Zeros: 40.00%\n",
            "block6b_expand_conv - Zeros: 40.00%\n",
            "block6b_dwconv - Zeros: 0.00%\n",
            "block6b_se_reduce - Zeros: 40.00%\n",
            "block6b_se_expand - Zeros: 40.00%\n",
            "block6b_project_conv - Zeros: 40.00%\n",
            "block6c_expand_conv - Zeros: 40.00%\n",
            "block6c_dwconv - Zeros: 0.00%\n",
            "block6c_se_reduce - Zeros: 40.00%\n",
            "block6c_se_expand - Zeros: 40.00%\n",
            "block6c_project_conv - Zeros: 40.00%\n",
            "block6d_expand_conv - Zeros: 40.00%\n",
            "block6d_dwconv - Zeros: 0.00%\n",
            "block6d_se_reduce - Zeros: 40.00%\n",
            "block6d_se_expand - Zeros: 40.00%\n",
            "block6d_project_conv - Zeros: 40.00%\n",
            "block7a_expand_conv - Zeros: 40.00%\n",
            "block7a_dwconv - Zeros: 0.00%\n",
            "block7a_se_reduce - Zeros: 40.00%\n",
            "block7a_se_expand - Zeros: 40.00%\n",
            "block7a_project_conv - Zeros: 40.00%\n",
            "top_conv - Zeros: 40.00%\n",
            "dense_4 - Zeros: 40.00%\n",
            "evaluating\n",
            "25/25 [==============================] - 10s 356ms/step - loss: 0.7620 - categorical_accuracy: 0.8207 - top_3_categorical_accuracy: 0.9363 - top_5_categorical_accuracy: 0.9616\n",
            "\n",
            "\n",
            "pruning parameters 50.0%\n",
            "training\n",
            "Epoch 1/10\n",
            "82/82 [==============================] - 125s 1s/step - loss: 2.6973 - categorical_accuracy: 0.3902 - top_3_categorical_accuracy: 0.5935 - top_5_categorical_accuracy: 0.6729 - val_loss: 1.4652 - val_categorical_accuracy: 0.6788 - val_top_3_categorical_accuracy: 0.8327 - val_top_5_categorical_accuracy: 0.8785\n",
            "Epoch 2/10\n",
            "82/82 [==============================] - 102s 1s/step - loss: 2.0420 - categorical_accuracy: 0.5126 - top_3_categorical_accuracy: 0.7057 - top_5_categorical_accuracy: 0.7845 - val_loss: 1.2437 - val_categorical_accuracy: 0.7245 - val_top_3_categorical_accuracy: 0.8753 - val_top_5_categorical_accuracy: 0.9148\n",
            "Epoch 3/10\n",
            "82/82 [==============================] - 102s 1s/step - loss: 1.7425 - categorical_accuracy: 0.5923 - top_3_categorical_accuracy: 0.7711 - top_5_categorical_accuracy: 0.8366 - val_loss: 1.1255 - val_categorical_accuracy: 0.7364 - val_top_3_categorical_accuracy: 0.8856 - val_top_5_categorical_accuracy: 0.9274\n",
            "Epoch 4/10\n",
            "82/82 [==============================] - 102s 1s/step - loss: 1.6424 - categorical_accuracy: 0.6142 - top_3_categorical_accuracy: 0.7908 - top_5_categorical_accuracy: 0.8541 - val_loss: 1.0194 - val_categorical_accuracy: 0.7727 - val_top_3_categorical_accuracy: 0.8942 - val_top_5_categorical_accuracy: 0.9345\n",
            "Epoch 5/10\n",
            "82/82 [==============================] - 102s 1s/step - loss: 1.5128 - categorical_accuracy: 0.6329 - top_3_categorical_accuracy: 0.8073 - top_5_categorical_accuracy: 0.8659 - val_loss: 0.9825 - val_categorical_accuracy: 0.7593 - val_top_3_categorical_accuracy: 0.8998 - val_top_5_categorical_accuracy: 0.9416\n",
            "Epoch 6/10\n",
            "82/82 [==============================] - 102s 1s/step - loss: 1.3967 - categorical_accuracy: 0.6626 - top_3_categorical_accuracy: 0.8292 - top_5_categorical_accuracy: 0.8925 - val_loss: 0.9013 - val_categorical_accuracy: 0.7830 - val_top_3_categorical_accuracy: 0.9092 - val_top_5_categorical_accuracy: 0.9495\n",
            "stem_conv - Zeros: 50.00%\n",
            "block1a_dwconv - Zeros: 0.35%\n",
            "block1a_se_reduce - Zeros: 50.00%\n",
            "block1a_se_expand - Zeros: 50.00%\n",
            "block1a_project_conv - Zeros: 50.00%\n",
            "block2a_expand_conv - Zeros: 50.00%\n",
            "block2a_dwconv - Zeros: 0.00%\n",
            "block2a_se_reduce - Zeros: 50.00%\n",
            "block2a_se_expand - Zeros: 50.00%\n",
            "block2a_project_conv - Zeros: 50.00%\n",
            "block2b_expand_conv - Zeros: 50.00%\n",
            "block2b_dwconv - Zeros: 0.62%\n",
            "block2b_se_reduce - Zeros: 50.00%\n",
            "block2b_se_expand - Zeros: 50.00%\n",
            "block2b_project_conv - Zeros: 50.00%\n",
            "block3a_expand_conv - Zeros: 50.00%\n",
            "block3a_dwconv - Zeros: 0.00%\n",
            "block3a_se_reduce - Zeros: 50.00%\n",
            "block3a_se_expand - Zeros: 50.00%\n",
            "block3a_project_conv - Zeros: 50.00%\n",
            "block3b_expand_conv - Zeros: 50.00%\n",
            "block3b_dwconv - Zeros: 0.00%\n",
            "block3b_se_reduce - Zeros: 50.00%\n",
            "block3b_se_expand - Zeros: 50.00%\n",
            "block3b_project_conv - Zeros: 50.00%\n",
            "block4a_expand_conv - Zeros: 50.00%\n",
            "block4a_dwconv - Zeros: 0.00%\n",
            "block4a_se_reduce - Zeros: 50.00%\n",
            "block4a_se_expand - Zeros: 50.00%\n",
            "block4a_project_conv - Zeros: 50.00%\n",
            "block4b_expand_conv - Zeros: 50.00%\n",
            "block4b_dwconv - Zeros: 0.00%\n",
            "block4b_se_reduce - Zeros: 50.00%\n",
            "block4b_se_expand - Zeros: 50.00%\n",
            "block4b_project_conv - Zeros: 50.00%\n",
            "block4c_expand_conv - Zeros: 50.00%\n",
            "block4c_dwconv - Zeros: 0.00%\n",
            "block4c_se_reduce - Zeros: 50.00%\n",
            "block4c_se_expand - Zeros: 50.00%\n",
            "block4c_project_conv - Zeros: 50.00%\n",
            "block5a_expand_conv - Zeros: 50.00%\n",
            "block5a_dwconv - Zeros: 0.00%\n",
            "block5a_se_reduce - Zeros: 50.00%\n",
            "block5a_se_expand - Zeros: 50.00%\n",
            "block5a_project_conv - Zeros: 50.00%\n",
            "block5b_expand_conv - Zeros: 50.00%\n",
            "block5b_dwconv - Zeros: 0.00%\n",
            "block5b_se_reduce - Zeros: 50.00%\n",
            "block5b_se_expand - Zeros: 50.00%\n",
            "block5b_project_conv - Zeros: 50.00%\n",
            "block5c_expand_conv - Zeros: 50.00%\n",
            "block5c_dwconv - Zeros: 0.00%\n",
            "block5c_se_reduce - Zeros: 50.00%\n",
            "block5c_se_expand - Zeros: 50.00%\n",
            "block5c_project_conv - Zeros: 50.00%\n",
            "block6a_expand_conv - Zeros: 50.00%\n",
            "block6a_dwconv - Zeros: 0.00%\n",
            "block6a_se_reduce - Zeros: 50.00%\n",
            "block6a_se_expand - Zeros: 50.00%\n",
            "block6a_project_conv - Zeros: 50.00%\n",
            "block6b_expand_conv - Zeros: 50.00%\n",
            "block6b_dwconv - Zeros: 0.00%\n",
            "block6b_se_reduce - Zeros: 50.00%\n",
            "block6b_se_expand - Zeros: 50.00%\n",
            "block6b_project_conv - Zeros: 50.00%\n",
            "block6c_expand_conv - Zeros: 50.00%\n",
            "block6c_dwconv - Zeros: 0.00%\n",
            "block6c_se_reduce - Zeros: 50.00%\n",
            "block6c_se_expand - Zeros: 50.00%\n",
            "block6c_project_conv - Zeros: 50.00%\n",
            "block6d_expand_conv - Zeros: 50.00%\n",
            "block6d_dwconv - Zeros: 0.00%\n",
            "block6d_se_reduce - Zeros: 50.00%\n",
            "block6d_se_expand - Zeros: 50.00%\n",
            "block6d_project_conv - Zeros: 50.00%\n",
            "block7a_expand_conv - Zeros: 50.00%\n",
            "block7a_dwconv - Zeros: 0.00%\n",
            "block7a_se_reduce - Zeros: 50.00%\n",
            "block7a_se_expand - Zeros: 50.00%\n",
            "block7a_project_conv - Zeros: 50.00%\n",
            "top_conv - Zeros: 50.00%\n",
            "dense_4 - Zeros: 50.00%\n",
            "evaluating\n",
            "25/25 [==============================] - 10s 352ms/step - loss: 0.9431 - categorical_accuracy: 0.7670 - top_3_categorical_accuracy: 0.8994 - top_5_categorical_accuracy: 0.9380\n",
            "\n",
            "\n",
            "pruning parameters 60.0%\n",
            "training\n",
            "Epoch 1/10\n",
            "82/82 [==============================] - 124s 1s/step - loss: 5.6972 - categorical_accuracy: 0.0177 - top_3_categorical_accuracy: 0.0568 - top_5_categorical_accuracy: 0.0904 - val_loss: 4.3213 - val_categorical_accuracy: 0.0734 - val_top_3_categorical_accuracy: 0.1452 - val_top_5_categorical_accuracy: 0.2099\n",
            "Epoch 2/10\n",
            "82/82 [==============================] - 102s 1s/step - loss: 5.1627 - categorical_accuracy: 0.0380 - top_3_categorical_accuracy: 0.0918 - top_5_categorical_accuracy: 0.1345 - val_loss: 4.2144 - val_categorical_accuracy: 0.0655 - val_top_3_categorical_accuracy: 0.1800 - val_top_5_categorical_accuracy: 0.2439\n",
            "Epoch 3/10\n",
            "82/82 [==============================] - 102s 1s/step - loss: 5.0289 - categorical_accuracy: 0.0462 - top_3_categorical_accuracy: 0.1126 - top_5_categorical_accuracy: 0.1598 - val_loss: 4.1385 - val_categorical_accuracy: 0.0813 - val_top_3_categorical_accuracy: 0.2210 - val_top_5_categorical_accuracy: 0.2983\n",
            "stem_conv - Zeros: 59.95%\n",
            "block1a_dwconv - Zeros: 0.35%\n",
            "block1a_se_reduce - Zeros: 60.16%\n",
            "block1a_se_expand - Zeros: 60.16%\n",
            "block1a_project_conv - Zeros: 59.96%\n",
            "block2a_expand_conv - Zeros: 60.03%\n",
            "block2a_dwconv - Zeros: 0.00%\n",
            "block2a_se_reduce - Zeros: 59.90%\n",
            "block2a_se_expand - Zeros: 59.90%\n",
            "block2a_project_conv - Zeros: 59.98%\n",
            "block2b_expand_conv - Zeros: 60.01%\n",
            "block2b_dwconv - Zeros: 0.62%\n",
            "block2b_se_reduce - Zeros: 59.95%\n",
            "block2b_se_expand - Zeros: 59.95%\n",
            "block2b_project_conv - Zeros: 60.01%\n",
            "block3a_expand_conv - Zeros: 60.01%\n",
            "block3a_dwconv - Zeros: 0.00%\n",
            "block3a_se_reduce - Zeros: 59.95%\n",
            "block3a_se_expand - Zeros: 59.95%\n",
            "block3a_project_conv - Zeros: 60.00%\n",
            "block3b_expand_conv - Zeros: 60.00%\n",
            "block3b_dwconv - Zeros: 0.00%\n",
            "block3b_se_reduce - Zeros: 60.00%\n",
            "block3b_se_expand - Zeros: 60.00%\n",
            "block3b_project_conv - Zeros: 60.00%\n",
            "block4a_expand_conv - Zeros: 60.00%\n",
            "block4a_dwconv - Zeros: 0.00%\n",
            "block4a_se_reduce - Zeros: 60.00%\n",
            "block4a_se_expand - Zeros: 60.00%\n",
            "block4a_project_conv - Zeros: 60.00%\n",
            "block4b_expand_conv - Zeros: 60.00%\n",
            "block4b_dwconv - Zeros: 0.00%\n",
            "block4b_se_reduce - Zeros: 60.00%\n",
            "block4b_se_expand - Zeros: 60.00%\n",
            "block4b_project_conv - Zeros: 60.00%\n",
            "block4c_expand_conv - Zeros: 60.00%\n",
            "block4c_dwconv - Zeros: 0.00%\n",
            "block4c_se_reduce - Zeros: 60.00%\n",
            "block4c_se_expand - Zeros: 60.00%\n",
            "block4c_project_conv - Zeros: 60.00%\n",
            "block5a_expand_conv - Zeros: 60.00%\n",
            "block5a_dwconv - Zeros: 0.00%\n",
            "block5a_se_reduce - Zeros: 60.00%\n",
            "block5a_se_expand - Zeros: 60.00%\n",
            "block5a_project_conv - Zeros: 60.00%\n",
            "block5b_expand_conv - Zeros: 60.00%\n",
            "block5b_dwconv - Zeros: 0.00%\n",
            "block5b_se_reduce - Zeros: 60.00%\n",
            "block5b_se_expand - Zeros: 60.00%\n",
            "block5b_project_conv - Zeros: 60.00%\n",
            "block5c_expand_conv - Zeros: 60.00%\n",
            "block5c_dwconv - Zeros: 0.00%\n",
            "block5c_se_reduce - Zeros: 60.00%\n",
            "block5c_se_expand - Zeros: 60.00%\n",
            "block5c_project_conv - Zeros: 60.00%\n",
            "block6a_expand_conv - Zeros: 60.00%\n",
            "block6a_dwconv - Zeros: 0.00%\n",
            "block6a_se_reduce - Zeros: 60.00%\n",
            "block6a_se_expand - Zeros: 60.00%\n",
            "block6a_project_conv - Zeros: 60.00%\n",
            "block6b_expand_conv - Zeros: 60.00%\n",
            "block6b_dwconv - Zeros: 0.00%\n",
            "block6b_se_reduce - Zeros: 60.00%\n",
            "block6b_se_expand - Zeros: 60.00%\n",
            "block6b_project_conv - Zeros: 60.00%\n",
            "block6c_expand_conv - Zeros: 60.00%\n",
            "block6c_dwconv - Zeros: 0.00%\n",
            "block6c_se_reduce - Zeros: 60.00%\n",
            "block6c_se_expand - Zeros: 60.00%\n",
            "block6c_project_conv - Zeros: 60.00%\n",
            "block6d_expand_conv - Zeros: 60.00%\n",
            "block6d_dwconv - Zeros: 0.00%\n",
            "block6d_se_reduce - Zeros: 60.00%\n",
            "block6d_se_expand - Zeros: 60.00%\n",
            "block6d_project_conv - Zeros: 60.00%\n",
            "block7a_expand_conv - Zeros: 60.00%\n",
            "block7a_dwconv - Zeros: 0.00%\n",
            "block7a_se_reduce - Zeros: 60.00%\n",
            "block7a_se_expand - Zeros: 60.00%\n",
            "block7a_project_conv - Zeros: 60.00%\n",
            "top_conv - Zeros: 60.00%\n",
            "dense_4 - Zeros: 60.00%\n",
            "evaluating\n",
            "25/25 [==============================] - 10s 352ms/step - loss: 4.2650 - categorical_accuracy: 0.0911 - top_3_categorical_accuracy: 0.1788 - top_5_categorical_accuracy: 0.2307\n",
            "\n",
            "\n"
          ],
          "name": "stdout"
        }
      ]
    },
    {
      "cell_type": "code",
      "metadata": {
        "id": "UWlRc2wc3o86",
        "colab": {
          "base_uri": "https://localhost:8080/",
          "height": 333
        },
        "outputId": "bb830219-a2b0-4a24-e853-c47c8317b72f"
      },
      "source": [
        "plot_accuracy_sparsity_curve(efficientnet_pruned_scores, 'EfficientNet-B0', 'efficientnet-pruning.eps')"
      ],
      "execution_count": null,
      "outputs": [
        {
          "output_type": "stream",
          "text": [
            "The PostScript backend does not support transparency; partially transparent artists will be rendered opaque.\n",
            "The PostScript backend does not support transparency; partially transparent artists will be rendered opaque.\n"
          ],
          "name": "stderr"
        },
        {
          "output_type": "display_data",
          "data": {
            "image/png": "[encoded data removed]",
            "text/plain": [
              "<Figure size 432x288 with 1 Axes>"
            ]
          },
          "metadata": {
            "tags": [],
            "needs_background": "light"
          }
        }
      ]
    },
    {
      "cell_type": "markdown",
      "metadata": {
        "id": "k8aZpZLPRDHy"
      },
      "source": [
        "#Quantization"
      ]
    },
    {
      "cell_type": "code",
      "metadata": {
        "id": "aCnwJRrfhda9"
      },
      "source": [
        "MB = 1000000"
      ],
      "execution_count": null,
      "outputs": []
    },
    {
      "cell_type": "markdown",
      "metadata": {
        "id": "aIXkIg4vRL6d"
      },
      "source": [
        "## MobileNet V2"
      ]
    },
    {
      "cell_type": "code",
      "metadata": {
        "id": "p8L7Y8StE9MS"
      },
      "source": [
        "# Load pruned MobileNetV2 and set global variable for modified_preprocess_function\r\n",
        "net='mobilenet'\r\n",
        "mobilenet = load_model('mobilenet20.h5')"
      ],
      "execution_count": null,
      "outputs": []
    },
    {
      "cell_type": "code",
      "metadata": {
        "colab": {
          "base_uri": "https://localhost:8080/"
        },
        "id": "YJvti9wnSNbV",
        "outputId": "375af18c-5e1a-42e7-e61b-370d2be5f586"
      },
      "source": [
        "# TFlite without quantization\n",
        "model_to_TFlite_float32(mobilenet,'/content/mobilenet.tflite')\n",
        "size_mobilenet=os.stat('/content/mobilenet.tflite').st_size/MB\n",
        "print(size_mobilenet)"
      ],
      "execution_count": null,
      "outputs": [
        {
          "output_type": "stream",
          "text": [
            "INFO:tensorflow:Assets written to: /tmp/tmpjjy9e4ec/assets\n"
          ],
          "name": "stdout"
        },
        {
          "output_type": "stream",
          "text": [
            "INFO:tensorflow:Assets written to: /tmp/tmpjjy9e4ec/assets\n"
          ],
          "name": "stderr"
        },
        {
          "output_type": "stream",
          "text": [
            "3.269356\n"
          ],
          "name": "stdout"
        }
      ]
    },
    {
      "cell_type": "code",
      "metadata": {
        "colab": {
          "base_uri": "https://localhost:8080/"
        },
        "id": "BxVGFKxA2ERD",
        "outputId": "34e1d0fd-b6c9-492a-fd14-826997cc9ab5"
      },
      "source": [
        "# TFlite with float16 quantization\n",
        "model_to_TFlite_float16(mobilenet,'/content/mobilenet_float16.tflite')\n",
        "size_mobilenet_float16=os.stat('/content/mobilenet_float16.tflite').st_size/MB\n",
        "print(size_mobilenet_float16)"
      ],
      "execution_count": null,
      "outputs": [
        {
          "output_type": "stream",
          "text": [
            "INFO:tensorflow:Assets written to: /tmp/tmp6o8wmuee/assets\n"
          ],
          "name": "stdout"
        },
        {
          "output_type": "stream",
          "text": [
            "INFO:tensorflow:Assets written to: /tmp/tmp6o8wmuee/assets\n"
          ],
          "name": "stderr"
        },
        {
          "output_type": "stream",
          "text": [
            "1.668464\n"
          ],
          "name": "stdout"
        }
      ]
    },
    {
      "cell_type": "code",
      "metadata": {
        "colab": {
          "base_uri": "https://localhost:8080/"
        },
        "id": "IZnTVu73lGZs",
        "outputId": "4f2311e0-6f7b-4102-fd7a-8bc10d5ce480"
      },
      "source": [
        "# TFlite with dynamic range quantization\r\n",
        "model_to_TFlite_dynamic(mobilenet,'/content/mobilenet_dynamic.tflite')\r\n",
        "size_mobilenet_tflite_dynamic=os.stat('/content/mobilenet_dynamic.tflite').st_size/MB\r\n",
        "print(size_mobilenet_tflite_dynamic)"
      ],
      "execution_count": null,
      "outputs": [
        {
          "output_type": "stream",
          "text": [
            "INFO:tensorflow:Assets written to: /tmp/tmptv5x1y74/assets\n"
          ],
          "name": "stdout"
        },
        {
          "output_type": "stream",
          "text": [
            "INFO:tensorflow:Assets written to: /tmp/tmptv5x1y74/assets\n"
          ],
          "name": "stderr"
        },
        {
          "output_type": "stream",
          "text": [
            "1.066128\n"
          ],
          "name": "stdout"
        }
      ]
    },
    {
      "cell_type": "code",
      "metadata": {
        "colab": {
          "base_uri": "https://localhost:8080/",
          "height": 168,
          "referenced_widgets": [
            "163302feab2548d5b107cb610ca98cb3",
            "03d5a7fd8b9b44ed874454e18d6c117f",
            "2c79539032124f0d8f4573fb6f59a4b2",
            "081b9e061981433788c1daba55961ca5",
            "7196a09b340845cf9f9cb85670333fed",
            "07b5ed5db532443f99f0de231f6cd831",
            "49104d07f06a439ca15586f65ae7efb0",
            "5160940e19194d409600b029a8f76509"
          ]
        },
        "id": "xy_RleRtYfx0",
        "outputId": "f0169296-2bf8-4654-8066-b630ca251365"
      },
      "source": [
        "# TFlite without quantization performance\n",
        "top1_mn, top3_mn, top5_mn, avg_time = tflite_performance(\"/content/mobilenet.tflite\", test, modified_preprocess)\n",
        "\n",
        "print(top1_mn)\n",
        "print(top3_mn)\n",
        "print(top5_mn)\n",
        "print(avg_time)"
      ],
      "execution_count": null,
      "outputs": [
        {
          "output_type": "stream",
          "text": [
            "Interpreter allocate...\n",
            "Start evaluation...\n"
          ],
          "name": "stdout"
        },
        {
          "output_type": "display_data",
          "data": {
            "application/vnd.jupyter.widget-view+json": {
              "model_id": "163302feab2548d5b107cb610ca98cb3",
              "version_minor": 0,
              "version_major": 2
            },
            "text/plain": [
              "HBox(children=(FloatProgress(value=0.0, max=1638.0), HTML(value='')))"
            ]
          },
          "metadata": {
            "tags": []
          }
        },
        {
          "output_type": "stream",
          "text": [
            "\n",
            "0.894993894993895\n",
            "0.960927960927961\n",
            "0.9755799755799756\n",
            "0.010584481178768097\n"
          ],
          "name": "stdout"
        }
      ]
    },
    {
      "cell_type": "code",
      "metadata": {
        "colab": {
          "base_uri": "https://localhost:8080/",
          "height": 168,
          "referenced_widgets": [
            "3045395a873045ed9c21ccf722ad90f9",
            "c6a1ccf1bca949259e4e8cbd06f885c8",
            "62495f2063534d21b1f2529eb6952c42",
            "611ecd4f2e2d4156adc39a85c98b8f02",
            "fa1965b7971f4a92b24bcbef487ee7e9",
            "62c5c3a1329f4eadbb514cbe0863c3d2",
            "45f1e4af8ddc4f59902d837792d0ef5c",
            "164c4048b96c4e4aa00150cf6400860d"
          ]
        },
        "id": "wPhdhVJXleOm",
        "outputId": "f47a83cd-047f-4bfb-bc9d-c9cb7954f1f0"
      },
      "source": [
        "# TFlite with float16 quantization performance\r\n",
        "top1_mn, top3_mn, top5_mn, avg_time = tflite_performance(\"/content/mobilenet_float16.tflite\", test, modified_preprocess)\r\n",
        "\r\n",
        "print(top1_mn)\r\n",
        "print(top3_mn)\r\n",
        "print(top5_mn)\r\n",
        "print(avg_time)"
      ],
      "execution_count": null,
      "outputs": [
        {
          "output_type": "stream",
          "text": [
            "Interpreter allocate...\n",
            "Start evaluation...\n"
          ],
          "name": "stdout"
        },
        {
          "output_type": "display_data",
          "data": {
            "application/vnd.jupyter.widget-view+json": {
              "model_id": "3045395a873045ed9c21ccf722ad90f9",
              "version_minor": 0,
              "version_major": 2
            },
            "text/plain": [
              "HBox(children=(FloatProgress(value=0.0, max=1638.0), HTML(value='')))"
            ]
          },
          "metadata": {
            "tags": []
          }
        },
        {
          "output_type": "stream",
          "text": [
            "\n",
            "0.894993894993895\n",
            "0.9615384615384616\n",
            "0.9755799755799756\n",
            "0.010403180005931737\n"
          ],
          "name": "stdout"
        }
      ]
    },
    {
      "cell_type": "code",
      "metadata": {
        "colab": {
          "base_uri": "https://localhost:8080/",
          "height": 168,
          "referenced_widgets": [
            "4b5561d60a7842359479c4f3ec8dbdc7",
            "a459c3bc1fd640afa9fa342d849992f9",
            "4f4d34ece578491a8e8506ab4706b7e9",
            "85e7d65c846e4c97afb71b9dd63ee12a",
            "0bcaaefcc5ee4db589f78eef69545213",
            "93bca46b5add4693b9dcad27f111ec4d",
            "32be4aa575684b198bf8eb67cef8937d",
            "24910768a92241129db213bb2e974d2d"
          ]
        },
        "id": "oHaPw1CB23aA",
        "outputId": "27e00bb5-9a25-4f23-abad-52d1df1bd9a4"
      },
      "source": [
        "# TFlite with dynamic range quantization performance\n",
        "top1_mn_q, top3_mn_q, top5_mn_q, avg_time = tflite_performance(\"/content/mobilenet_dynamic.tflite\", test, modified_preprocess)\n",
        "\n",
        "print(top1_mn_q)\n",
        "print(top3_mn_q)\n",
        "print(top5_mn_q)\n",
        "print(avg_time)"
      ],
      "execution_count": null,
      "outputs": [
        {
          "output_type": "stream",
          "text": [
            "Interpreter allocate...\n",
            "Start evaluation...\n"
          ],
          "name": "stdout"
        },
        {
          "output_type": "display_data",
          "data": {
            "application/vnd.jupyter.widget-view+json": {
              "model_id": "4b5561d60a7842359479c4f3ec8dbdc7",
              "version_minor": 0,
              "version_major": 2
            },
            "text/plain": [
              "HBox(children=(FloatProgress(value=0.0, max=1638.0), HTML(value='')))"
            ]
          },
          "metadata": {
            "tags": []
          }
        },
        {
          "output_type": "stream",
          "text": [
            "\n",
            "0.8925518925518926\n",
            "0.9590964590964591\n",
            "0.9743589743589743\n",
            "0.2558672043866727\n"
          ],
          "name": "stdout"
        }
      ]
    },
    {
      "cell_type": "markdown",
      "metadata": {
        "id": "Gznx7H89RMCc"
      },
      "source": [
        "## DenseNet121"
      ]
    },
    {
      "cell_type": "code",
      "metadata": {
        "id": "N6Y4Nh12FA6H"
      },
      "source": [
        "# Load pruned DenseNet-121 and set global variable for modified_preprocess_function\r\n",
        "net='densenet'\r\n",
        "densenet = load_model('densenet40.h5')"
      ],
      "execution_count": null,
      "outputs": []
    },
    {
      "cell_type": "code",
      "metadata": {
        "id": "jhZ5RiJzl7bS",
        "colab": {
          "base_uri": "https://localhost:8080/"
        },
        "outputId": "263ce379-5b96-4036-a1de-e0e65ecff999"
      },
      "source": [
        "# TFlite without quantization\r\n",
        "model_to_TFlite_float32(densenet,'/content/densenet.tflite')\r\n",
        "size_densenet=os.stat('/content/densenet.tflite').st_size/MB\r\n",
        "print(size_densenet)"
      ],
      "execution_count": null,
      "outputs": [
        {
          "output_type": "stream",
          "text": [
            "INFO:tensorflow:Assets written to: /tmp/tmp7xfkyrv5/assets\n",
            "28.305224\n"
          ],
          "name": "stdout"
        }
      ]
    },
    {
      "cell_type": "code",
      "metadata": {
        "id": "0gs6xdjjl_3A",
        "colab": {
          "base_uri": "https://localhost:8080/"
        },
        "outputId": "8d4435df-416a-4d69-c748-bf2da116a8df"
      },
      "source": [
        "# TFlite with float16 quantization\r\n",
        "model_to_TFlite_float16(densenet,'/content/densenet_float16.tflite')\r\n",
        "size_densenet_float16=os.stat('/content/densenet_float16.tflite').st_size/MB\r\n",
        "print(size_densenet_float16)"
      ],
      "execution_count": null,
      "outputs": [
        {
          "output_type": "stream",
          "text": [
            "INFO:tensorflow:Assets written to: /tmp/tmp14czfant/assets\n"
          ],
          "name": "stdout"
        },
        {
          "output_type": "stream",
          "text": [
            "INFO:tensorflow:Assets written to: /tmp/tmp14czfant/assets\n"
          ],
          "name": "stderr"
        },
        {
          "output_type": "stream",
          "text": [
            "14.24648\n"
          ],
          "name": "stdout"
        }
      ]
    },
    {
      "cell_type": "code",
      "metadata": {
        "colab": {
          "base_uri": "https://localhost:8080/"
        },
        "id": "dXvFTUd0nroK",
        "outputId": "df2284f5-869c-46c3-efac-7228266b5527"
      },
      "source": [
        "# TFlite with dynamic range quantization\n",
        "model_to_TFlite_dynamic(densenet,'/content/densenet_dynamic.tflite')\n",
        "size_densenet_tflite_dynamic=os.stat('/content/densenet_dynamic.tflite').st_size/MB\n",
        "print(size_densenet_tflite_dynamic)"
      ],
      "execution_count": null,
      "outputs": [
        {
          "output_type": "stream",
          "text": [
            "INFO:tensorflow:Assets written to: /tmp/tmpnpbvz5w0/assets\n"
          ],
          "name": "stdout"
        },
        {
          "output_type": "stream",
          "text": [
            "INFO:tensorflow:Assets written to: /tmp/tmpnpbvz5w0/assets\n"
          ],
          "name": "stderr"
        },
        {
          "output_type": "stream",
          "text": [
            "7.596864\n"
          ],
          "name": "stdout"
        }
      ]
    },
    {
      "cell_type": "code",
      "metadata": {
        "id": "_-OC8PeKmHmo",
        "colab": {
          "base_uri": "https://localhost:8080/",
          "height": 168,
          "referenced_widgets": [
            "792beda885e24ee1b32e489e96b6e30a",
            "bed70e3fd78e42deb17bf70e6911b64f",
            "d63c4b009cc243778bb0d429150dfe2d",
            "a611a882ec664eec9a5b02df1afc4455",
            "5ba6f33cb6804b6da6c8e13c063214f8",
            "f06a47a9c5d74453b70f276cfce60306",
            "0f53ef1e0ffd40ee9d8dde9f651778b0",
            "50d9a11f9ec146f78415cb4b76fbde20"
          ]
        },
        "outputId": "46abe4ac-1cec-41cc-b9ba-95e340b442cc"
      },
      "source": [
        "# TFlite without quantization performance\r\n",
        "top1_dn, top3_dn, top5_dn, avg_time = tflite_performance(\"/content/densenet.tflite\", test, modified_preprocess)\r\n",
        "\r\n",
        "print(top1_dn)\r\n",
        "print(top3_dn)\r\n",
        "print(top5_dn)\r\n",
        "print(avg_time)"
      ],
      "execution_count": null,
      "outputs": [
        {
          "output_type": "stream",
          "text": [
            "Interpreter allocate...\n",
            "Start evaluation...\n"
          ],
          "name": "stdout"
        },
        {
          "output_type": "display_data",
          "data": {
            "application/vnd.jupyter.widget-view+json": {
              "model_id": "792beda885e24ee1b32e489e96b6e30a",
              "version_minor": 0,
              "version_major": 2
            },
            "text/plain": [
              "HBox(children=(FloatProgress(value=0.0, max=1638.0), HTML(value='')))"
            ]
          },
          "metadata": {
            "tags": []
          }
        },
        {
          "output_type": "stream",
          "text": [
            "\n",
            "0.9041514041514042\n",
            "0.9664224664224664\n",
            "0.9829059829059829\n",
            "0.11237390967079135\n"
          ],
          "name": "stdout"
        }
      ]
    },
    {
      "cell_type": "code",
      "metadata": {
        "colab": {
          "base_uri": "https://localhost:8080/",
          "height": 168,
          "referenced_widgets": [
            "3637eb4d20da4afeaba8643bcd23bc5f",
            "8cab76597580465baba1c746d1d70e3d",
            "ee620285d13c49968dc209f09a7e3dc9",
            "0647ccab35894c3b92852df1895c93a3",
            "c298ff79dc284644aec2ee3eecaa02b8",
            "3c5c22d240064fc69798cbe2043873cf",
            "5c5cd55c34154d28959d856195722ca6",
            "e9517a9116a047f4abd1365cc3b722d5"
          ]
        },
        "id": "7vBmaIZdn4DS",
        "outputId": "ba6c5537-f0c5-429a-c038-5eaad03897df"
      },
      "source": [
        "# TFlite with float16 quantization performance\n",
        "top1_dn, top3_dn, top5_dn, avg_time = tflite_performance(\"/content/densenet_float16.tflite\", test, modified_preprocess)\n",
        "\n",
        "print(top1_dn)\n",
        "print(top3_dn)\n",
        "print(top5_dn)\n",
        "print(avg_time)"
      ],
      "execution_count": null,
      "outputs": [
        {
          "output_type": "stream",
          "text": [
            "Interpreter allocate...\n",
            "Start evaluation...\n"
          ],
          "name": "stdout"
        },
        {
          "output_type": "display_data",
          "data": {
            "application/vnd.jupyter.widget-view+json": {
              "model_id": "3637eb4d20da4afeaba8643bcd23bc5f",
              "version_minor": 0,
              "version_major": 2
            },
            "text/plain": [
              "HBox(children=(FloatProgress(value=0.0, max=1638.0), HTML(value='')))"
            ]
          },
          "metadata": {
            "tags": []
          }
        },
        {
          "output_type": "stream",
          "text": [
            "\n",
            "0.9035409035409036\n",
            "0.9664224664224664\n",
            "0.9829059829059829\n",
            "0.11188813720139537\n"
          ],
          "name": "stdout"
        }
      ]
    },
    {
      "cell_type": "code",
      "metadata": {
        "colab": {
          "base_uri": "https://localhost:8080/",
          "height": 747,
          "referenced_widgets": [
            "1874dbfea11a45e1b204d98fae107d51",
            "afe563cbf8534cdaa1b334687ec54aea",
            "a4f1893423e3413aaed89caa853915e6",
            "8455ca5af8034e78895e4240a86b100e",
            "25b2a6bec83944b59a0ccf91b524a2b5",
            "e7140631ba064c9b935be714b021e0e8",
            "e56f9ff3b4ae4c1c88afcba30f193e5c",
            "8fd77772d1644d49949d20be30d903a0"
          ]
        },
        "id": "bl6f9XiBn6en",
        "outputId": "a7bbfa6d-9a34-4258-fd27-c6d2e846ddf0"
      },
      "source": [
        "# TFlite with dynamic range quantization performance\n",
        "top1_dn, top3_dn, top5_dn, avg_time = tflite_performance(\"/content/densenet_dynamic.tflite\", test, modified_preprocess)\n",
        "\n",
        "print(top1_dn)\n",
        "print(top3_dn)\n",
        "print(top5_dn)\n",
        "print(avg_time)"
      ],
      "execution_count": null,
      "outputs": [
        {
          "output_type": "stream",
          "text": [
            "Interpreter allocate...\n",
            "Start evaluation...\n"
          ],
          "name": "stdout"
        },
        {
          "output_type": "display_data",
          "data": {
            "application/vnd.jupyter.widget-view+json": {
              "model_id": "1874dbfea11a45e1b204d98fae107d51",
              "version_minor": 0,
              "version_major": 2
            },
            "text/plain": [
              "HBox(children=(FloatProgress(value=0.0, max=1638.0), HTML(value='')))"
            ]
          },
          "metadata": {
            "tags": []
          }
        },
        {
          "output_type": "stream",
          "text": [
            "7.353041887283325\n",
            "7.33837103843689\n",
            "7.329078197479248\n",
            "7.342390775680542\n",
            "7.384969234466553\n",
            "7.420409202575684\n",
            "7.372324466705322\n",
            "7.304019212722778\n",
            "7.384738206863403\n",
            "7.352729797363281\n",
            "7.327054023742676\n",
            "7.30651593208313\n",
            "7.3187830448150635\n",
            "7.345518350601196\n",
            "7.325922966003418\n",
            "7.343223810195923\n",
            "7.388835430145264\n"
          ],
          "name": "stdout"
        },
        {
          "output_type": "error",
          "ename": "KeyboardInterrupt",
          "evalue": "ignored",
          "traceback": [
            "\u001b[0;31m---------------------------------------------------------------------------\u001b[0m",
            "\u001b[0;31mKeyboardInterrupt\u001b[0m                         Traceback (most recent call last)",
            "\u001b[0;32m<ipython-input-31-8b8d9745b377>\u001b[0m in \u001b[0;36m<module>\u001b[0;34m()\u001b[0m\n\u001b[0;32m----> 1\u001b[0;31m \u001b[0mtop1_dn\u001b[0m\u001b[0;34m,\u001b[0m \u001b[0mtop3_dn\u001b[0m\u001b[0;34m,\u001b[0m \u001b[0mtop5_dn\u001b[0m\u001b[0;34m,\u001b[0m \u001b[0mavg_time\u001b[0m \u001b[0;34m=\u001b[0m \u001b[0mtflite_performance\u001b[0m\u001b[0;34m(\u001b[0m\u001b[0;34m\"/content/densenet_dynamic.tflite\"\u001b[0m\u001b[0;34m,\u001b[0m \u001b[0mtest\u001b[0m\u001b[0;34m,\u001b[0m \u001b[0mmodified_preprocess\u001b[0m\u001b[0;34m)\u001b[0m\u001b[0;34m\u001b[0m\u001b[0;34m\u001b[0m\u001b[0m\n\u001b[0m\u001b[1;32m      2\u001b[0m \u001b[0;34m\u001b[0m\u001b[0m\n\u001b[1;32m      3\u001b[0m \u001b[0mprint\u001b[0m\u001b[0;34m(\u001b[0m\u001b[0mtop1_dn\u001b[0m\u001b[0;34m)\u001b[0m\u001b[0;34m\u001b[0m\u001b[0;34m\u001b[0m\u001b[0m\n\u001b[1;32m      4\u001b[0m \u001b[0mprint\u001b[0m\u001b[0;34m(\u001b[0m\u001b[0mtop3_dn\u001b[0m\u001b[0;34m)\u001b[0m\u001b[0;34m\u001b[0m\u001b[0;34m\u001b[0m\u001b[0m\n\u001b[1;32m      5\u001b[0m \u001b[0mprint\u001b[0m\u001b[0;34m(\u001b[0m\u001b[0mtop5_dn\u001b[0m\u001b[0;34m)\u001b[0m\u001b[0;34m\u001b[0m\u001b[0;34m\u001b[0m\u001b[0m\n",
            "\u001b[0;32m<ipython-input-30-f7463b24d4d4>\u001b[0m in \u001b[0;36mtflite_performance\u001b[0;34m(model_path, test, preprocess)\u001b[0m\n\u001b[1;32m     50\u001b[0m \u001b[0;34m\u001b[0m\u001b[0m\n\u001b[1;32m     51\u001b[0m     \u001b[0mstart_time\u001b[0m \u001b[0;34m=\u001b[0m \u001b[0mtime\u001b[0m\u001b[0;34m.\u001b[0m\u001b[0mtime\u001b[0m\u001b[0;34m(\u001b[0m\u001b[0;34m)\u001b[0m\u001b[0;34m\u001b[0m\u001b[0;34m\u001b[0m\u001b[0m\n\u001b[0;32m---> 52\u001b[0;31m     \u001b[0minterpreter\u001b[0m\u001b[0;34m.\u001b[0m\u001b[0minvoke\u001b[0m\u001b[0;34m(\u001b[0m\u001b[0;34m)\u001b[0m\u001b[0;34m\u001b[0m\u001b[0;34m\u001b[0m\u001b[0m\n\u001b[0m\u001b[1;32m     53\u001b[0m     \u001b[0mexecution_time\u001b[0m \u001b[0;34m=\u001b[0m \u001b[0mtime\u001b[0m\u001b[0;34m.\u001b[0m\u001b[0mtime\u001b[0m\u001b[0;34m(\u001b[0m\u001b[0;34m)\u001b[0m \u001b[0;34m-\u001b[0m \u001b[0mstart_time\u001b[0m\u001b[0;34m\u001b[0m\u001b[0;34m\u001b[0m\u001b[0m\n\u001b[1;32m     54\u001b[0m     \u001b[0;31m# The function `get_tensor()` returns a copy of the tensor data.\u001b[0m\u001b[0;34m\u001b[0m\u001b[0;34m\u001b[0m\u001b[0;34m\u001b[0m\u001b[0m\n",
            "\u001b[0;32m/usr/local/lib/python3.6/dist-packages/tensorflow/lite/python/interpreter.py\u001b[0m in \u001b[0;36minvoke\u001b[0;34m(self)\u001b[0m\n\u001b[1;32m    538\u001b[0m     \"\"\"\n\u001b[1;32m    539\u001b[0m     \u001b[0mself\u001b[0m\u001b[0;34m.\u001b[0m\u001b[0m_ensure_safe\u001b[0m\u001b[0;34m(\u001b[0m\u001b[0;34m)\u001b[0m\u001b[0;34m\u001b[0m\u001b[0;34m\u001b[0m\u001b[0m\n\u001b[0;32m--> 540\u001b[0;31m     \u001b[0mself\u001b[0m\u001b[0;34m.\u001b[0m\u001b[0m_interpreter\u001b[0m\u001b[0;34m.\u001b[0m\u001b[0mInvoke\u001b[0m\u001b[0;34m(\u001b[0m\u001b[0;34m)\u001b[0m\u001b[0;34m\u001b[0m\u001b[0;34m\u001b[0m\u001b[0m\n\u001b[0m\u001b[1;32m    541\u001b[0m \u001b[0;34m\u001b[0m\u001b[0m\n\u001b[1;32m    542\u001b[0m   \u001b[0;32mdef\u001b[0m \u001b[0mreset_all_variables\u001b[0m\u001b[0;34m(\u001b[0m\u001b[0mself\u001b[0m\u001b[0;34m)\u001b[0m\u001b[0;34m:\u001b[0m\u001b[0;34m\u001b[0m\u001b[0;34m\u001b[0m\u001b[0m\n",
            "\u001b[0;31mKeyboardInterrupt\u001b[0m: "
          ]
        }
      ]
    },
    {
      "cell_type": "markdown",
      "metadata": {
        "id": "itrpXBpeRMIJ"
      },
      "source": [
        "## EfficientNetB0"
      ]
    },
    {
      "cell_type": "code",
      "metadata": {
        "id": "CkgPI5LnFFMU"
      },
      "source": [
        "# Load pruned EfficientNet-B0 and set global variable for modified_preprocess_function\r\n",
        "net='efficientnet'\r\n",
        "efficientnet = load_model('efficientnet30.h5')"
      ],
      "execution_count": null,
      "outputs": []
    },
    {
      "cell_type": "code",
      "metadata": {
        "colab": {
          "base_uri": "https://localhost:8080/"
        },
        "id": "gMUx6EzVUT0b",
        "outputId": "ce6d52c7-aaa8-457f-af97-c8b1cc09483a"
      },
      "source": [
        "# TFlite without quantization\n",
        "model_to_TFlite_float32(efficientnet,'/content/efficientnet.tflite')\n",
        "size_efficient=os.stat('/content/efficientnet.tflite').st_size/MB\n",
        "print(size_efficient)"
      ],
      "execution_count": null,
      "outputs": [
        {
          "output_type": "stream",
          "text": [
            "INFO:tensorflow:Assets written to: /tmp/tmp01pg9i00/assets\n"
          ],
          "name": "stdout"
        },
        {
          "output_type": "stream",
          "text": [
            "INFO:tensorflow:Assets written to: /tmp/tmp01pg9i00/assets\n"
          ],
          "name": "stderr"
        },
        {
          "output_type": "stream",
          "text": [
            "16.556152\n"
          ],
          "name": "stdout"
        }
      ]
    },
    {
      "cell_type": "code",
      "metadata": {
        "id": "ByFKu0FAmha3",
        "colab": {
          "base_uri": "https://localhost:8080/"
        },
        "outputId": "84a6f4cb-ab99-48c6-c77a-8a8d8df0d329"
      },
      "source": [
        "# TFlite with float16 quantization\r\n",
        "model_to_TFlite_float16(efficientnet,'/content/efficientnet_float16.tflite')\r\n",
        "size_efficient_float16=os.stat('/content/efficientnet_float16.tflite').st_size/MB\r\n",
        "print(size_efficient_float16)"
      ],
      "execution_count": null,
      "outputs": [
        {
          "output_type": "stream",
          "text": [
            "INFO:tensorflow:Assets written to: /tmp/tmp7y7w4tqs/assets\n"
          ],
          "name": "stdout"
        },
        {
          "output_type": "stream",
          "text": [
            "INFO:tensorflow:Assets written to: /tmp/tmp7y7w4tqs/assets\n"
          ],
          "name": "stderr"
        },
        {
          "output_type": "stream",
          "text": [
            "8.356032\n"
          ],
          "name": "stdout"
        }
      ]
    },
    {
      "cell_type": "code",
      "metadata": {
        "colab": {
          "base_uri": "https://localhost:8080/"
        },
        "id": "6lP2SisbU7Ec",
        "outputId": "fc4e44d4-99a5-4e57-a57f-c4ada1ee0ecc"
      },
      "source": [
        "# TFlite with dynamic range quantization\n",
        "model_to_TFlite_dynamic(efficientnet,'/content/efficientnet_dynamic.tflite')\n",
        "size_efficient_dynamic=os.stat('/content/efficientnet_dynamic.tflite').st_size/MB\n",
        "print(size_efficient_dynamic)"
      ],
      "execution_count": null,
      "outputs": [
        {
          "output_type": "stream",
          "text": [
            "INFO:tensorflow:Assets written to: /tmp/tmp0_g8yt77/assets\n"
          ],
          "name": "stdout"
        },
        {
          "output_type": "stream",
          "text": [
            "INFO:tensorflow:Assets written to: /tmp/tmp0_g8yt77/assets\n"
          ],
          "name": "stderr"
        },
        {
          "output_type": "stream",
          "text": [
            "4.92072\n"
          ],
          "name": "stdout"
        }
      ]
    },
    {
      "cell_type": "code",
      "metadata": {
        "colab": {
          "base_uri": "https://localhost:8080/",
          "height": 168,
          "referenced_widgets": [
            "2568596615ed421b8fe34a841b2cd81d",
            "b672f1e2f07d4525906ae09b86008396",
            "2332cf7f9dee4accb4f4dc1a7990f97e",
            "4626a7f5263a47f3b87dcf15bfafae59",
            "298538cc469941aa8069b60f69c8bac8",
            "569b785adfbf4c2ba92f1d3ffec07233",
            "7acc89dacbe2416082ddf8802e1babf5",
            "ffdf533eaacc40ada5154ec52fa40e32"
          ]
        },
        "id": "uNTxYMwMYkCu",
        "outputId": "ad279db3-b161-4ace-d83c-59daac9cd02c"
      },
      "source": [
        "# TFlite without quantization performance\n",
        "top1_en, top3_en, top5_en, avg_time = tflite_performance(\"/content/efficientnet.tflite\", test, modified_preprocess)\n",
        "\n",
        "print(top1_en)\n",
        "print(top3_en)\n",
        "print(top5_en)\n",
        "print(avg_time)"
      ],
      "execution_count": null,
      "outputs": [
        {
          "output_type": "stream",
          "text": [
            "Interpreter allocate...\n",
            "Start evaluation...\n"
          ],
          "name": "stdout"
        },
        {
          "output_type": "display_data",
          "data": {
            "application/vnd.jupyter.widget-view+json": {
              "model_id": "2568596615ed421b8fe34a841b2cd81d",
              "version_minor": 0,
              "version_major": 2
            },
            "text/plain": [
              "HBox(children=(FloatProgress(value=0.0, max=1638.0), HTML(value='')))"
            ]
          },
          "metadata": {
            "tags": []
          }
        },
        {
          "output_type": "stream",
          "text": [
            "\n",
            "0.9108669108669109\n",
            "0.9743589743589743\n",
            "0.9871794871794872\n",
            "0.08201528527070023\n"
          ],
          "name": "stdout"
        }
      ]
    },
    {
      "cell_type": "code",
      "metadata": {
        "colab": {
          "base_uri": "https://localhost:8080/",
          "height": 168,
          "referenced_widgets": [
            "bf23340dac2344559dfc8e745e92d6bc",
            "e9e1a4ecd5b148e7a7529aeca03bd8e9",
            "56806b942020448eb169c63901b73d50",
            "629edf9a844f4b85b1f1638ed77ec46e",
            "a955779698154c42b12b221b35234227",
            "c28f16c7a6eb4959a9eea210e72e8b42",
            "817657c5436b4d9e83237d99afab2e07",
            "a7ab14f7f8f74c0d835d3dee10d7f4a3"
          ]
        },
        "id": "QionYM5QXW8c",
        "outputId": "f88a05fa-dee1-41cc-d90c-40aada790ccc"
      },
      "source": [
        "# TFlite with float16 quantization performance\n",
        "top1_en, top3_en, top5_en, avg_time = tflite_performance(\"/content/efficientnet_float16.tflite\", test, modified_preprocess)\n",
        "\n",
        "print(top1_en)\n",
        "print(top3_en)\n",
        "print(top5_en)\n",
        "print(avg_time)"
      ],
      "execution_count": null,
      "outputs": [
        {
          "output_type": "stream",
          "text": [
            "Interpreter allocate...\n",
            "Start evaluation...\n"
          ],
          "name": "stdout"
        },
        {
          "output_type": "display_data",
          "data": {
            "application/vnd.jupyter.widget-view+json": {
              "model_id": "bf23340dac2344559dfc8e745e92d6bc",
              "version_minor": 0,
              "version_major": 2
            },
            "text/plain": [
              "HBox(children=(FloatProgress(value=0.0, max=1638.0), HTML(value='')))"
            ]
          },
          "metadata": {
            "tags": []
          }
        },
        {
          "output_type": "stream",
          "text": [
            "\n",
            "0.9114774114774115\n",
            "0.9743589743589743\n",
            "0.9871794871794872\n",
            "0.0813270813088423\n"
          ],
          "name": "stdout"
        }
      ]
    },
    {
      "cell_type": "code",
      "metadata": {
        "id": "M8nL0cbdmmcb",
        "colab": {
          "base_uri": "https://localhost:8080/",
          "height": 168,
          "referenced_widgets": [
            "1c8b66d7979447e9892f60dcc50e6e78",
            "0a113e64a5204030afb5307a3015d407",
            "94252401ab9740e2965bb0b22f56fe60",
            "a456b53cd27e4a499a195264cb2a5322",
            "169fe322810e458a8f6562d1121ddd5d",
            "d08f5419459b4b3ea2ab0a9985adb22c",
            "a7ed51759313412e895744f0c8e3d6b6",
            "912bb19d952f4f5a91494bede30cc70b"
          ]
        },
        "outputId": "8a9b9473-9f19-4a62-9b6f-80d3acf51bdf"
      },
      "source": [
        "# TFlite with dynamic range quantization performance\r\n",
        "top1_en, top3_en, top5_en, avg_time = tflite_performance(\"/content/efficientnet_dynamic.tflite\", test, modified_preprocess)\r\n",
        "\r\n",
        "print(top1_en)\r\n",
        "print(top3_en)\r\n",
        "print(top5_en)\r\n",
        "print(avg_time)"
      ],
      "execution_count": null,
      "outputs": [
        {
          "output_type": "stream",
          "text": [
            "Interpreter allocate...\n",
            "Start evaluation...\n"
          ],
          "name": "stdout"
        },
        {
          "output_type": "display_data",
          "data": {
            "application/vnd.jupyter.widget-view+json": {
              "model_id": "1c8b66d7979447e9892f60dcc50e6e78",
              "version_minor": 0,
              "version_major": 2
            },
            "text/plain": [
              "HBox(children=(FloatProgress(value=0.0, max=1638.0), HTML(value='')))"
            ]
          },
          "metadata": {
            "tags": []
          }
        },
        {
          "output_type": "stream",
          "text": [
            "\n",
            "0.9133089133089133\n",
            "0.9725274725274725\n",
            "0.9853479853479854\n",
            "1.1607421253772592\n"
          ],
          "name": "stdout"
        }
      ]
    },
    {
      "cell_type": "markdown",
      "metadata": {
        "id": "9MtTNJpSoYLp"
      },
      "source": [
        "## Quantized models comparison"
      ]
    },
    {
      "cell_type": "code",
      "metadata": {
        "colab": {
          "base_uri": "https://localhost:8080/",
          "height": 336
        },
        "id": "fYlMQfGBo5jY",
        "outputId": "0809f494-99a6-4a30-a3e5-92e6a77df593"
      },
      "source": [
        "# Plot quantized models size\n",
        "mn_float32 = os.stat('/content/mobilenet.h5').st_size/MB\n",
        "mn_float16 = os.stat('/content/mobilenet_float16.h5').st_size/MB\n",
        "mn_dynamic = os.stat('/content/mobilenet_dynamic.h5').st_size/MB\n",
        "\n",
        "dn_float32 = os.stat('/content/densenet.h5').st_size/MB\n",
        "dn_float16 = os.stat('/content/densenet_float16.h5').st_size/MB\n",
        "dn_dynamic = os.stat('/content/densenet_dynamic.h5').st_size/MB\n",
        "\n",
        "en_float32 = os.stat('/content/efficientnet.h5').st_size/MB\n",
        "en_float16 = os.stat('/content/efficientnet_float16.h5').st_size/MB\n",
        "en_dynamic = os.stat('/content/efficientnet_dynamic.h5').st_size/MB\n",
        "\n",
        "labels = ['MobileNetV2', 'EfficientNet-B0', 'DenseNet-121']\n",
        "mn = [mn_float32, mn_float16, mn_dynamic]\n",
        "dn = [dn_float32, dn_float16, dn_dynamic]\n",
        "en = [en_float32, en_float16, en_dynamic]\n",
        "plot_quantization_size(labels, mn, dn, en, \"quantization.eps\")"
      ],
      "execution_count": null,
      "outputs": [
        {
          "output_type": "stream",
          "text": [
            "WARNING:matplotlib.backends.backend_ps:The PostScript backend does not support transparency; partially transparent artists will be rendered opaque.\n",
            "WARNING:matplotlib.backends.backend_ps:The PostScript backend does not support transparency; partially transparent artists will be rendered opaque.\n"
          ],
          "name": "stderr"
        },
        {
          "output_type": "display_data",
          "data": {
            "image/png": "[encoded data removed]",
            "text/plain": [
              "<Figure size 576x288 with 1 Axes>"
            ]
          },
          "metadata": {
            "tags": [],
            "needs_background": "light"
          }
        }
      ]
    }
  ]
}